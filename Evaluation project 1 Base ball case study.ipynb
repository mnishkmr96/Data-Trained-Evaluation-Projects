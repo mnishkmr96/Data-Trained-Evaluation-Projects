{
 "cells": [
  {
   "cell_type": "markdown",
   "id": "df824a4c",
   "metadata": {},
   "source": [
    "# Baseball Case Study\n",
    "### Problem Statement:\n",
    "This dataset utilizes data from 2014 Major League Baseball seasons in order to develop an algorithm that predicts the number of wins for a given team in the 2015 season based on several different indicators of success. There are 16 different features that will be used as the inputs to the machine learning and the output will be a value that represents the number of wins. \n",
    "\n",
    "-- Input features: Runs, At Bats, Hits, Doubles, Triples, Homeruns, Walks, Strikeouts, Stolen Bases, Runs Allowed, Earned Runs, Earned Run Average (ERA), Shutouts, Saves, Complete Games and Errors\n",
    "\n",
    "-- Output: Number of predicted wins (W)"
   ]
  },
  {
   "cell_type": "markdown",
   "id": "d3f355c8",
   "metadata": {},
   "source": [
    "## First we are going to import all the important Libraries"
   ]
  },
  {
   "cell_type": "code",
   "execution_count": 2,
   "id": "014117a7",
   "metadata": {},
   "outputs": [],
   "source": [
    "import pandas as pd\n",
    "import numpy as np\n",
    "import matplotlib.pyplot as plt\n",
    "import seaborn as sns\n",
    "from sklearn.preprocessing import StandardScaler\n",
    "from sklearn.model_selection import train_test_split\n",
    "from sklearn.linear_model import LinearRegression, Ridge, Lasso, RidgeCV, LassoCV\n",
    "from sklearn.metrics import mean_squared_error, mean_absolute_error, r2_score\n",
    "import warnings\n",
    "warnings.filterwarnings('ignore')"
   ]
  },
  {
   "cell_type": "code",
   "execution_count": 3,
   "id": "8e776e36",
   "metadata": {},
   "outputs": [
    {
     "data": {
      "text/html": [
       "<div>\n",
       "<style scoped>\n",
       "    .dataframe tbody tr th:only-of-type {\n",
       "        vertical-align: middle;\n",
       "    }\n",
       "\n",
       "    .dataframe tbody tr th {\n",
       "        vertical-align: top;\n",
       "    }\n",
       "\n",
       "    .dataframe thead th {\n",
       "        text-align: right;\n",
       "    }\n",
       "</style>\n",
       "<table border=\"1\" class=\"dataframe\">\n",
       "  <thead>\n",
       "    <tr style=\"text-align: right;\">\n",
       "      <th></th>\n",
       "      <th>W</th>\n",
       "      <th>R</th>\n",
       "      <th>AB</th>\n",
       "      <th>H</th>\n",
       "      <th>2B</th>\n",
       "      <th>3B</th>\n",
       "      <th>HR</th>\n",
       "      <th>BB</th>\n",
       "      <th>SO</th>\n",
       "      <th>SB</th>\n",
       "      <th>RA</th>\n",
       "      <th>ER</th>\n",
       "      <th>ERA</th>\n",
       "      <th>CG</th>\n",
       "      <th>SHO</th>\n",
       "      <th>SV</th>\n",
       "      <th>E</th>\n",
       "    </tr>\n",
       "  </thead>\n",
       "  <tbody>\n",
       "    <tr>\n",
       "      <th>0</th>\n",
       "      <td>95</td>\n",
       "      <td>724</td>\n",
       "      <td>5575</td>\n",
       "      <td>1497</td>\n",
       "      <td>300</td>\n",
       "      <td>42</td>\n",
       "      <td>139</td>\n",
       "      <td>383</td>\n",
       "      <td>973</td>\n",
       "      <td>104</td>\n",
       "      <td>641</td>\n",
       "      <td>601</td>\n",
       "      <td>3.73</td>\n",
       "      <td>2</td>\n",
       "      <td>8</td>\n",
       "      <td>56</td>\n",
       "      <td>88</td>\n",
       "    </tr>\n",
       "    <tr>\n",
       "      <th>1</th>\n",
       "      <td>83</td>\n",
       "      <td>696</td>\n",
       "      <td>5467</td>\n",
       "      <td>1349</td>\n",
       "      <td>277</td>\n",
       "      <td>44</td>\n",
       "      <td>156</td>\n",
       "      <td>439</td>\n",
       "      <td>1264</td>\n",
       "      <td>70</td>\n",
       "      <td>700</td>\n",
       "      <td>653</td>\n",
       "      <td>4.07</td>\n",
       "      <td>2</td>\n",
       "      <td>12</td>\n",
       "      <td>45</td>\n",
       "      <td>86</td>\n",
       "    </tr>\n",
       "    <tr>\n",
       "      <th>2</th>\n",
       "      <td>81</td>\n",
       "      <td>669</td>\n",
       "      <td>5439</td>\n",
       "      <td>1395</td>\n",
       "      <td>303</td>\n",
       "      <td>29</td>\n",
       "      <td>141</td>\n",
       "      <td>533</td>\n",
       "      <td>1157</td>\n",
       "      <td>86</td>\n",
       "      <td>640</td>\n",
       "      <td>584</td>\n",
       "      <td>3.67</td>\n",
       "      <td>11</td>\n",
       "      <td>10</td>\n",
       "      <td>38</td>\n",
       "      <td>79</td>\n",
       "    </tr>\n",
       "    <tr>\n",
       "      <th>3</th>\n",
       "      <td>76</td>\n",
       "      <td>622</td>\n",
       "      <td>5533</td>\n",
       "      <td>1381</td>\n",
       "      <td>260</td>\n",
       "      <td>27</td>\n",
       "      <td>136</td>\n",
       "      <td>404</td>\n",
       "      <td>1231</td>\n",
       "      <td>68</td>\n",
       "      <td>701</td>\n",
       "      <td>643</td>\n",
       "      <td>3.98</td>\n",
       "      <td>7</td>\n",
       "      <td>9</td>\n",
       "      <td>37</td>\n",
       "      <td>101</td>\n",
       "    </tr>\n",
       "    <tr>\n",
       "      <th>4</th>\n",
       "      <td>74</td>\n",
       "      <td>689</td>\n",
       "      <td>5605</td>\n",
       "      <td>1515</td>\n",
       "      <td>289</td>\n",
       "      <td>49</td>\n",
       "      <td>151</td>\n",
       "      <td>455</td>\n",
       "      <td>1259</td>\n",
       "      <td>83</td>\n",
       "      <td>803</td>\n",
       "      <td>746</td>\n",
       "      <td>4.64</td>\n",
       "      <td>7</td>\n",
       "      <td>12</td>\n",
       "      <td>35</td>\n",
       "      <td>86</td>\n",
       "    </tr>\n",
       "    <tr>\n",
       "      <th>5</th>\n",
       "      <td>93</td>\n",
       "      <td>891</td>\n",
       "      <td>5509</td>\n",
       "      <td>1480</td>\n",
       "      <td>308</td>\n",
       "      <td>17</td>\n",
       "      <td>232</td>\n",
       "      <td>570</td>\n",
       "      <td>1151</td>\n",
       "      <td>88</td>\n",
       "      <td>670</td>\n",
       "      <td>609</td>\n",
       "      <td>3.80</td>\n",
       "      <td>7</td>\n",
       "      <td>10</td>\n",
       "      <td>34</td>\n",
       "      <td>88</td>\n",
       "    </tr>\n",
       "    <tr>\n",
       "      <th>6</th>\n",
       "      <td>87</td>\n",
       "      <td>764</td>\n",
       "      <td>5567</td>\n",
       "      <td>1397</td>\n",
       "      <td>272</td>\n",
       "      <td>19</td>\n",
       "      <td>212</td>\n",
       "      <td>554</td>\n",
       "      <td>1227</td>\n",
       "      <td>63</td>\n",
       "      <td>698</td>\n",
       "      <td>652</td>\n",
       "      <td>4.03</td>\n",
       "      <td>3</td>\n",
       "      <td>4</td>\n",
       "      <td>48</td>\n",
       "      <td>93</td>\n",
       "    </tr>\n",
       "    <tr>\n",
       "      <th>7</th>\n",
       "      <td>81</td>\n",
       "      <td>713</td>\n",
       "      <td>5485</td>\n",
       "      <td>1370</td>\n",
       "      <td>246</td>\n",
       "      <td>20</td>\n",
       "      <td>217</td>\n",
       "      <td>418</td>\n",
       "      <td>1331</td>\n",
       "      <td>44</td>\n",
       "      <td>693</td>\n",
       "      <td>646</td>\n",
       "      <td>4.05</td>\n",
       "      <td>0</td>\n",
       "      <td>10</td>\n",
       "      <td>43</td>\n",
       "      <td>77</td>\n",
       "    </tr>\n",
       "    <tr>\n",
       "      <th>8</th>\n",
       "      <td>80</td>\n",
       "      <td>644</td>\n",
       "      <td>5485</td>\n",
       "      <td>1383</td>\n",
       "      <td>278</td>\n",
       "      <td>32</td>\n",
       "      <td>167</td>\n",
       "      <td>436</td>\n",
       "      <td>1310</td>\n",
       "      <td>87</td>\n",
       "      <td>642</td>\n",
       "      <td>604</td>\n",
       "      <td>3.74</td>\n",
       "      <td>1</td>\n",
       "      <td>12</td>\n",
       "      <td>60</td>\n",
       "      <td>95</td>\n",
       "    </tr>\n",
       "    <tr>\n",
       "      <th>9</th>\n",
       "      <td>78</td>\n",
       "      <td>748</td>\n",
       "      <td>5640</td>\n",
       "      <td>1495</td>\n",
       "      <td>294</td>\n",
       "      <td>33</td>\n",
       "      <td>161</td>\n",
       "      <td>478</td>\n",
       "      <td>1148</td>\n",
       "      <td>71</td>\n",
       "      <td>753</td>\n",
       "      <td>694</td>\n",
       "      <td>4.31</td>\n",
       "      <td>3</td>\n",
       "      <td>10</td>\n",
       "      <td>40</td>\n",
       "      <td>97</td>\n",
       "    </tr>\n",
       "    <tr>\n",
       "      <th>10</th>\n",
       "      <td>88</td>\n",
       "      <td>751</td>\n",
       "      <td>5511</td>\n",
       "      <td>1419</td>\n",
       "      <td>279</td>\n",
       "      <td>32</td>\n",
       "      <td>172</td>\n",
       "      <td>503</td>\n",
       "      <td>1233</td>\n",
       "      <td>101</td>\n",
       "      <td>733</td>\n",
       "      <td>680</td>\n",
       "      <td>4.24</td>\n",
       "      <td>5</td>\n",
       "      <td>9</td>\n",
       "      <td>45</td>\n",
       "      <td>119</td>\n",
       "    </tr>\n",
       "    <tr>\n",
       "      <th>11</th>\n",
       "      <td>86</td>\n",
       "      <td>729</td>\n",
       "      <td>5459</td>\n",
       "      <td>1363</td>\n",
       "      <td>278</td>\n",
       "      <td>26</td>\n",
       "      <td>230</td>\n",
       "      <td>486</td>\n",
       "      <td>1392</td>\n",
       "      <td>121</td>\n",
       "      <td>618</td>\n",
       "      <td>572</td>\n",
       "      <td>3.57</td>\n",
       "      <td>5</td>\n",
       "      <td>13</td>\n",
       "      <td>39</td>\n",
       "      <td>85</td>\n",
       "    </tr>\n",
       "    <tr>\n",
       "      <th>12</th>\n",
       "      <td>85</td>\n",
       "      <td>661</td>\n",
       "      <td>5417</td>\n",
       "      <td>1331</td>\n",
       "      <td>243</td>\n",
       "      <td>21</td>\n",
       "      <td>176</td>\n",
       "      <td>435</td>\n",
       "      <td>1150</td>\n",
       "      <td>52</td>\n",
       "      <td>675</td>\n",
       "      <td>630</td>\n",
       "      <td>3.94</td>\n",
       "      <td>2</td>\n",
       "      <td>12</td>\n",
       "      <td>46</td>\n",
       "      <td>93</td>\n",
       "    </tr>\n",
       "    <tr>\n",
       "      <th>13</th>\n",
       "      <td>76</td>\n",
       "      <td>656</td>\n",
       "      <td>5544</td>\n",
       "      <td>1379</td>\n",
       "      <td>262</td>\n",
       "      <td>22</td>\n",
       "      <td>198</td>\n",
       "      <td>478</td>\n",
       "      <td>1336</td>\n",
       "      <td>69</td>\n",
       "      <td>726</td>\n",
       "      <td>677</td>\n",
       "      <td>4.16</td>\n",
       "      <td>6</td>\n",
       "      <td>12</td>\n",
       "      <td>45</td>\n",
       "      <td>94</td>\n",
       "    </tr>\n",
       "    <tr>\n",
       "      <th>14</th>\n",
       "      <td>68</td>\n",
       "      <td>694</td>\n",
       "      <td>5600</td>\n",
       "      <td>1405</td>\n",
       "      <td>277</td>\n",
       "      <td>46</td>\n",
       "      <td>146</td>\n",
       "      <td>475</td>\n",
       "      <td>1119</td>\n",
       "      <td>78</td>\n",
       "      <td>729</td>\n",
       "      <td>664</td>\n",
       "      <td>4.14</td>\n",
       "      <td>5</td>\n",
       "      <td>15</td>\n",
       "      <td>28</td>\n",
       "      <td>126</td>\n",
       "    </tr>\n",
       "    <tr>\n",
       "      <th>15</th>\n",
       "      <td>100</td>\n",
       "      <td>647</td>\n",
       "      <td>5484</td>\n",
       "      <td>1386</td>\n",
       "      <td>288</td>\n",
       "      <td>39</td>\n",
       "      <td>137</td>\n",
       "      <td>506</td>\n",
       "      <td>1267</td>\n",
       "      <td>69</td>\n",
       "      <td>525</td>\n",
       "      <td>478</td>\n",
       "      <td>2.94</td>\n",
       "      <td>1</td>\n",
       "      <td>15</td>\n",
       "      <td>62</td>\n",
       "      <td>96</td>\n",
       "    </tr>\n",
       "    <tr>\n",
       "      <th>16</th>\n",
       "      <td>98</td>\n",
       "      <td>697</td>\n",
       "      <td>5631</td>\n",
       "      <td>1462</td>\n",
       "      <td>292</td>\n",
       "      <td>27</td>\n",
       "      <td>140</td>\n",
       "      <td>461</td>\n",
       "      <td>1322</td>\n",
       "      <td>98</td>\n",
       "      <td>596</td>\n",
       "      <td>532</td>\n",
       "      <td>3.21</td>\n",
       "      <td>0</td>\n",
       "      <td>13</td>\n",
       "      <td>54</td>\n",
       "      <td>122</td>\n",
       "    </tr>\n",
       "    <tr>\n",
       "      <th>17</th>\n",
       "      <td>97</td>\n",
       "      <td>689</td>\n",
       "      <td>5491</td>\n",
       "      <td>1341</td>\n",
       "      <td>272</td>\n",
       "      <td>30</td>\n",
       "      <td>171</td>\n",
       "      <td>567</td>\n",
       "      <td>1518</td>\n",
       "      <td>95</td>\n",
       "      <td>608</td>\n",
       "      <td>546</td>\n",
       "      <td>3.36</td>\n",
       "      <td>6</td>\n",
       "      <td>21</td>\n",
       "      <td>48</td>\n",
       "      <td>111</td>\n",
       "    </tr>\n",
       "    <tr>\n",
       "      <th>18</th>\n",
       "      <td>68</td>\n",
       "      <td>655</td>\n",
       "      <td>5480</td>\n",
       "      <td>1378</td>\n",
       "      <td>274</td>\n",
       "      <td>34</td>\n",
       "      <td>145</td>\n",
       "      <td>412</td>\n",
       "      <td>1299</td>\n",
       "      <td>84</td>\n",
       "      <td>737</td>\n",
       "      <td>682</td>\n",
       "      <td>4.28</td>\n",
       "      <td>1</td>\n",
       "      <td>7</td>\n",
       "      <td>40</td>\n",
       "      <td>116</td>\n",
       "    </tr>\n",
       "    <tr>\n",
       "      <th>19</th>\n",
       "      <td>64</td>\n",
       "      <td>640</td>\n",
       "      <td>5571</td>\n",
       "      <td>1382</td>\n",
       "      <td>257</td>\n",
       "      <td>27</td>\n",
       "      <td>167</td>\n",
       "      <td>496</td>\n",
       "      <td>1255</td>\n",
       "      <td>134</td>\n",
       "      <td>754</td>\n",
       "      <td>700</td>\n",
       "      <td>4.33</td>\n",
       "      <td>2</td>\n",
       "      <td>8</td>\n",
       "      <td>35</td>\n",
       "      <td>90</td>\n",
       "    </tr>\n",
       "    <tr>\n",
       "      <th>20</th>\n",
       "      <td>90</td>\n",
       "      <td>683</td>\n",
       "      <td>5527</td>\n",
       "      <td>1351</td>\n",
       "      <td>295</td>\n",
       "      <td>17</td>\n",
       "      <td>177</td>\n",
       "      <td>488</td>\n",
       "      <td>1290</td>\n",
       "      <td>51</td>\n",
       "      <td>613</td>\n",
       "      <td>557</td>\n",
       "      <td>3.43</td>\n",
       "      <td>1</td>\n",
       "      <td>14</td>\n",
       "      <td>50</td>\n",
       "      <td>88</td>\n",
       "    </tr>\n",
       "    <tr>\n",
       "      <th>21</th>\n",
       "      <td>83</td>\n",
       "      <td>703</td>\n",
       "      <td>5428</td>\n",
       "      <td>1363</td>\n",
       "      <td>265</td>\n",
       "      <td>13</td>\n",
       "      <td>177</td>\n",
       "      <td>539</td>\n",
       "      <td>1344</td>\n",
       "      <td>57</td>\n",
       "      <td>635</td>\n",
       "      <td>577</td>\n",
       "      <td>3.62</td>\n",
       "      <td>4</td>\n",
       "      <td>13</td>\n",
       "      <td>41</td>\n",
       "      <td>90</td>\n",
       "    </tr>\n",
       "    <tr>\n",
       "      <th>22</th>\n",
       "      <td>71</td>\n",
       "      <td>613</td>\n",
       "      <td>5463</td>\n",
       "      <td>1420</td>\n",
       "      <td>236</td>\n",
       "      <td>40</td>\n",
       "      <td>120</td>\n",
       "      <td>375</td>\n",
       "      <td>1150</td>\n",
       "      <td>112</td>\n",
       "      <td>678</td>\n",
       "      <td>638</td>\n",
       "      <td>4.02</td>\n",
       "      <td>0</td>\n",
       "      <td>12</td>\n",
       "      <td>35</td>\n",
       "      <td>77</td>\n",
       "    </tr>\n",
       "    <tr>\n",
       "      <th>23</th>\n",
       "      <td>67</td>\n",
       "      <td>573</td>\n",
       "      <td>5420</td>\n",
       "      <td>1361</td>\n",
       "      <td>251</td>\n",
       "      <td>18</td>\n",
       "      <td>100</td>\n",
       "      <td>471</td>\n",
       "      <td>1107</td>\n",
       "      <td>69</td>\n",
       "      <td>760</td>\n",
       "      <td>698</td>\n",
       "      <td>4.41</td>\n",
       "      <td>3</td>\n",
       "      <td>10</td>\n",
       "      <td>44</td>\n",
       "      <td>90</td>\n",
       "    </tr>\n",
       "    <tr>\n",
       "      <th>24</th>\n",
       "      <td>63</td>\n",
       "      <td>626</td>\n",
       "      <td>5529</td>\n",
       "      <td>1374</td>\n",
       "      <td>272</td>\n",
       "      <td>37</td>\n",
       "      <td>130</td>\n",
       "      <td>387</td>\n",
       "      <td>1274</td>\n",
       "      <td>88</td>\n",
       "      <td>809</td>\n",
       "      <td>749</td>\n",
       "      <td>4.69</td>\n",
       "      <td>1</td>\n",
       "      <td>7</td>\n",
       "      <td>35</td>\n",
       "      <td>117</td>\n",
       "    </tr>\n",
       "    <tr>\n",
       "      <th>25</th>\n",
       "      <td>92</td>\n",
       "      <td>667</td>\n",
       "      <td>5385</td>\n",
       "      <td>1346</td>\n",
       "      <td>263</td>\n",
       "      <td>26</td>\n",
       "      <td>187</td>\n",
       "      <td>563</td>\n",
       "      <td>1258</td>\n",
       "      <td>59</td>\n",
       "      <td>595</td>\n",
       "      <td>553</td>\n",
       "      <td>3.44</td>\n",
       "      <td>6</td>\n",
       "      <td>21</td>\n",
       "      <td>47</td>\n",
       "      <td>75</td>\n",
       "    </tr>\n",
       "    <tr>\n",
       "      <th>26</th>\n",
       "      <td>84</td>\n",
       "      <td>696</td>\n",
       "      <td>5565</td>\n",
       "      <td>1486</td>\n",
       "      <td>288</td>\n",
       "      <td>39</td>\n",
       "      <td>136</td>\n",
       "      <td>457</td>\n",
       "      <td>1159</td>\n",
       "      <td>93</td>\n",
       "      <td>627</td>\n",
       "      <td>597</td>\n",
       "      <td>3.72</td>\n",
       "      <td>7</td>\n",
       "      <td>18</td>\n",
       "      <td>41</td>\n",
       "      <td>78</td>\n",
       "    </tr>\n",
       "    <tr>\n",
       "      <th>27</th>\n",
       "      <td>79</td>\n",
       "      <td>720</td>\n",
       "      <td>5649</td>\n",
       "      <td>1494</td>\n",
       "      <td>289</td>\n",
       "      <td>48</td>\n",
       "      <td>154</td>\n",
       "      <td>490</td>\n",
       "      <td>1312</td>\n",
       "      <td>132</td>\n",
       "      <td>713</td>\n",
       "      <td>659</td>\n",
       "      <td>4.04</td>\n",
       "      <td>1</td>\n",
       "      <td>12</td>\n",
       "      <td>44</td>\n",
       "      <td>86</td>\n",
       "    </tr>\n",
       "    <tr>\n",
       "      <th>28</th>\n",
       "      <td>74</td>\n",
       "      <td>650</td>\n",
       "      <td>5457</td>\n",
       "      <td>1324</td>\n",
       "      <td>260</td>\n",
       "      <td>36</td>\n",
       "      <td>148</td>\n",
       "      <td>426</td>\n",
       "      <td>1327</td>\n",
       "      <td>82</td>\n",
       "      <td>731</td>\n",
       "      <td>655</td>\n",
       "      <td>4.09</td>\n",
       "      <td>1</td>\n",
       "      <td>6</td>\n",
       "      <td>41</td>\n",
       "      <td>92</td>\n",
       "    </tr>\n",
       "    <tr>\n",
       "      <th>29</th>\n",
       "      <td>68</td>\n",
       "      <td>737</td>\n",
       "      <td>5572</td>\n",
       "      <td>1479</td>\n",
       "      <td>274</td>\n",
       "      <td>49</td>\n",
       "      <td>186</td>\n",
       "      <td>388</td>\n",
       "      <td>1283</td>\n",
       "      <td>97</td>\n",
       "      <td>844</td>\n",
       "      <td>799</td>\n",
       "      <td>5.04</td>\n",
       "      <td>4</td>\n",
       "      <td>4</td>\n",
       "      <td>36</td>\n",
       "      <td>95</td>\n",
       "    </tr>\n",
       "  </tbody>\n",
       "</table>\n",
       "</div>"
      ],
      "text/plain": [
       "      W    R    AB     H   2B  3B   HR   BB    SO   SB   RA   ER   ERA  CG  \\\n",
       "0    95  724  5575  1497  300  42  139  383   973  104  641  601  3.73   2   \n",
       "1    83  696  5467  1349  277  44  156  439  1264   70  700  653  4.07   2   \n",
       "2    81  669  5439  1395  303  29  141  533  1157   86  640  584  3.67  11   \n",
       "3    76  622  5533  1381  260  27  136  404  1231   68  701  643  3.98   7   \n",
       "4    74  689  5605  1515  289  49  151  455  1259   83  803  746  4.64   7   \n",
       "5    93  891  5509  1480  308  17  232  570  1151   88  670  609  3.80   7   \n",
       "6    87  764  5567  1397  272  19  212  554  1227   63  698  652  4.03   3   \n",
       "7    81  713  5485  1370  246  20  217  418  1331   44  693  646  4.05   0   \n",
       "8    80  644  5485  1383  278  32  167  436  1310   87  642  604  3.74   1   \n",
       "9    78  748  5640  1495  294  33  161  478  1148   71  753  694  4.31   3   \n",
       "10   88  751  5511  1419  279  32  172  503  1233  101  733  680  4.24   5   \n",
       "11   86  729  5459  1363  278  26  230  486  1392  121  618  572  3.57   5   \n",
       "12   85  661  5417  1331  243  21  176  435  1150   52  675  630  3.94   2   \n",
       "13   76  656  5544  1379  262  22  198  478  1336   69  726  677  4.16   6   \n",
       "14   68  694  5600  1405  277  46  146  475  1119   78  729  664  4.14   5   \n",
       "15  100  647  5484  1386  288  39  137  506  1267   69  525  478  2.94   1   \n",
       "16   98  697  5631  1462  292  27  140  461  1322   98  596  532  3.21   0   \n",
       "17   97  689  5491  1341  272  30  171  567  1518   95  608  546  3.36   6   \n",
       "18   68  655  5480  1378  274  34  145  412  1299   84  737  682  4.28   1   \n",
       "19   64  640  5571  1382  257  27  167  496  1255  134  754  700  4.33   2   \n",
       "20   90  683  5527  1351  295  17  177  488  1290   51  613  557  3.43   1   \n",
       "21   83  703  5428  1363  265  13  177  539  1344   57  635  577  3.62   4   \n",
       "22   71  613  5463  1420  236  40  120  375  1150  112  678  638  4.02   0   \n",
       "23   67  573  5420  1361  251  18  100  471  1107   69  760  698  4.41   3   \n",
       "24   63  626  5529  1374  272  37  130  387  1274   88  809  749  4.69   1   \n",
       "25   92  667  5385  1346  263  26  187  563  1258   59  595  553  3.44   6   \n",
       "26   84  696  5565  1486  288  39  136  457  1159   93  627  597  3.72   7   \n",
       "27   79  720  5649  1494  289  48  154  490  1312  132  713  659  4.04   1   \n",
       "28   74  650  5457  1324  260  36  148  426  1327   82  731  655  4.09   1   \n",
       "29   68  737  5572  1479  274  49  186  388  1283   97  844  799  5.04   4   \n",
       "\n",
       "    SHO  SV    E  \n",
       "0     8  56   88  \n",
       "1    12  45   86  \n",
       "2    10  38   79  \n",
       "3     9  37  101  \n",
       "4    12  35   86  \n",
       "5    10  34   88  \n",
       "6     4  48   93  \n",
       "7    10  43   77  \n",
       "8    12  60   95  \n",
       "9    10  40   97  \n",
       "10    9  45  119  \n",
       "11   13  39   85  \n",
       "12   12  46   93  \n",
       "13   12  45   94  \n",
       "14   15  28  126  \n",
       "15   15  62   96  \n",
       "16   13  54  122  \n",
       "17   21  48  111  \n",
       "18    7  40  116  \n",
       "19    8  35   90  \n",
       "20   14  50   88  \n",
       "21   13  41   90  \n",
       "22   12  35   77  \n",
       "23   10  44   90  \n",
       "24    7  35  117  \n",
       "25   21  47   75  \n",
       "26   18  41   78  \n",
       "27   12  44   86  \n",
       "28    6  41   92  \n",
       "29    4  36   95  "
      ]
     },
     "execution_count": 3,
     "metadata": {},
     "output_type": "execute_result"
    }
   ],
   "source": [
    "# Let's first import the data file of base ball case study\n",
    "baseball_data = pd.read_csv('baseball.csv')\n",
    "baseball_data"
   ]
  },
  {
   "cell_type": "markdown",
   "id": "caeb6759",
   "metadata": {},
   "source": [
    "# Exploratery Data Analysis\n",
    "\n",
    "Let's start the very first and most important in machine learning model building that is EDA(Exploratery Data Analysis)"
   ]
  },
  {
   "cell_type": "code",
   "execution_count": 4,
   "id": "2b0dcab4",
   "metadata": {},
   "outputs": [
    {
     "data": {
      "text/plain": [
       "(30, 17)"
      ]
     },
     "execution_count": 4,
     "metadata": {},
     "output_type": "execute_result"
    }
   ],
   "source": [
    "# checking the shape of data\n",
    "baseball_data.shape"
   ]
  },
  {
   "cell_type": "markdown",
   "id": "69ccfd1f",
   "metadata": {},
   "source": [
    "Interesting! The Base Ball data has only 30 rows and 17 columns, we will study each columns to see what these columns are all about later, first let's gather more information about the data."
   ]
  },
  {
   "cell_type": "code",
   "execution_count": 5,
   "id": "184926e0",
   "metadata": {},
   "outputs": [
    {
     "name": "stdout",
     "output_type": "stream",
     "text": [
      "<class 'pandas.core.frame.DataFrame'>\n",
      "RangeIndex: 30 entries, 0 to 29\n",
      "Data columns (total 17 columns):\n",
      " #   Column  Non-Null Count  Dtype  \n",
      "---  ------  --------------  -----  \n",
      " 0   W       30 non-null     int64  \n",
      " 1   R       30 non-null     int64  \n",
      " 2   AB      30 non-null     int64  \n",
      " 3   H       30 non-null     int64  \n",
      " 4   2B      30 non-null     int64  \n",
      " 5   3B      30 non-null     int64  \n",
      " 6   HR      30 non-null     int64  \n",
      " 7   BB      30 non-null     int64  \n",
      " 8   SO      30 non-null     int64  \n",
      " 9   SB      30 non-null     int64  \n",
      " 10  RA      30 non-null     int64  \n",
      " 11  ER      30 non-null     int64  \n",
      " 12  ERA     30 non-null     float64\n",
      " 13  CG      30 non-null     int64  \n",
      " 14  SHO     30 non-null     int64  \n",
      " 15  SV      30 non-null     int64  \n",
      " 16  E       30 non-null     int64  \n",
      "dtypes: float64(1), int64(16)\n",
      "memory usage: 4.1 KB\n"
     ]
    }
   ],
   "source": [
    "# checking the data set information\n",
    "baseball_data.info()"
   ]
  },
  {
   "cell_type": "markdown",
   "id": "e7757abd",
   "metadata": {},
   "source": [
    "With the help of dot info method we fetched some important information about the data. Let's discuss these:\n",
    "\n",
    "* We can see that all the columns have 30 ```non-null``` values, that means we do not have any missing values in our data set.\n",
    "* All the column's data type is integer accept ```ERA``` it has float data type.\n",
    "* no. of columns are 17.\n",
    "* no. of rows are 30."
   ]
  },
  {
   "cell_type": "code",
   "execution_count": 6,
   "id": "c46a8214",
   "metadata": {},
   "outputs": [
    {
     "data": {
      "text/plain": [
       "W      0\n",
       "R      0\n",
       "AB     0\n",
       "H      0\n",
       "2B     0\n",
       "3B     0\n",
       "HR     0\n",
       "BB     0\n",
       "SO     0\n",
       "SB     0\n",
       "RA     0\n",
       "ER     0\n",
       "ERA    0\n",
       "CG     0\n",
       "SHO    0\n",
       "SV     0\n",
       "E      0\n",
       "dtype: int64"
      ]
     },
     "execution_count": 6,
     "metadata": {},
     "output_type": "execute_result"
    }
   ],
   "source": [
    "# checking the null values in columns \n",
    "baseball_data.isnull().sum()"
   ]
  },
  {
   "cell_type": "code",
   "execution_count": 7,
   "id": "93160857",
   "metadata": {},
   "outputs": [
    {
     "data": {
      "text/plain": [
       "Index(['W', 'R', 'AB', 'H', '2B', '3B', 'HR', 'BB', 'SO', 'SB', 'RA', 'ER',\n",
       "       'ERA', 'CG', 'SHO', 'SV', 'E'],\n",
       "      dtype='object')"
      ]
     },
     "execution_count": 7,
     "metadata": {},
     "output_type": "execute_result"
    }
   ],
   "source": [
    "# list of all columns in data set\n",
    "baseball_data.columns"
   ]
  },
  {
   "cell_type": "markdown",
   "id": "d92b106b",
   "metadata": {},
   "source": [
    "Yeah! we do not have any null values in our data set."
   ]
  },
  {
   "cell_type": "markdown",
   "id": "8c979c75",
   "metadata": {},
   "source": [
    "So, while we have loaded the data set and checked for some information about the data, now let's look at the features of the data, let's discuss this:\n",
    "\n",
    "* **W (WIN)** = **WIN** Indicates the number of win a team have in the season, this coulmn is our Label data and it is a continuous data so here we can interpret that we need to build a regression model for this data set which will predict the numbers of win of the particular team.\n",
    "\n",
    "* **R (RUNS)** = **RUNS** columns tells us the data about total runs of a particular team in entire season. As we know the baseball game is all about the scoring runs, and the team who has higher runs in 9 innings wins the match. A player is awarded a run if he crosses the plate to score his team a run. When tallying runs scored, the way in which a player reached base is not considered. If a player reaches base by an error or a fielder's choice, as long as he comes around to score, he is still credited with a run. If a player enters the game as a pinch-runner and scores, he is also credited with a run.\n",
    "\n",
    "* **AB (AT-BATS)** = In baseball games **AT-BATS (AB)** is a batter's turn betting against pitcher. An official At-Bat comes when a better reaches bases via (1) a fielder's choice. (2) by hit. (3) by an error (4) put-out on a non-sacrifice. Also At-Bat is different from Plate appearence.\n",
    "\n",
    "* **H (HITS)** = **HIT** in baseball occurs when a batter strikes the ball into the fair territory and reaches base without an error or fielder's choice. There are four types of hits in baseball Singles, Doubles, Triples and Home Run.\n",
    "\n",
    "* **2B (DOUBLES)** = **DOUBLES** are basically a batter get when he hits the ball into play area and reaches the second base without the help of an intervening error or an attempt to put out another baserunner.\n",
    "\n",
    "* **3B (TRIPLES)** = **TRIPLES** are basically a batter get when he hits the ball into play area and reaches the 3rd base  without the help of an intervening error or attempt to put out another baserunner, this is a very rare in baseball as in attempts to reach 3rd base a batter covers almost 270 feet of running and most of the team is able to get the ball infield till the time a batter reaches the second base a triples are oftenly scored by a very fast runner batter and most of the time when batter hits the ball deeper into right field as it is hard to through the ball from right field to 3rd base.\n",
    "\n",
    "* **HR (HOMERUNS)** = **HOMERUNS** occurs when a batter hits a fair ball and scores without being put out or without an error. In almost every instances of a home run, a batter hits the ball in the air over the outfield fence in fair territory and the batter is awarded all four bases and any runner on base scores as well.\n",
    "\n",
    "* **BB (WALK or BASE ON BALLS)** = **WALK** occurs when pitcher throws four pitches out of the strike zone and hitter does not swing his bat in all 4 pitches in that case the hitter is awarded by the 1st base. He simply walks to the 1st base and another batter comes to the home plate for batting that's it is called a walk. Also note that when a picther throws the ball out of the strike zone and batter does not swing his bat it is considered as 1 ball and in for balls batter is awarded by a base that is why it's name is ***BASE ON BALLS***.\n",
    "\n",
    "* **SO (STRIKEOUTS)** = **STRIKE OUT** is basically a batter is out after 3 strikes that means when a pitcher throws 3 balls into the strike zone( a square size box whose hight is batter's knee to belt and width is the size of plate) strike could happen in other ways as well like if batter hits the ball into the foul zone then it's a strike if batter has 0 and 1 strike but if batter has 2 strikes already then hitting ball into foul zone won't count as strike.\n",
    "\n",
    "* **SB (STOLEN BASE)** = **STOLEN BASE** is a base score steel by the base runner, this happens when the base runner takes a base run which he is not entitled for while pitcher is taking a pickoff for throwing the ball or catcher is throwing ball back to picther or the ball is still in the hand of pitcher so in this case the ball is not hit by batter but the base runner some took a base run this is known as ***STOLEN BASE***.\n",
    "\n",
    "* **RA (RUNS ALLOWED)** = **RUNS ALLOWED** is every run scored(earned runs & unearned runs) against the defensive team regardless of how the runs has been scored is known as ***RUNS ALLOWED***.\n",
    "\n",
    "* **ER (EARNED RUNS)** = **EARNED RUNS** are the runs which is scores against the pitcher without the benefit of an error or a passed balls is known as ***EARNED RUNS***.\n",
    "\n",
    "* **ERA (EARNED RUNS AVERAGE)** = **EARNED RUNS AVERAGE** represents the number of earned runs a pitcher allowed per innings. This is a statistical tools for eavaluating the ptcher's performance.\n",
    "\n",
    "* **CG (COMPLETE GAMES)** = **COMPLETE GAMES** is a term which is earned by the picthers if they are the only pitcher who pitched in the entire innings of the game regardless of how long the game lasts. Complete games considered valuable in baseball because if a pitcher pitched the ball in entire game that means he really pitched well that is why he is allowed to pitch in entire game.\n",
    "\n",
    "* **SHO (SHUTOUT)** = **SHUTOUT** is again a term for picthers, the pitcher who pitched for his team in entire game and does not allow the opposition team to score is awarded as the ***SHUTOUT*** \n",
    "\n",
    "* **SV (SAVE)** = **SAVE** is awarded to the relief pitchers who finishes the game for winning team under certain circumstances (1) enters the game with leads no more than 3 runs and pitch at least one inning. (2) enters the game with tying run in the on-deck circle, at the plates or on the bases. (3) Pitch at least 3 innings. A pitcher can not receive a save and win in the same game.\n",
    "\n",
    "* **E (ERROR)** = **ERRORS** are given to the fielders if in the judgement of the official scorer fielder fails to convert an out on a play that an average player should have made. Fielders can also be given errors if the makes a poor play that allows one or more runners to advance on the bases. A batter does not necessarily need to reach base for a fielder to be given an error. If he drops a foul ball that extends an at-bat, that fielder can also be assessed an error."
   ]
  },
  {
   "cell_type": "code",
   "execution_count": 8,
   "id": "1776ca2b",
   "metadata": {},
   "outputs": [
    {
     "data": {
      "text/html": [
       "<div>\n",
       "<style scoped>\n",
       "    .dataframe tbody tr th:only-of-type {\n",
       "        vertical-align: middle;\n",
       "    }\n",
       "\n",
       "    .dataframe tbody tr th {\n",
       "        vertical-align: top;\n",
       "    }\n",
       "\n",
       "    .dataframe thead th {\n",
       "        text-align: right;\n",
       "    }\n",
       "</style>\n",
       "<table border=\"1\" class=\"dataframe\">\n",
       "  <thead>\n",
       "    <tr style=\"text-align: right;\">\n",
       "      <th></th>\n",
       "      <th>W</th>\n",
       "      <th>R</th>\n",
       "      <th>AB</th>\n",
       "      <th>H</th>\n",
       "      <th>2B</th>\n",
       "      <th>3B</th>\n",
       "      <th>HR</th>\n",
       "      <th>BB</th>\n",
       "      <th>SO</th>\n",
       "      <th>SB</th>\n",
       "      <th>RA</th>\n",
       "      <th>ER</th>\n",
       "      <th>ERA</th>\n",
       "      <th>CG</th>\n",
       "      <th>SHO</th>\n",
       "      <th>SV</th>\n",
       "      <th>E</th>\n",
       "    </tr>\n",
       "  </thead>\n",
       "  <tbody>\n",
       "    <tr>\n",
       "      <th>count</th>\n",
       "      <td>30.000000</td>\n",
       "      <td>30.000000</td>\n",
       "      <td>30.000000</td>\n",
       "      <td>30.000000</td>\n",
       "      <td>30.000000</td>\n",
       "      <td>30.000000</td>\n",
       "      <td>30.000000</td>\n",
       "      <td>30.000000</td>\n",
       "      <td>30.00000</td>\n",
       "      <td>30.000000</td>\n",
       "      <td>30.000000</td>\n",
       "      <td>30.000000</td>\n",
       "      <td>30.000000</td>\n",
       "      <td>30.000000</td>\n",
       "      <td>30.000000</td>\n",
       "      <td>30.000000</td>\n",
       "      <td>30.000000</td>\n",
       "    </tr>\n",
       "    <tr>\n",
       "      <th>mean</th>\n",
       "      <td>80.966667</td>\n",
       "      <td>688.233333</td>\n",
       "      <td>5516.266667</td>\n",
       "      <td>1403.533333</td>\n",
       "      <td>274.733333</td>\n",
       "      <td>31.300000</td>\n",
       "      <td>163.633333</td>\n",
       "      <td>469.100000</td>\n",
       "      <td>1248.20000</td>\n",
       "      <td>83.500000</td>\n",
       "      <td>688.233333</td>\n",
       "      <td>635.833333</td>\n",
       "      <td>3.956333</td>\n",
       "      <td>3.466667</td>\n",
       "      <td>11.300000</td>\n",
       "      <td>43.066667</td>\n",
       "      <td>94.333333</td>\n",
       "    </tr>\n",
       "    <tr>\n",
       "      <th>std</th>\n",
       "      <td>10.453455</td>\n",
       "      <td>58.761754</td>\n",
       "      <td>70.467372</td>\n",
       "      <td>57.140923</td>\n",
       "      <td>18.095405</td>\n",
       "      <td>10.452355</td>\n",
       "      <td>31.823309</td>\n",
       "      <td>57.053725</td>\n",
       "      <td>103.75947</td>\n",
       "      <td>22.815225</td>\n",
       "      <td>72.108005</td>\n",
       "      <td>70.140786</td>\n",
       "      <td>0.454089</td>\n",
       "      <td>2.763473</td>\n",
       "      <td>4.120177</td>\n",
       "      <td>7.869335</td>\n",
       "      <td>13.958889</td>\n",
       "    </tr>\n",
       "    <tr>\n",
       "      <th>min</th>\n",
       "      <td>63.000000</td>\n",
       "      <td>573.000000</td>\n",
       "      <td>5385.000000</td>\n",
       "      <td>1324.000000</td>\n",
       "      <td>236.000000</td>\n",
       "      <td>13.000000</td>\n",
       "      <td>100.000000</td>\n",
       "      <td>375.000000</td>\n",
       "      <td>973.00000</td>\n",
       "      <td>44.000000</td>\n",
       "      <td>525.000000</td>\n",
       "      <td>478.000000</td>\n",
       "      <td>2.940000</td>\n",
       "      <td>0.000000</td>\n",
       "      <td>4.000000</td>\n",
       "      <td>28.000000</td>\n",
       "      <td>75.000000</td>\n",
       "    </tr>\n",
       "    <tr>\n",
       "      <th>25%</th>\n",
       "      <td>74.000000</td>\n",
       "      <td>651.250000</td>\n",
       "      <td>5464.000000</td>\n",
       "      <td>1363.000000</td>\n",
       "      <td>262.250000</td>\n",
       "      <td>23.000000</td>\n",
       "      <td>140.250000</td>\n",
       "      <td>428.250000</td>\n",
       "      <td>1157.50000</td>\n",
       "      <td>69.000000</td>\n",
       "      <td>636.250000</td>\n",
       "      <td>587.250000</td>\n",
       "      <td>3.682500</td>\n",
       "      <td>1.000000</td>\n",
       "      <td>9.000000</td>\n",
       "      <td>37.250000</td>\n",
       "      <td>86.000000</td>\n",
       "    </tr>\n",
       "    <tr>\n",
       "      <th>50%</th>\n",
       "      <td>81.000000</td>\n",
       "      <td>689.000000</td>\n",
       "      <td>5510.000000</td>\n",
       "      <td>1382.500000</td>\n",
       "      <td>275.500000</td>\n",
       "      <td>31.000000</td>\n",
       "      <td>158.500000</td>\n",
       "      <td>473.000000</td>\n",
       "      <td>1261.50000</td>\n",
       "      <td>83.500000</td>\n",
       "      <td>695.500000</td>\n",
       "      <td>644.500000</td>\n",
       "      <td>4.025000</td>\n",
       "      <td>3.000000</td>\n",
       "      <td>12.000000</td>\n",
       "      <td>42.000000</td>\n",
       "      <td>91.000000</td>\n",
       "    </tr>\n",
       "    <tr>\n",
       "      <th>75%</th>\n",
       "      <td>87.750000</td>\n",
       "      <td>718.250000</td>\n",
       "      <td>5570.000000</td>\n",
       "      <td>1451.500000</td>\n",
       "      <td>288.750000</td>\n",
       "      <td>39.000000</td>\n",
       "      <td>177.000000</td>\n",
       "      <td>501.250000</td>\n",
       "      <td>1311.50000</td>\n",
       "      <td>96.500000</td>\n",
       "      <td>732.500000</td>\n",
       "      <td>679.250000</td>\n",
       "      <td>4.220000</td>\n",
       "      <td>5.750000</td>\n",
       "      <td>13.000000</td>\n",
       "      <td>46.750000</td>\n",
       "      <td>96.750000</td>\n",
       "    </tr>\n",
       "    <tr>\n",
       "      <th>max</th>\n",
       "      <td>100.000000</td>\n",
       "      <td>891.000000</td>\n",
       "      <td>5649.000000</td>\n",
       "      <td>1515.000000</td>\n",
       "      <td>308.000000</td>\n",
       "      <td>49.000000</td>\n",
       "      <td>232.000000</td>\n",
       "      <td>570.000000</td>\n",
       "      <td>1518.00000</td>\n",
       "      <td>134.000000</td>\n",
       "      <td>844.000000</td>\n",
       "      <td>799.000000</td>\n",
       "      <td>5.040000</td>\n",
       "      <td>11.000000</td>\n",
       "      <td>21.000000</td>\n",
       "      <td>62.000000</td>\n",
       "      <td>126.000000</td>\n",
       "    </tr>\n",
       "  </tbody>\n",
       "</table>\n",
       "</div>"
      ],
      "text/plain": [
       "                W           R           AB            H          2B  \\\n",
       "count   30.000000   30.000000    30.000000    30.000000   30.000000   \n",
       "mean    80.966667  688.233333  5516.266667  1403.533333  274.733333   \n",
       "std     10.453455   58.761754    70.467372    57.140923   18.095405   \n",
       "min     63.000000  573.000000  5385.000000  1324.000000  236.000000   \n",
       "25%     74.000000  651.250000  5464.000000  1363.000000  262.250000   \n",
       "50%     81.000000  689.000000  5510.000000  1382.500000  275.500000   \n",
       "75%     87.750000  718.250000  5570.000000  1451.500000  288.750000   \n",
       "max    100.000000  891.000000  5649.000000  1515.000000  308.000000   \n",
       "\n",
       "              3B          HR          BB          SO          SB          RA  \\\n",
       "count  30.000000   30.000000   30.000000    30.00000   30.000000   30.000000   \n",
       "mean   31.300000  163.633333  469.100000  1248.20000   83.500000  688.233333   \n",
       "std    10.452355   31.823309   57.053725   103.75947   22.815225   72.108005   \n",
       "min    13.000000  100.000000  375.000000   973.00000   44.000000  525.000000   \n",
       "25%    23.000000  140.250000  428.250000  1157.50000   69.000000  636.250000   \n",
       "50%    31.000000  158.500000  473.000000  1261.50000   83.500000  695.500000   \n",
       "75%    39.000000  177.000000  501.250000  1311.50000   96.500000  732.500000   \n",
       "max    49.000000  232.000000  570.000000  1518.00000  134.000000  844.000000   \n",
       "\n",
       "               ER        ERA         CG        SHO         SV           E  \n",
       "count   30.000000  30.000000  30.000000  30.000000  30.000000   30.000000  \n",
       "mean   635.833333   3.956333   3.466667  11.300000  43.066667   94.333333  \n",
       "std     70.140786   0.454089   2.763473   4.120177   7.869335   13.958889  \n",
       "min    478.000000   2.940000   0.000000   4.000000  28.000000   75.000000  \n",
       "25%    587.250000   3.682500   1.000000   9.000000  37.250000   86.000000  \n",
       "50%    644.500000   4.025000   3.000000  12.000000  42.000000   91.000000  \n",
       "75%    679.250000   4.220000   5.750000  13.000000  46.750000   96.750000  \n",
       "max    799.000000   5.040000  11.000000  21.000000  62.000000  126.000000  "
      ]
     },
     "execution_count": 8,
     "metadata": {},
     "output_type": "execute_result"
    }
   ],
   "source": [
    "# data description\n",
    "baseball_data.describe()"
   ]
  },
  {
   "cell_type": "markdown",
   "id": "5de49d1f",
   "metadata": {},
   "source": [
    "After analyzing some important statistics of our data by above description method it has been noted that the data distribution of our baseball dataset is neither much sorted nor too much messy. Most of the data is distributed normally althogh there is some outliers in data on both side positive and negative. I have noted down the columns which are little bit complicated in terms of data distribution. Those columns are:\n",
    "* **RUN** = This column has IQR gap 38 & 29 but 75% to max. gap is 173 and min. to 25% gap is 78 which shows data is more right skewed and also left skewed but less.\n",
    "* **STRIKEOUT** = This column's data is little bit disturbed as it has IQR gap 104 & 50 but min to 25% gap is 184 and 75% to max. gap is 207 which is more roght skewed and almost equally left skewed.\n",
    "* **COMPLETE GAMES** = This column has IQR gap of 2 and 2.75 but 75% to max. gap is 5.25 which right skewed and min. to 25% gap is 1 means not left skewed.\n",
    "* **SHUTOUTS** = this column has IQR gap is 3 & 1 and 75% to max. gap is 8 which is right skewed and min. to 25% gap is 5 means little bit left skewed.\n",
    "* **SAVES** = This column has IQR gap is 5 & 4 but min. to 25% gap is 9 and 75% to max. gap is 16 that means much skewed at right and also skewed to left.\n",
    "* **ERRORS** = This column has min t0 25% gap is 11 and IQR gap is 5 & 5 but 75& to max. gap is 28 that means upto 75% the data is kind of normal but skewed at right too much.\n",
    "\n",
    "Apart from these columns all the other columns are less complicated compare to these above mentioned column which we can consider a normal distribution.\n",
    "\n",
    "We will plot the distribution plot to further analyze the data distribution and will see what else we can find."
   ]
  },
  {
   "cell_type": "markdown",
   "id": "c90aa6f5",
   "metadata": {},
   "source": [
    "## Data visualization"
   ]
  },
  {
   "cell_type": "code",
   "execution_count": 9,
   "id": "53ca84a6",
   "metadata": {},
   "outputs": [
    {
     "data": {
      "image/png": "[encoded data removed]",
      "text/plain": [
       "<Figure size 1080x1440 with 17 Axes>"
      ]
     },
     "metadata": {
      "needs_background": "light"
     },
     "output_type": "display_data"
    }
   ],
   "source": [
    "# plotting a distribution plot of all the columns of dataset with for loop\n",
    "plt.figure(figsize = (15,20))\n",
    "plotnumber = 1\n",
    "\n",
    "for column in baseball_data:\n",
    "    if plotnumber<=18:\n",
    "        ax = plt.subplot(6,3,plotnumber)\n",
    "        sns.distplot(baseball_data[column])\n",
    "        plt.xlabel(column,fontsize=20)\n",
    "    plotnumber+=1\n",
    "plt.tight_layout()"
   ]
  },
  {
   "cell_type": "markdown",
   "id": "eafa981d",
   "metadata": {},
   "source": [
    "From the above Distribution plot we can see that almost all the column's data are normally distributed. What we interpreded about the skeweness throgh the data descriptions are some what true but we can see in the distribution plot that any columns does not have skeweness that much which is good for our data we will further check the outliers with the help of box plot if we will find any then we will deal with it."
   ]
  },
  {
   "cell_type": "code",
   "execution_count": 10,
   "id": "bda2c8e0",
   "metadata": {},
   "outputs": [
    {
     "data": {
      "image/png": "[encoded data removed]",
      "text/plain": [
       "<Figure size 1080x1440 with 17 Axes>"
      ]
     },
     "metadata": {
      "needs_background": "light"
     },
     "output_type": "display_data"
    }
   ],
   "source": [
    "# plotting box plot of all the columns in dataset with for loop\n",
    "plt.figure(figsize=(15,20))\n",
    "plotnumber=1\n",
    "\n",
    "for columns in baseball_data:\n",
    "    if plotnumber<=18:\n",
    "        ax = plt.subplot(6,3,plotnumber)\n",
    "        sns.boxplot(baseball_data[columns])\n",
    "        plt.xlabel(columns, fontsize=10)\n",
    "    plotnumber+=1\n",
    "plt.show()"
   ]
  },
  {
   "cell_type": "markdown",
   "id": "a0c71b96",
   "metadata": {},
   "source": [
    "Yeah! we are done with plotting the boxplot here are the results. We discussed 6 columns up there in data description that is \n",
    "* Run\n",
    "* Strikeout\n",
    "* Complete Games\n",
    "* Shutouts\n",
    "* Saves\n",
    "* Errors\n",
    "\n",
    "But here we have boxplot showing outliers in\n",
    "* Run\n",
    "* Earned Run Average\n",
    "* Shutouts\n",
    "* Saves\n",
    "* Errors\n",
    "\n",
    "So we didn't metntioned the **EARNED RUN AVERAGE** in outliers but it has outlier and we mentioned **STRIKEOUTS** & **COMPLETE GAMES** as having some outliers but boxplot is showing that the area we thought rightly or leftly skewed in these columns are covered under the 0 to 100% of data.\n",
    "\n",
    "So Now we have to deal with the outliers, first."
   ]
  },
  {
   "cell_type": "markdown",
   "id": "29ee2ea5",
   "metadata": {},
   "source": [
    "## Removing skewness with Power Transformers"
   ]
  },
  {
   "cell_type": "code",
   "execution_count": 32,
   "id": "31fac3e0",
   "metadata": {},
   "outputs": [],
   "source": [
    "# importing power_transform\n",
    "from sklearn.preprocessing import power_transform"
   ]
  },
  {
   "cell_type": "code",
   "execution_count": 33,
   "id": "21892baf",
   "metadata": {},
   "outputs": [],
   "source": [
    "# let's saperate the features and label\n",
    "x = baseball_data.drop(columns = 'W')\n",
    "y = baseball_data['W']"
   ]
  },
  {
   "cell_type": "code",
   "execution_count": 34,
   "id": "264ddaa8",
   "metadata": {},
   "outputs": [],
   "source": [
    "x_new = power_transform(x, method='yeo-johnson')   # yeo johnson method because 0 is present in CG column\n",
    "x_new = pd.DataFrame(x_new, columns=x.columns)"
   ]
  },
  {
   "cell_type": "code",
   "execution_count": 36,
   "id": "5568bfa1",
   "metadata": {},
   "outputs": [],
   "source": [
    "x = x_new"
   ]
  },
  {
   "cell_type": "code",
   "execution_count": 37,
   "id": "1d4674fc",
   "metadata": {},
   "outputs": [
    {
     "data": {
      "image/png": "[encoded data removed]",
      "text/plain": [
       "<Figure size 1080x1440 with 16 Axes>"
      ]
     },
     "metadata": {
      "needs_background": "light"
     },
     "output_type": "display_data"
    }
   ],
   "source": [
    "# plotting a distribution plot of all the columns of dataset with for loop\n",
    "plt.figure(figsize = (15,20))\n",
    "plotnumber = 1\n",
    "\n",
    "for column in x:\n",
    "    if plotnumber<=18:\n",
    "        ax = plt.subplot(6,3,plotnumber)\n",
    "        sns.distplot(x[column])\n",
    "        plt.xlabel(column,fontsize=20)\n",
    "    plotnumber+=1\n",
    "plt.tight_layout()"
   ]
  },
  {
   "cell_type": "markdown",
   "id": "16aff35b",
   "metadata": {},
   "source": [
    "Great! it looks very clear now that data of all the columns are now normally distributed. now we will check for the correlation with features to feature and label with the help of corr() method to check the relationship between features to features and at the same time relation between features to label"
   ]
  },
  {
   "cell_type": "markdown",
   "id": "00edfbb5",
   "metadata": {},
   "source": [
    "### Correlation of data"
   ]
  },
  {
   "cell_type": "code",
   "execution_count": 57,
   "id": "320d0db6",
   "metadata": {},
   "outputs": [
    {
     "data": {
      "text/html": [
       "<div>\n",
       "<style scoped>\n",
       "    .dataframe tbody tr th:only-of-type {\n",
       "        vertical-align: middle;\n",
       "    }\n",
       "\n",
       "    .dataframe tbody tr th {\n",
       "        vertical-align: top;\n",
       "    }\n",
       "\n",
       "    .dataframe thead th {\n",
       "        text-align: right;\n",
       "    }\n",
       "</style>\n",
       "<table border=\"1\" class=\"dataframe\">\n",
       "  <thead>\n",
       "    <tr style=\"text-align: right;\">\n",
       "      <th></th>\n",
       "      <th>W</th>\n",
       "      <th>R</th>\n",
       "      <th>AB</th>\n",
       "      <th>H</th>\n",
       "      <th>2B</th>\n",
       "      <th>3B</th>\n",
       "      <th>HR</th>\n",
       "      <th>BB</th>\n",
       "      <th>SO</th>\n",
       "      <th>SB</th>\n",
       "      <th>RA</th>\n",
       "      <th>ER</th>\n",
       "      <th>ERA</th>\n",
       "      <th>CG</th>\n",
       "      <th>SHO</th>\n",
       "      <th>SV</th>\n",
       "      <th>E</th>\n",
       "    </tr>\n",
       "  </thead>\n",
       "  <tbody>\n",
       "    <tr>\n",
       "      <th>W</th>\n",
       "      <td>1.000000</td>\n",
       "      <td>0.664613</td>\n",
       "      <td>0.027707</td>\n",
       "      <td>0.078970</td>\n",
       "      <td>0.501117</td>\n",
       "      <td>-0.060975</td>\n",
       "      <td>0.386591</td>\n",
       "      <td>0.054778</td>\n",
       "      <td>-0.112958</td>\n",
       "      <td>-0.259240</td>\n",
       "      <td>-0.707841</td>\n",
       "      <td>-0.684375</td>\n",
       "      <td>-0.707450</td>\n",
       "      <td>0.000958</td>\n",
       "      <td>0.157447</td>\n",
       "      <td>0.572890</td>\n",
       "      <td>-0.082535</td>\n",
       "    </tr>\n",
       "    <tr>\n",
       "      <th>R</th>\n",
       "      <td>0.664613</td>\n",
       "      <td>1.000000</td>\n",
       "      <td>0.469861</td>\n",
       "      <td>0.385690</td>\n",
       "      <td>0.535319</td>\n",
       "      <td>0.114559</td>\n",
       "      <td>0.594316</td>\n",
       "      <td>0.351671</td>\n",
       "      <td>0.121402</td>\n",
       "      <td>-0.025584</td>\n",
       "      <td>-0.212049</td>\n",
       "      <td>-0.187813</td>\n",
       "      <td>-0.227161</td>\n",
       "      <td>-0.007971</td>\n",
       "      <td>-0.048655</td>\n",
       "      <td>0.169558</td>\n",
       "      <td>-0.088541</td>\n",
       "    </tr>\n",
       "    <tr>\n",
       "      <th>AB</th>\n",
       "      <td>0.027707</td>\n",
       "      <td>0.469861</td>\n",
       "      <td>1.000000</td>\n",
       "      <td>0.781273</td>\n",
       "      <td>0.494489</td>\n",
       "      <td>0.464465</td>\n",
       "      <td>0.027794</td>\n",
       "      <td>0.069801</td>\n",
       "      <td>-0.091785</td>\n",
       "      <td>0.330095</td>\n",
       "      <td>0.348298</td>\n",
       "      <td>0.393995</td>\n",
       "      <td>0.317000</td>\n",
       "      <td>0.018335</td>\n",
       "      <td>-0.061948</td>\n",
       "      <td>-0.013010</td>\n",
       "      <td>0.163275</td>\n",
       "    </tr>\n",
       "    <tr>\n",
       "      <th>H</th>\n",
       "      <td>0.078970</td>\n",
       "      <td>0.385690</td>\n",
       "      <td>0.781273</td>\n",
       "      <td>1.000000</td>\n",
       "      <td>0.545859</td>\n",
       "      <td>0.651514</td>\n",
       "      <td>-0.278711</td>\n",
       "      <td>-0.084576</td>\n",
       "      <td>-0.406969</td>\n",
       "      <td>0.401832</td>\n",
       "      <td>0.203982</td>\n",
       "      <td>0.277340</td>\n",
       "      <td>0.249744</td>\n",
       "      <td>0.198161</td>\n",
       "      <td>0.161967</td>\n",
       "      <td>-0.073774</td>\n",
       "      <td>-0.181437</td>\n",
       "    </tr>\n",
       "    <tr>\n",
       "      <th>2B</th>\n",
       "      <td>0.501117</td>\n",
       "      <td>0.535319</td>\n",
       "      <td>0.494489</td>\n",
       "      <td>0.545859</td>\n",
       "      <td>1.000000</td>\n",
       "      <td>0.367722</td>\n",
       "      <td>-0.031140</td>\n",
       "      <td>0.315531</td>\n",
       "      <td>-0.148303</td>\n",
       "      <td>0.176088</td>\n",
       "      <td>-0.239770</td>\n",
       "      <td>-0.250479</td>\n",
       "      <td>-0.293325</td>\n",
       "      <td>0.393197</td>\n",
       "      <td>0.164514</td>\n",
       "      <td>0.249403</td>\n",
       "      <td>-0.042630</td>\n",
       "    </tr>\n",
       "    <tr>\n",
       "      <th>3B</th>\n",
       "      <td>-0.060975</td>\n",
       "      <td>0.114559</td>\n",
       "      <td>0.464465</td>\n",
       "      <td>0.651514</td>\n",
       "      <td>0.367722</td>\n",
       "      <td>1.000000</td>\n",
       "      <td>-0.419930</td>\n",
       "      <td>-0.427679</td>\n",
       "      <td>-0.213592</td>\n",
       "      <td>0.557762</td>\n",
       "      <td>0.242080</td>\n",
       "      <td>0.295701</td>\n",
       "      <td>0.278939</td>\n",
       "      <td>0.003651</td>\n",
       "      <td>0.119039</td>\n",
       "      <td>-0.101118</td>\n",
       "      <td>-0.257193</td>\n",
       "    </tr>\n",
       "    <tr>\n",
       "      <th>HR</th>\n",
       "      <td>0.386591</td>\n",
       "      <td>0.594316</td>\n",
       "      <td>0.027794</td>\n",
       "      <td>-0.278711</td>\n",
       "      <td>-0.031140</td>\n",
       "      <td>-0.419930</td>\n",
       "      <td>1.000000</td>\n",
       "      <td>0.364324</td>\n",
       "      <td>0.624167</td>\n",
       "      <td>-0.189567</td>\n",
       "      <td>-0.225423</td>\n",
       "      <td>-0.213640</td>\n",
       "      <td>-0.250566</td>\n",
       "      <td>-0.107611</td>\n",
       "      <td>-0.066284</td>\n",
       "      <td>0.143601</td>\n",
       "      <td>0.055023</td>\n",
       "    </tr>\n",
       "    <tr>\n",
       "      <th>BB</th>\n",
       "      <td>0.054778</td>\n",
       "      <td>0.351671</td>\n",
       "      <td>0.069801</td>\n",
       "      <td>-0.084576</td>\n",
       "      <td>0.315531</td>\n",
       "      <td>-0.427679</td>\n",
       "      <td>0.364324</td>\n",
       "      <td>1.000000</td>\n",
       "      <td>0.313191</td>\n",
       "      <td>-0.063280</td>\n",
       "      <td>-0.042415</td>\n",
       "      <td>-0.093157</td>\n",
       "      <td>-0.113309</td>\n",
       "      <td>0.356094</td>\n",
       "      <td>-0.051977</td>\n",
       "      <td>-0.101424</td>\n",
       "      <td>0.081413</td>\n",
       "    </tr>\n",
       "    <tr>\n",
       "      <th>SO</th>\n",
       "      <td>-0.112958</td>\n",
       "      <td>0.121402</td>\n",
       "      <td>-0.091785</td>\n",
       "      <td>-0.406969</td>\n",
       "      <td>-0.148303</td>\n",
       "      <td>-0.213592</td>\n",
       "      <td>0.624167</td>\n",
       "      <td>0.313191</td>\n",
       "      <td>1.000000</td>\n",
       "      <td>-0.046822</td>\n",
       "      <td>-0.020129</td>\n",
       "      <td>-0.071031</td>\n",
       "      <td>-0.102361</td>\n",
       "      <td>-0.081832</td>\n",
       "      <td>0.141591</td>\n",
       "      <td>-0.131985</td>\n",
       "      <td>0.061607</td>\n",
       "    </tr>\n",
       "    <tr>\n",
       "      <th>SB</th>\n",
       "      <td>-0.259240</td>\n",
       "      <td>-0.025584</td>\n",
       "      <td>0.330095</td>\n",
       "      <td>0.401832</td>\n",
       "      <td>0.176088</td>\n",
       "      <td>0.557762</td>\n",
       "      <td>-0.189567</td>\n",
       "      <td>-0.063280</td>\n",
       "      <td>-0.046822</td>\n",
       "      <td>1.000000</td>\n",
       "      <td>0.029920</td>\n",
       "      <td>0.068020</td>\n",
       "      <td>0.046978</td>\n",
       "      <td>-0.014465</td>\n",
       "      <td>0.027137</td>\n",
       "      <td>-0.220894</td>\n",
       "      <td>-0.235427</td>\n",
       "    </tr>\n",
       "    <tr>\n",
       "      <th>RA</th>\n",
       "      <td>-0.707841</td>\n",
       "      <td>-0.212049</td>\n",
       "      <td>0.348298</td>\n",
       "      <td>0.203982</td>\n",
       "      <td>-0.239770</td>\n",
       "      <td>0.242080</td>\n",
       "      <td>-0.225423</td>\n",
       "      <td>-0.042415</td>\n",
       "      <td>-0.020129</td>\n",
       "      <td>0.029920</td>\n",
       "      <td>1.000000</td>\n",
       "      <td>0.983885</td>\n",
       "      <td>0.980063</td>\n",
       "      <td>-0.036380</td>\n",
       "      <td>-0.399415</td>\n",
       "      <td>-0.395615</td>\n",
       "      <td>0.288011</td>\n",
       "    </tr>\n",
       "    <tr>\n",
       "      <th>ER</th>\n",
       "      <td>-0.684375</td>\n",
       "      <td>-0.187813</td>\n",
       "      <td>0.393995</td>\n",
       "      <td>0.277340</td>\n",
       "      <td>-0.250479</td>\n",
       "      <td>0.295701</td>\n",
       "      <td>-0.213640</td>\n",
       "      <td>-0.093157</td>\n",
       "      <td>-0.071031</td>\n",
       "      <td>0.068020</td>\n",
       "      <td>0.983885</td>\n",
       "      <td>1.000000</td>\n",
       "      <td>0.994219</td>\n",
       "      <td>-0.047825</td>\n",
       "      <td>-0.343991</td>\n",
       "      <td>-0.358481</td>\n",
       "      <td>0.236584</td>\n",
       "    </tr>\n",
       "    <tr>\n",
       "      <th>ERA</th>\n",
       "      <td>-0.707450</td>\n",
       "      <td>-0.227161</td>\n",
       "      <td>0.317000</td>\n",
       "      <td>0.249744</td>\n",
       "      <td>-0.293325</td>\n",
       "      <td>0.278939</td>\n",
       "      <td>-0.250566</td>\n",
       "      <td>-0.113309</td>\n",
       "      <td>-0.102361</td>\n",
       "      <td>0.046978</td>\n",
       "      <td>0.980063</td>\n",
       "      <td>0.994219</td>\n",
       "      <td>1.000000</td>\n",
       "      <td>-0.043465</td>\n",
       "      <td>-0.339501</td>\n",
       "      <td>-0.390302</td>\n",
       "      <td>0.191023</td>\n",
       "    </tr>\n",
       "    <tr>\n",
       "      <th>CG</th>\n",
       "      <td>0.000958</td>\n",
       "      <td>-0.007971</td>\n",
       "      <td>0.018335</td>\n",
       "      <td>0.198161</td>\n",
       "      <td>0.393197</td>\n",
       "      <td>0.003651</td>\n",
       "      <td>-0.107611</td>\n",
       "      <td>0.356094</td>\n",
       "      <td>-0.081832</td>\n",
       "      <td>-0.014465</td>\n",
       "      <td>-0.036380</td>\n",
       "      <td>-0.047825</td>\n",
       "      <td>-0.043465</td>\n",
       "      <td>1.000000</td>\n",
       "      <td>0.181304</td>\n",
       "      <td>-0.384070</td>\n",
       "      <td>-0.035045</td>\n",
       "    </tr>\n",
       "    <tr>\n",
       "      <th>SHO</th>\n",
       "      <td>0.157447</td>\n",
       "      <td>-0.048655</td>\n",
       "      <td>-0.061948</td>\n",
       "      <td>0.161967</td>\n",
       "      <td>0.164514</td>\n",
       "      <td>0.119039</td>\n",
       "      <td>-0.066284</td>\n",
       "      <td>-0.051977</td>\n",
       "      <td>0.141591</td>\n",
       "      <td>0.027137</td>\n",
       "      <td>-0.399415</td>\n",
       "      <td>-0.343991</td>\n",
       "      <td>-0.339501</td>\n",
       "      <td>0.181304</td>\n",
       "      <td>1.000000</td>\n",
       "      <td>-0.043457</td>\n",
       "      <td>-0.385801</td>\n",
       "    </tr>\n",
       "    <tr>\n",
       "      <th>SV</th>\n",
       "      <td>0.572890</td>\n",
       "      <td>0.169558</td>\n",
       "      <td>-0.013010</td>\n",
       "      <td>-0.073774</td>\n",
       "      <td>0.249403</td>\n",
       "      <td>-0.101118</td>\n",
       "      <td>0.143601</td>\n",
       "      <td>-0.101424</td>\n",
       "      <td>-0.131985</td>\n",
       "      <td>-0.220894</td>\n",
       "      <td>-0.395615</td>\n",
       "      <td>-0.358481</td>\n",
       "      <td>-0.390302</td>\n",
       "      <td>-0.384070</td>\n",
       "      <td>-0.043457</td>\n",
       "      <td>1.000000</td>\n",
       "      <td>0.252619</td>\n",
       "    </tr>\n",
       "    <tr>\n",
       "      <th>E</th>\n",
       "      <td>-0.082535</td>\n",
       "      <td>-0.088541</td>\n",
       "      <td>0.163275</td>\n",
       "      <td>-0.181437</td>\n",
       "      <td>-0.042630</td>\n",
       "      <td>-0.257193</td>\n",
       "      <td>0.055023</td>\n",
       "      <td>0.081413</td>\n",
       "      <td>0.061607</td>\n",
       "      <td>-0.235427</td>\n",
       "      <td>0.288011</td>\n",
       "      <td>0.236584</td>\n",
       "      <td>0.191023</td>\n",
       "      <td>-0.035045</td>\n",
       "      <td>-0.385801</td>\n",
       "      <td>0.252619</td>\n",
       "      <td>1.000000</td>\n",
       "    </tr>\n",
       "  </tbody>\n",
       "</table>\n",
       "</div>"
      ],
      "text/plain": [
       "            W         R        AB         H        2B        3B        HR  \\\n",
       "W    1.000000  0.664613  0.027707  0.078970  0.501117 -0.060975  0.386591   \n",
       "R    0.664613  1.000000  0.469861  0.385690  0.535319  0.114559  0.594316   \n",
       "AB   0.027707  0.469861  1.000000  0.781273  0.494489  0.464465  0.027794   \n",
       "H    0.078970  0.385690  0.781273  1.000000  0.545859  0.651514 -0.278711   \n",
       "2B   0.501117  0.535319  0.494489  0.545859  1.000000  0.367722 -0.031140   \n",
       "3B  -0.060975  0.114559  0.464465  0.651514  0.367722  1.000000 -0.419930   \n",
       "HR   0.386591  0.594316  0.027794 -0.278711 -0.031140 -0.419930  1.000000   \n",
       "BB   0.054778  0.351671  0.069801 -0.084576  0.315531 -0.427679  0.364324   \n",
       "SO  -0.112958  0.121402 -0.091785 -0.406969 -0.148303 -0.213592  0.624167   \n",
       "SB  -0.259240 -0.025584  0.330095  0.401832  0.176088  0.557762 -0.189567   \n",
       "RA  -0.707841 -0.212049  0.348298  0.203982 -0.239770  0.242080 -0.225423   \n",
       "ER  -0.684375 -0.187813  0.393995  0.277340 -0.250479  0.295701 -0.213640   \n",
       "ERA -0.707450 -0.227161  0.317000  0.249744 -0.293325  0.278939 -0.250566   \n",
       "CG   0.000958 -0.007971  0.018335  0.198161  0.393197  0.003651 -0.107611   \n",
       "SHO  0.157447 -0.048655 -0.061948  0.161967  0.164514  0.119039 -0.066284   \n",
       "SV   0.572890  0.169558 -0.013010 -0.073774  0.249403 -0.101118  0.143601   \n",
       "E   -0.082535 -0.088541  0.163275 -0.181437 -0.042630 -0.257193  0.055023   \n",
       "\n",
       "           BB        SO        SB        RA        ER       ERA        CG  \\\n",
       "W    0.054778 -0.112958 -0.259240 -0.707841 -0.684375 -0.707450  0.000958   \n",
       "R    0.351671  0.121402 -0.025584 -0.212049 -0.187813 -0.227161 -0.007971   \n",
       "AB   0.069801 -0.091785  0.330095  0.348298  0.393995  0.317000  0.018335   \n",
       "H   -0.084576 -0.406969  0.401832  0.203982  0.277340  0.249744  0.198161   \n",
       "2B   0.315531 -0.148303  0.176088 -0.239770 -0.250479 -0.293325  0.393197   \n",
       "3B  -0.427679 -0.213592  0.557762  0.242080  0.295701  0.278939  0.003651   \n",
       "HR   0.364324  0.624167 -0.189567 -0.225423 -0.213640 -0.250566 -0.107611   \n",
       "BB   1.000000  0.313191 -0.063280 -0.042415 -0.093157 -0.113309  0.356094   \n",
       "SO   0.313191  1.000000 -0.046822 -0.020129 -0.071031 -0.102361 -0.081832   \n",
       "SB  -0.063280 -0.046822  1.000000  0.029920  0.068020  0.046978 -0.014465   \n",
       "RA  -0.042415 -0.020129  0.029920  1.000000  0.983885  0.980063 -0.036380   \n",
       "ER  -0.093157 -0.071031  0.068020  0.983885  1.000000  0.994219 -0.047825   \n",
       "ERA -0.113309 -0.102361  0.046978  0.980063  0.994219  1.000000 -0.043465   \n",
       "CG   0.356094 -0.081832 -0.014465 -0.036380 -0.047825 -0.043465  1.000000   \n",
       "SHO -0.051977  0.141591  0.027137 -0.399415 -0.343991 -0.339501  0.181304   \n",
       "SV  -0.101424 -0.131985 -0.220894 -0.395615 -0.358481 -0.390302 -0.384070   \n",
       "E    0.081413  0.061607 -0.235427  0.288011  0.236584  0.191023 -0.035045   \n",
       "\n",
       "          SHO        SV         E  \n",
       "W    0.157447  0.572890 -0.082535  \n",
       "R   -0.048655  0.169558 -0.088541  \n",
       "AB  -0.061948 -0.013010  0.163275  \n",
       "H    0.161967 -0.073774 -0.181437  \n",
       "2B   0.164514  0.249403 -0.042630  \n",
       "3B   0.119039 -0.101118 -0.257193  \n",
       "HR  -0.066284  0.143601  0.055023  \n",
       "BB  -0.051977 -0.101424  0.081413  \n",
       "SO   0.141591 -0.131985  0.061607  \n",
       "SB   0.027137 -0.220894 -0.235427  \n",
       "RA  -0.399415 -0.395615  0.288011  \n",
       "ER  -0.343991 -0.358481  0.236584  \n",
       "ERA -0.339501 -0.390302  0.191023  \n",
       "CG   0.181304 -0.384070 -0.035045  \n",
       "SHO  1.000000 -0.043457 -0.385801  \n",
       "SV  -0.043457  1.000000  0.252619  \n",
       "E   -0.385801  0.252619  1.000000  "
      ]
     },
     "execution_count": 57,
     "metadata": {},
     "output_type": "execute_result"
    }
   ],
   "source": [
    "baseball_data.corr()"
   ]
  },
  {
   "cell_type": "markdown",
   "id": "f072c05a",
   "metadata": {},
   "source": [
    "From above correlation table it can be seen that the relationship between feature to feature and feature to label is quite normal few things to be noticed here is:\n",
    "* relationship between CG and W is 0.095% which is very less that means CG has not much value in terms of predicting the wins but we will not drop this column right here we will build our model with this data set if there would be less accuracy in our model then we will come here again and will build the model after droping this column\n",
    "\n",
    "* Relationship between ER to ERA is very high that is 99.42% almost equal to 1 that is quite relatable as both columns are complementry to each other one is Earned Runs and another is Earned run average. so that's okay we will not do anything now first let's build the models then we will see if we can do anything here with them.\n",
    "\n",
    "* Relationship of RA with ER and ERA is also very high that is 98% with both ER and ERA, these 3 points came into notice and we have noted it down for further use if need.\n",
    "\n",
    "For now, it looks like our data is ready for model building, so let's build the model!"
   ]
  },
  {
   "cell_type": "markdown",
   "id": "62152aab",
   "metadata": {},
   "source": [
    "# Model Building \n",
    "\n",
    "We will standardise our feature data for using ```Standard Scaler``` after that we will divide our dataset into train data and test data.\n",
    "\n",
    "## Preprocessing"
   ]
  },
  {
   "cell_type": "markdown",
   "id": "73986e60",
   "metadata": {},
   "source": [
    "### Standard Scaler"
   ]
  },
  {
   "cell_type": "code",
   "execution_count": 38,
   "id": "15863859",
   "metadata": {},
   "outputs": [
    {
     "data": {
      "text/plain": [
       "array([[ 0.        ,  0.        ,  0.        ,  1.47768528,  1.03310301,\n",
       "        -0.76462586, -1.61091476, -2.56989562,  0.93970819, -0.66033096,\n",
       "        -0.49742469, -0.50089346, -0.35984364, -0.78957937,  1.546378  ,\n",
       "        -0.3349525 ],\n",
       "       [ 0.        ,  0.        ,  0.        ,  0.08426878,  1.2033202 ,\n",
       "        -0.15858141, -0.50274883,  0.13491294, -0.53969308,  0.17546536,\n",
       "         0.25797351,  0.26180619, -0.35984364,  0.25177537,  0.36044386,\n",
       "        -0.53221128],\n",
       "       [ 0.        ,  0.        ,  0.        ,  1.67078208, -0.16026987,\n",
       "        -0.68967629,  1.1282937 , -0.90125379,  0.2119555 , -0.67462053,\n",
       "        -0.74690639, -0.63645949,  1.99351257, -0.24539345, -0.6075936 ,\n",
       "        -1.34233137],\n",
       "       [ 0.        ,  0.        ,  0.        , -0.84859969, -0.36052064,\n",
       "        -0.8790486 , -1.18120722, -0.1896282 , -0.64256433,  0.18951225,\n",
       "         0.11357524,  0.06080381,  1.22010317, -0.51075929, -0.76445333,\n",
       "         0.67852361],\n",
       "       [ 0.        ,  0.        ,  0.        ,  0.79218291,  1.61644394,\n",
       "        -0.3298501 , -0.20677062,  0.08545863,  0.07962852,  1.6032282 ,\n",
       "         1.5826538 ,  1.52095856,  1.22010317,  0.25177537, -1.09501024,\n",
       "        -0.53221128],\n",
       "       [ 0.        ,  0.        ,  0.        ,  1.99850636, -1.4610616 ,\n",
       "         1.93785984,  1.7080669 , -0.95796004,  0.29823789, -0.24775668,\n",
       "        -0.38046418, -0.34310973,  1.22010317, -0.24539345, -1.26943834,\n",
       "        -0.3349525 ],\n",
       "       [ 0.        ,  0.        ,  0.        , -0.19855793, -1.22491064,\n",
       "         1.46009864,  1.46112104, -0.22866778, -0.91015416,  0.14736005,\n",
       "         0.24355176,  0.17254893,  0.06463007, -2.09932639,  0.71808189,\n",
       "         0.10453866],\n",
       "       [ 0.        ,  0.        ,  0.        , -1.55645436, -1.11030224,\n",
       "         1.58355136, -0.90445022,  0.80717417, -2.10289743,  0.07702925,\n",
       "         0.15693705,  0.2171929 , -1.72988948, -0.24539345,  0.10460573,\n",
       "        -1.61455012],\n",
       "       [ 0.        ,  0.        ,  0.        ,  0.1416866 ,  0.130611  ,\n",
       "         0.20005848, -0.55919142,  0.59456066,  0.25528505, -0.64604565,\n",
       "        -0.45353173, -0.47832824, -0.90918054,  0.25177537,  1.90547983,\n",
       "         0.26150364],\n",
       "       [ 0.        ,  0.        ,  0.        ,  1.09940491,  0.2252559 ,\n",
       "         0.00740376,  0.20459864, -0.98625666, -0.4890904 ,  0.9148155 ,\n",
       "         0.84591008,  0.79482258,  0.06463007, -0.24539345, -0.30910856,\n",
       "         0.4090036 ],\n",
       "       [ 0.        ,  0.        ,  0.        ,  0.1993895 ,  0.130611  ,\n",
       "         0.35550255,  0.63434931, -0.17008409,  0.82545098,  0.63702368,\n",
       "         0.64587575,  0.6397999 ,  0.71644471, -0.51075929,  0.36044386,\n",
       "         1.57772533],\n",
       "       [ 0.        ,  0.        ,  0.        ,  0.1416866 , -0.46273161,\n",
       "         1.89193722,  0.34401438,  1.43447471,  1.54360946, -0.99008598,\n",
       "        -0.92380051, -0.86307791,  0.71644471,  0.48616028, -0.45590999,\n",
       "        -0.63601435],\n",
       "       [ 0.        ,  0.        ,  0.        , -1.70115949, -0.9978016 ,\n",
       "         0.47670831, -0.57807386, -0.96739644, -1.56087959, -0.17697199,\n",
       "        -0.07475111, -0.02873255, -0.35984364,  0.25177537,  0.48296759,\n",
       "         0.10453866],\n",
       "       [ 0.        ,  0.        ,  0.        , -0.74305731, -0.88727666,\n",
       "         1.09863616,  0.20459864,  0.85805048, -0.5908464 ,  0.53945546,\n",
       "         0.60291486,  0.46219   ,  0.98187374,  0.25177537,  0.36044386,\n",
       "         0.18425403],\n",
       "       [ 0.        ,  0.        ,  0.        ,  0.08426878,  1.37061398,\n",
       "        -0.50675282,  0.15184177, -1.25783783, -0.14922002,  0.58129235,\n",
       "         0.41635103,  0.41771307,  0.71644471,  0.93134543, -2.47346122,\n",
       "         1.82912694],\n",
       "       [ 0.        ,  0.        ,  0.        ,  0.73160797,  0.77187241,\n",
       "        -0.84063614,  0.6847765 ,  0.16463355, -0.5908464 , -2.34864635,\n",
       "        -2.33415028, -2.31158455, -0.90918054,  0.93134543,  2.07367378,\n",
       "         0.33638827],\n",
       "       [ 0.        ,  0.        ,  0.        ,  0.97564513, -0.36052064,\n",
       "        -0.72702035, -0.09789936,  0.71584268,  0.70858172, -1.30770717,\n",
       "        -1.51839579, -1.68621311, -1.72988948,  0.48616028,  1.35421939,\n",
       "         1.69070364],\n",
       "       [ 0.        ,  0.        ,  0.        , -0.19855793, -0.06210084,\n",
       "         0.3247704 ,  1.66218601,  2.77484406,  0.58895875, -1.13418647,\n",
       "        -1.30939814, -1.34181164,  0.98187374,  2.1228587 ,  0.71808189,\n",
       "         1.23106343],\n",
       "       [ 0.        ,  0.        ,  0.        , -0.08627816,  0.31882221,\n",
       "        -0.54284278, -1.02214896,  0.48388272,  0.12413531,  0.69269686,\n",
       "         0.67449731,  0.728428  , -0.90918054, -1.08415811, -0.30910856,\n",
       "         1.45599167],\n",
       "       [ 0.        ,  0.        ,  0.        , -1.00482997, -0.36052064,\n",
       "         0.20005848,  0.51575406,  0.04596732,  1.96311582,  0.92866776,\n",
       "         0.93141525,  0.83904944, -0.35984364, -0.78957937, -1.09501024,\n",
       "        -0.15049335],\n",
       "       [ 0.        ,  0.        ,  0.        ,  1.16172142, -1.4610616 ,\n",
       "         0.50658869,  0.37858445,  0.39368322, -1.62503782, -1.06208003,\n",
       "        -1.14586471, -1.181798  , -0.90918054,  0.71241788,  0.94096393,\n",
       "        -0.3349525 ],\n",
       "       [ 0.        ,  0.        ,  0.        , -0.58265234, -1.96666084,\n",
       "         0.50658869,  1.22443057,  0.93965496, -1.2533623 , -0.74613259,\n",
       "        -0.85001394, -0.74966224,  0.41526799,  0.48616028, -0.16691871,\n",
       "        -0.15049335],\n",
       "       [ 0.        ,  0.        ,  0.        , -2.02934483,  0.85977161,\n",
       "        -1.53428021, -1.77952032, -0.96739644,  1.23258601, -0.13454934,\n",
       "         0.0412242 ,  0.15021539, -1.72988948,  0.25177537, -1.09501024,\n",
       "        -1.61455012],\n",
       "       [ 0.        ,  0.        ,  0.        , -1.30983118, -1.34177482,\n",
       "        -2.48513082,  0.0810878 , -1.36917434, -0.5908464 ,  1.01170768,\n",
       "         0.9029283 ,  1.0156701 ,  0.06463007, -0.24539345,  0.23438459,\n",
       "        -0.15049335],\n",
       "       [ 0.        ,  0.        ,  0.        , -0.19855793,  0.5934617 ,\n",
       "        -1.1154812 , -1.52765389,  0.23412141,  0.29823789,  1.68527759,\n",
       "         1.62486936,  1.63032615, -0.90918054, -1.08415811, -1.09501024,\n",
       "         1.49759735],\n",
       "       [ 0.        ,  0.        ,  0.        , -0.68986824, -0.46273161,\n",
       "         0.79662621,  1.60071179,  0.07557979, -1.13604803, -1.32219722,\n",
       "        -1.20526331, -1.15897488,  0.98187374,  2.1228587 ,  0.60212705,\n",
       "        -1.90842687],\n",
       "       [ 0.        ,  0.        ,  0.        ,  0.73160797,  0.77187241,\n",
       "        -0.8790486 , -0.17035471, -0.88231827,  0.50760474, -0.86077652,\n",
       "        -0.55601027, -0.52346697,  1.22010317,  1.55042485, -0.16691871,\n",
       "        -1.47586961],\n",
       "       [ 0.        ,  0.        ,  0.        ,  0.79218291,  1.53515592,\n",
       "        -0.22643599,  0.41304265,  0.61473509,  1.9006571 ,  0.35777783,\n",
       "         0.34442049,  0.19487476, -0.90918054,  0.25177537,  0.23438459,\n",
       "        -0.53221128],\n",
       "       [ 0.        ,  0.        ,  0.        , -0.84859969,  0.5028866 ,\n",
       "        -0.43529176, -0.749579  ,  0.76654332,  0.03471274,  0.60916531,\n",
       "         0.28680506,  0.30638893, -0.90918054, -1.39754579, -0.16691871,\n",
       "         0.02225134],\n",
       "       [ 0.        ,  0.        ,  0.        , -0.08627816,  1.61644394,\n",
       "         0.76831413, -1.50694503,  0.3237498 ,  0.6690207 ,  2.16161235,\n",
       "         2.324072  ,  2.39132405,  0.41526799, -2.09932639, -0.92680917,\n",
       "         0.26150364]])"
      ]
     },
     "execution_count": 38,
     "metadata": {},
     "output_type": "execute_result"
    }
   ],
   "source": [
    "scaler = StandardScaler()\n",
    "x_scaled = scaler.fit_transform(x)\n",
    "x_scaled"
   ]
  },
  {
   "cell_type": "markdown",
   "id": "8e00d6a3",
   "metadata": {},
   "source": [
    "Features data has been scaled."
   ]
  },
  {
   "cell_type": "markdown",
   "id": "b2318618",
   "metadata": {},
   "source": [
    "### Finding Best random state"
   ]
  },
  {
   "cell_type": "code",
   "execution_count": 41,
   "id": "90746a7d",
   "metadata": {},
   "outputs": [
    {
     "name": "stdout",
     "output_type": "stream",
     "text": [
      "Best accuracy is  0.9194918946841459 at random state  923\n"
     ]
    }
   ],
   "source": [
    "max_accu = 0\n",
    "best_rs = 0\n",
    "\n",
    "for i in range(1,2000):\n",
    "    x_train,x_test,y_train,y_test = train_test_split(x_scaled,y,test_size=0.25,random_state=i)\n",
    "    reg = LinearRegression()\n",
    "    reg.fit(x_train,y_train)\n",
    "    y_pred = reg.predict(x_test)\n",
    "    accuracy = r2_score(y_test,y_pred)\n",
    "    if accuracy > max_accu:\n",
    "        max_accu = accuracy\n",
    "        best_rs = i\n",
    "print('Best accuracy is ',max_accu, 'at random state ', best_rs)"
   ]
  },
  {
   "cell_type": "markdown",
   "id": "d75d2aee",
   "metadata": {},
   "source": [
    "We got the best random state for linear regression, now we will build the linear regression model with the best random state what we got."
   ]
  },
  {
   "cell_type": "markdown",
   "id": "d35b5c2c",
   "metadata": {},
   "source": [
    "### creating Train Test Split"
   ]
  },
  {
   "cell_type": "code",
   "execution_count": 42,
   "id": "0b3733c0",
   "metadata": {},
   "outputs": [],
   "source": [
    "x_train, x_test, y_train, y_test = train_test_split(x_scaled, y, test_size = 0.25, random_state = 923)"
   ]
  },
  {
   "cell_type": "markdown",
   "id": "321021d9",
   "metadata": {},
   "source": [
    "# Model-1 (Linear Regression)"
   ]
  },
  {
   "cell_type": "code",
   "execution_count": 43,
   "id": "83e0eb4a",
   "metadata": {},
   "outputs": [
    {
     "data": {
      "text/plain": [
       "LinearRegression()"
      ]
     },
     "execution_count": 43,
     "metadata": {},
     "output_type": "execute_result"
    }
   ],
   "source": [
    "# training the model\n",
    "lin_reg = LinearRegression()\n",
    "lin_reg.fit(x_train,y_train)"
   ]
  },
  {
   "cell_type": "code",
   "execution_count": 44,
   "id": "a9d2cb98",
   "metadata": {},
   "outputs": [
    {
     "data": {
      "text/plain": [
       "0.83286378639043"
      ]
     },
     "execution_count": 44,
     "metadata": {},
     "output_type": "execute_result"
    }
   ],
   "source": [
    "# checking score on train data\n",
    "lin_reg.score(x_train,y_train)"
   ]
  },
  {
   "cell_type": "code",
   "execution_count": 45,
   "id": "dc4395ec",
   "metadata": {},
   "outputs": [
    {
     "data": {
      "text/plain": [
       "0.9194918946841459"
      ]
     },
     "execution_count": 45,
     "metadata": {},
     "output_type": "execute_result"
    }
   ],
   "source": [
    "# checking score on test data\n",
    "lin_reg.score(x_test,y_test)"
   ]
  },
  {
   "cell_type": "code",
   "execution_count": 46,
   "id": "df474135",
   "metadata": {},
   "outputs": [],
   "source": [
    "# predicting the test data\n",
    "y_pred_lr = lin_reg.predict(x_test)"
   ]
  },
  {
   "cell_type": "code",
   "execution_count": 47,
   "id": "2d1b6c3b",
   "metadata": {},
   "outputs": [
    {
     "data": {
      "text/plain": [
       "0.9194918946841459"
      ]
     },
     "execution_count": 47,
     "metadata": {},
     "output_type": "execute_result"
    }
   ],
   "source": [
    "# checking r2 score\n",
    "r2_score(y_test,y_pred_lr)"
   ]
  },
  {
   "cell_type": "code",
   "execution_count": 48,
   "id": "34611c7c",
   "metadata": {},
   "outputs": [
    {
     "data": {
      "text/plain": [
       "11.593167165482981"
      ]
     },
     "execution_count": 48,
     "metadata": {},
     "output_type": "execute_result"
    }
   ],
   "source": [
    "# mean squared error\n",
    "mean_squared_error(y_test,y_pred_lr)"
   ]
  },
  {
   "cell_type": "code",
   "execution_count": 49,
   "id": "7dc467fd",
   "metadata": {},
   "outputs": [
    {
     "data": {
      "text/plain": [
       "2.988615507730384"
      ]
     },
     "execution_count": 49,
     "metadata": {},
     "output_type": "execute_result"
    }
   ],
   "source": [
    "# checking mean squared error\n",
    "mean_absolute_error(y_test,y_pred_lr)"
   ]
  },
  {
   "cell_type": "code",
   "execution_count": 50,
   "id": "7040b995",
   "metadata": {},
   "outputs": [
    {
     "data": {
      "text/plain": [
       "3.4048740307804315"
      ]
     },
     "execution_count": 50,
     "metadata": {},
     "output_type": "execute_result"
    }
   ],
   "source": [
    "# checking root mean squared error\n",
    "np.sqrt(mean_squared_error(y_test,y_pred_lr))"
   ]
  },
  {
   "cell_type": "markdown",
   "id": "ee7765da",
   "metadata": {},
   "source": [
    "Model accuracy is 91.94% we will regularize this linear regression model and build 2 more models by Ridge regression and Lasso regression and then we will see the accuracy"
   ]
  },
  {
   "cell_type": "markdown",
   "id": "c26bec15",
   "metadata": {},
   "source": [
    "## Regularization of Linear regression.\n",
    "\n",
    "### Lasso Regression"
   ]
  },
  {
   "cell_type": "code",
   "execution_count": 144,
   "id": "b6977931",
   "metadata": {},
   "outputs": [
    {
     "data": {
      "text/plain": [
       "LassoCV(normalize=True)"
      ]
     },
     "execution_count": 144,
     "metadata": {},
     "output_type": "execute_result"
    }
   ],
   "source": [
    "# finding the best alpha value\n",
    "lassocv = LassoCV(alphas = None, max_iter = 1000, normalize = True)\n",
    "lassocv.fit(x_train,y_train)"
   ]
  },
  {
   "cell_type": "code",
   "execution_count": 145,
   "id": "bebda7b4",
   "metadata": {},
   "outputs": [
    {
     "data": {
      "text/plain": [
       "0.44522386034290673"
      ]
     },
     "execution_count": 145,
     "metadata": {},
     "output_type": "execute_result"
    }
   ],
   "source": [
    "alpha = lassocv.alpha_\n",
    "alpha"
   ]
  },
  {
   "cell_type": "code",
   "execution_count": 146,
   "id": "b0ba23bf",
   "metadata": {},
   "outputs": [
    {
     "data": {
      "text/plain": [
       "Lasso(alpha=0.44522386034290673)"
      ]
     },
     "execution_count": 146,
     "metadata": {},
     "output_type": "execute_result"
    }
   ],
   "source": [
    "# building lasso Regression model\n",
    "lasso_regression = Lasso(alpha)\n",
    "lasso_regression.fit(x_train,y_train)"
   ]
  },
  {
   "cell_type": "code",
   "execution_count": 147,
   "id": "d0d2e8ab",
   "metadata": {},
   "outputs": [],
   "source": [
    "# prediction through lasso regression\n",
    "y_pred_lasso = lasso_regression.predict(x_test)"
   ]
  },
  {
   "cell_type": "code",
   "execution_count": 148,
   "id": "70ed05cb",
   "metadata": {},
   "outputs": [
    {
     "data": {
      "text/plain": [
       "0.8689723771434358"
      ]
     },
     "execution_count": 148,
     "metadata": {},
     "output_type": "execute_result"
    }
   ],
   "source": [
    "r2_score(y_test,y_pred_lasso)"
   ]
  },
  {
   "cell_type": "code",
   "execution_count": 149,
   "id": "6c382d7d",
   "metadata": {},
   "outputs": [
    {
     "data": {
      "text/plain": [
       "3.6185852175650375"
      ]
     },
     "execution_count": 149,
     "metadata": {},
     "output_type": "execute_result"
    }
   ],
   "source": [
    "mean_absolute_error(y_test,y_pred_lasso)"
   ]
  },
  {
   "cell_type": "code",
   "execution_count": 150,
   "id": "87d762c1",
   "metadata": {},
   "outputs": [
    {
     "data": {
      "text/plain": [
       "18.86797769134525"
      ]
     },
     "execution_count": 150,
     "metadata": {},
     "output_type": "execute_result"
    }
   ],
   "source": [
    "mean_squared_error(y_test,y_pred_lasso)"
   ]
  },
  {
   "cell_type": "code",
   "execution_count": 151,
   "id": "cb81a729",
   "metadata": {},
   "outputs": [
    {
     "data": {
      "text/plain": [
       "4.343728547152233"
      ]
     },
     "execution_count": 151,
     "metadata": {},
     "output_type": "execute_result"
    }
   ],
   "source": [
    "np.sqrt(mean_squared_error(y_test,y_pred_lasso))"
   ]
  },
  {
   "cell_type": "markdown",
   "id": "3eabaea6",
   "metadata": {},
   "source": [
    "Lasso Regression's model accuracy is 86.89%, decreased from that of linear regression, it might be of overfitting of linear regression let's see"
   ]
  },
  {
   "cell_type": "markdown",
   "id": "e8d159ac",
   "metadata": {},
   "source": [
    "### Ridge Regression"
   ]
  },
  {
   "cell_type": "code",
   "execution_count": 60,
   "id": "886715ce",
   "metadata": {},
   "outputs": [
    {
     "data": {
      "text/plain": [
       "RidgeCV(alphas=array([1.000e-04, 1.100e-03, 2.100e-03, 3.100e-03, 4.100e-03, 5.100e-03,\n",
       "       6.100e-03, 7.100e-03, 8.100e-03, 9.100e-03, 1.010e-02, 1.110e-02,\n",
       "       1.210e-02, 1.310e-02, 1.410e-02, 1.510e-02, 1.610e-02, 1.710e-02,\n",
       "       1.810e-02, 1.910e-02, 2.010e-02, 2.110e-02, 2.210e-02, 2.310e-02,\n",
       "       2.410e-02, 2.510e-02, 2.610e-02, 2.710e-02, 2.810e-02, 2.910e-02,\n",
       "       3.010e-02, 3.110e-02, 3.210e-0...\n",
       "       4.621e-01, 4.631e-01, 4.641e-01, 4.651e-01, 4.661e-01, 4.671e-01,\n",
       "       4.681e-01, 4.691e-01, 4.701e-01, 4.711e-01, 4.721e-01, 4.731e-01,\n",
       "       4.741e-01, 4.751e-01, 4.761e-01, 4.771e-01, 4.781e-01, 4.791e-01,\n",
       "       4.801e-01, 4.811e-01, 4.821e-01, 4.831e-01, 4.841e-01, 4.851e-01,\n",
       "       4.861e-01, 4.871e-01, 4.881e-01, 4.891e-01, 4.901e-01, 4.911e-01,\n",
       "       4.921e-01, 4.931e-01, 4.941e-01, 4.951e-01, 4.961e-01, 4.971e-01,\n",
       "       4.981e-01, 4.991e-01]),\n",
       "        normalize=True)"
      ]
     },
     "execution_count": 60,
     "metadata": {},
     "output_type": "execute_result"
    }
   ],
   "source": [
    "# finding the best alpha value\n",
    "ridgecv = RidgeCV(alphas = np.arange(0.0001,0.5,0.001), normalize = True)\n",
    "ridgecv.fit(x_train,y_train)"
   ]
  },
  {
   "cell_type": "code",
   "execution_count": 61,
   "id": "dc29542b",
   "metadata": {},
   "outputs": [
    {
     "data": {
      "text/plain": [
       "0.4991"
      ]
     },
     "execution_count": 61,
     "metadata": {},
     "output_type": "execute_result"
    }
   ],
   "source": [
    "ridgecv.alpha_"
   ]
  },
  {
   "cell_type": "code",
   "execution_count": 62,
   "id": "08306e3e",
   "metadata": {},
   "outputs": [
    {
     "data": {
      "text/plain": [
       "Ridge(alpha=0.4991)"
      ]
     },
     "execution_count": 62,
     "metadata": {},
     "output_type": "execute_result"
    }
   ],
   "source": [
    "# model training\n",
    "ridge_regression = Ridge(ridgecv.alpha_)\n",
    "ridge_regression.fit(x_train,y_train)"
   ]
  },
  {
   "cell_type": "code",
   "execution_count": 63,
   "id": "69976e1d",
   "metadata": {},
   "outputs": [],
   "source": [
    "# prediction\n",
    "y_pred_ridge = ridge_regression.predict(x_test)"
   ]
  },
  {
   "cell_type": "code",
   "execution_count": 64,
   "id": "e533d0ea",
   "metadata": {},
   "outputs": [
    {
     "data": {
      "text/plain": [
       "0.9057696699595553"
      ]
     },
     "execution_count": 64,
     "metadata": {},
     "output_type": "execute_result"
    }
   ],
   "source": [
    "r2_score(y_test,y_pred_ridge)"
   ]
  },
  {
   "cell_type": "code",
   "execution_count": 65,
   "id": "7e030b85",
   "metadata": {},
   "outputs": [
    {
     "data": {
      "text/plain": [
       "13.569167525824035"
      ]
     },
     "execution_count": 65,
     "metadata": {},
     "output_type": "execute_result"
    }
   ],
   "source": [
    "mean_squared_error(y_test,y_pred_ridge)"
   ]
  },
  {
   "cell_type": "code",
   "execution_count": 66,
   "id": "a9c2a91a",
   "metadata": {},
   "outputs": [
    {
     "data": {
      "text/plain": [
       "3.271325019547879"
      ]
     },
     "execution_count": 66,
     "metadata": {},
     "output_type": "execute_result"
    }
   ],
   "source": [
    "mean_absolute_error(y_test,y_pred_ridge)"
   ]
  },
  {
   "cell_type": "code",
   "execution_count": 67,
   "id": "7cdd350d",
   "metadata": {},
   "outputs": [
    {
     "data": {
      "text/plain": [
       "3.6836350967249776"
      ]
     },
     "execution_count": 67,
     "metadata": {},
     "output_type": "execute_result"
    }
   ],
   "source": [
    "np.sqrt(mean_squared_error(y_test,y_pred_ridge))"
   ]
  },
  {
   "cell_type": "markdown",
   "id": "718e6b6a",
   "metadata": {},
   "source": [
    "Ridge Regression model is complete and has given the accuracy of 90.57% close to linear regression and greater than Lasso Regression"
   ]
  },
  {
   "cell_type": "markdown",
   "id": "8617842e",
   "metadata": {},
   "source": [
    "# Polynomial Regression"
   ]
  },
  {
   "cell_type": "code",
   "execution_count": 68,
   "id": "16b2cf2b",
   "metadata": {},
   "outputs": [],
   "source": [
    "# importing polynomial features \n",
    "from sklearn.preprocessing import PolynomialFeatures"
   ]
  },
  {
   "cell_type": "code",
   "execution_count": 73,
   "id": "c2dc489a",
   "metadata": {},
   "outputs": [],
   "source": [
    "# polynomial featuring the train and test data\n",
    "poly_reg = PolynomialFeatures(degree = 3)\n",
    "x_train_poly = poly_reg.fit_transform(x_train)\n",
    "x_test_poly = poly_reg.fit_transform(x_test)"
   ]
  },
  {
   "cell_type": "code",
   "execution_count": 74,
   "id": "b20b94f9",
   "metadata": {},
   "outputs": [
    {
     "data": {
      "text/plain": [
       "LinearRegression()"
      ]
     },
     "execution_count": 74,
     "metadata": {},
     "output_type": "execute_result"
    }
   ],
   "source": [
    "# training the polynomial featured data in linear regression model\n",
    "lin_reg.fit(x_train_poly,y_train)"
   ]
  },
  {
   "cell_type": "code",
   "execution_count": 75,
   "id": "8ed32458",
   "metadata": {},
   "outputs": [],
   "source": [
    "y_pred_poly = lin_reg.predict(x_test_poly)"
   ]
  },
  {
   "cell_type": "code",
   "execution_count": 76,
   "id": "167c2d02",
   "metadata": {},
   "outputs": [
    {
     "data": {
      "text/plain": [
       "0.7279308897542123"
      ]
     },
     "execution_count": 76,
     "metadata": {},
     "output_type": "execute_result"
    }
   ],
   "source": [
    "r2_score(y_test,y_pred_poly)"
   ]
  },
  {
   "cell_type": "code",
   "execution_count": 78,
   "id": "db60fb6c",
   "metadata": {},
   "outputs": [
    {
     "data": {
      "text/plain": [
       "39.17795187539344"
      ]
     },
     "execution_count": 78,
     "metadata": {},
     "output_type": "execute_result"
    }
   ],
   "source": [
    "mean_squared_error(y_test,y_pred_poly)"
   ]
  },
  {
   "cell_type": "code",
   "execution_count": 79,
   "id": "7b8594fb",
   "metadata": {},
   "outputs": [
    {
     "data": {
      "text/plain": [
       "5.168855541289394"
      ]
     },
     "execution_count": 79,
     "metadata": {},
     "output_type": "execute_result"
    }
   ],
   "source": [
    "mean_absolute_error(y_test,y_pred_poly)"
   ]
  },
  {
   "cell_type": "code",
   "execution_count": 80,
   "id": "6c384d07",
   "metadata": {},
   "outputs": [
    {
     "data": {
      "text/plain": [
       "6.259229335580654"
      ]
     },
     "execution_count": 80,
     "metadata": {},
     "output_type": "execute_result"
    }
   ],
   "source": [
    "np.sqrt(mean_squared_error(y_test,y_pred_poly))"
   ]
  },
  {
   "cell_type": "markdown",
   "id": "fff71286",
   "metadata": {},
   "source": [
    "# Support Vector Regressor"
   ]
  },
  {
   "cell_type": "code",
   "execution_count": 81,
   "id": "594590ea",
   "metadata": {},
   "outputs": [],
   "source": [
    "# importing support vector \n",
    "from sklearn.svm import SVR"
   ]
  },
  {
   "cell_type": "code",
   "execution_count": 82,
   "id": "45fa61fa",
   "metadata": {},
   "outputs": [
    {
     "data": {
      "text/plain": [
       "SVR(kernel='linear')"
      ]
     },
     "execution_count": 82,
     "metadata": {},
     "output_type": "execute_result"
    }
   ],
   "source": [
    "svr = SVR(kernel = \"linear\")\n",
    "svr.fit(x_train,y_train)"
   ]
  },
  {
   "cell_type": "code",
   "execution_count": 83,
   "id": "56b9fdd9",
   "metadata": {},
   "outputs": [],
   "source": [
    "y_pred_svr = svr.predict(x_test)"
   ]
  },
  {
   "cell_type": "code",
   "execution_count": 84,
   "id": "dabf8398",
   "metadata": {},
   "outputs": [
    {
     "data": {
      "text/plain": [
       "0.8944712947638336"
      ]
     },
     "execution_count": 84,
     "metadata": {},
     "output_type": "execute_result"
    }
   ],
   "source": [
    "r2_score(y_test,y_pred_svr)"
   ]
  },
  {
   "cell_type": "code",
   "execution_count": 85,
   "id": "0b2805a6",
   "metadata": {},
   "outputs": [
    {
     "data": {
      "text/plain": [
       "15.19613355400796"
      ]
     },
     "execution_count": 85,
     "metadata": {},
     "output_type": "execute_result"
    }
   ],
   "source": [
    "mean_squared_error(y_test,y_pred_svr)"
   ]
  },
  {
   "cell_type": "code",
   "execution_count": 86,
   "id": "a0c3fb0c",
   "metadata": {},
   "outputs": [
    {
     "data": {
      "text/plain": [
       "2.8769153563228382"
      ]
     },
     "execution_count": 86,
     "metadata": {},
     "output_type": "execute_result"
    }
   ],
   "source": [
    "mean_absolute_error(y_test,y_pred_svr)"
   ]
  },
  {
   "cell_type": "code",
   "execution_count": 87,
   "id": "681797f0",
   "metadata": {},
   "outputs": [
    {
     "data": {
      "text/plain": [
       "3.898221845150422"
      ]
     },
     "execution_count": 87,
     "metadata": {},
     "output_type": "execute_result"
    }
   ],
   "source": [
    "np.sqrt(mean_squared_error(y_test,y_pred_svr))"
   ]
  },
  {
   "cell_type": "markdown",
   "id": "f1dbe103",
   "metadata": {},
   "source": [
    "# Decision Tree Regressor"
   ]
  },
  {
   "cell_type": "code",
   "execution_count": 88,
   "id": "c90cf015",
   "metadata": {},
   "outputs": [],
   "source": [
    "from sklearn.tree import DecisionTreeRegressor"
   ]
  },
  {
   "cell_type": "code",
   "execution_count": 89,
   "id": "685f8b1a",
   "metadata": {},
   "outputs": [
    {
     "data": {
      "text/plain": [
       "DecisionTreeRegressor()"
      ]
     },
     "execution_count": 89,
     "metadata": {},
     "output_type": "execute_result"
    }
   ],
   "source": [
    "dec_tree = DecisionTreeRegressor()\n",
    "dec_tree.fit(x_train,y_train)"
   ]
  },
  {
   "cell_type": "code",
   "execution_count": 91,
   "id": "6b04f111",
   "metadata": {},
   "outputs": [],
   "source": [
    "y_pred_dt = dec_tree.predict(x_test)"
   ]
  },
  {
   "cell_type": "code",
   "execution_count": 92,
   "id": "ce59013c",
   "metadata": {},
   "outputs": [
    {
     "data": {
      "text/plain": [
       "0.5034722222222222"
      ]
     },
     "execution_count": 92,
     "metadata": {},
     "output_type": "execute_result"
    }
   ],
   "source": [
    "r2_score(y_test,y_pred_dt)"
   ]
  },
  {
   "cell_type": "code",
   "execution_count": 94,
   "id": "2df1dc53",
   "metadata": {},
   "outputs": [
    {
     "data": {
      "text/plain": [
       "71.5"
      ]
     },
     "execution_count": 94,
     "metadata": {},
     "output_type": "execute_result"
    }
   ],
   "source": [
    "mean_squared_error(y_test,y_pred_dt)"
   ]
  },
  {
   "cell_type": "code",
   "execution_count": 93,
   "id": "41b91bc4",
   "metadata": {},
   "outputs": [
    {
     "data": {
      "text/plain": [
       "6.75"
      ]
     },
     "execution_count": 93,
     "metadata": {},
     "output_type": "execute_result"
    }
   ],
   "source": [
    "mean_absolute_error(y_test,y_pred_dt)"
   ]
  },
  {
   "cell_type": "code",
   "execution_count": 95,
   "id": "ed10611b",
   "metadata": {},
   "outputs": [
    {
     "data": {
      "text/plain": [
       "8.455767262643882"
      ]
     },
     "execution_count": 95,
     "metadata": {},
     "output_type": "execute_result"
    }
   ],
   "source": [
    "np.sqrt(mean_squared_error(y_test,y_pred_dt))"
   ]
  },
  {
   "cell_type": "markdown",
   "id": "8e28261a",
   "metadata": {},
   "source": [
    "# Random Forest Regressor"
   ]
  },
  {
   "cell_type": "code",
   "execution_count": 96,
   "id": "1203401c",
   "metadata": {},
   "outputs": [],
   "source": [
    "from sklearn.ensemble import RandomForestRegressor"
   ]
  },
  {
   "cell_type": "code",
   "execution_count": 98,
   "id": "c8a0dadd",
   "metadata": {},
   "outputs": [
    {
     "data": {
      "text/plain": [
       "RandomForestRegressor()"
      ]
     },
     "execution_count": 98,
     "metadata": {},
     "output_type": "execute_result"
    }
   ],
   "source": [
    "RF = RandomForestRegressor()\n",
    "RF.fit(x_train,y_train)"
   ]
  },
  {
   "cell_type": "code",
   "execution_count": 100,
   "id": "4aa9f149",
   "metadata": {},
   "outputs": [],
   "source": [
    "y_pred_rf = RF.predict(x_test)"
   ]
  },
  {
   "cell_type": "code",
   "execution_count": 101,
   "id": "33457221",
   "metadata": {},
   "outputs": [
    {
     "data": {
      "text/plain": [
       "0.596087847222222"
      ]
     },
     "execution_count": 101,
     "metadata": {},
     "output_type": "execute_result"
    }
   ],
   "source": [
    "r2_score(y_test,y_pred_rf)"
   ]
  },
  {
   "cell_type": "code",
   "execution_count": 102,
   "id": "21725354",
   "metadata": {},
   "outputs": [
    {
     "data": {
      "text/plain": [
       "58.16335000000003"
      ]
     },
     "execution_count": 102,
     "metadata": {},
     "output_type": "execute_result"
    }
   ],
   "source": [
    "mean_squared_error(y_test,y_pred_rf)"
   ]
  },
  {
   "cell_type": "code",
   "execution_count": 103,
   "id": "cd69cbfb",
   "metadata": {},
   "outputs": [
    {
     "data": {
      "text/plain": [
       "6.1625"
      ]
     },
     "execution_count": 103,
     "metadata": {},
     "output_type": "execute_result"
    }
   ],
   "source": [
    "mean_absolute_error(y_test,y_pred_rf)"
   ]
  },
  {
   "cell_type": "code",
   "execution_count": 104,
   "id": "25de4331",
   "metadata": {},
   "outputs": [
    {
     "data": {
      "text/plain": [
       "7.626490018350514"
      ]
     },
     "execution_count": 104,
     "metadata": {},
     "output_type": "execute_result"
    }
   ],
   "source": [
    "np.sqrt(mean_squared_error(y_test,y_pred_rf))"
   ]
  },
  {
   "cell_type": "markdown",
   "id": "11dd9dc3",
   "metadata": {},
   "source": [
    "We have built 7 Regression Machine Learning Algorithm and there score is as follows:-\n",
    "\n",
    " * **LinearRegression Model**  Accuracy Score = ```0.9194918946841459```\n",
    " * **LassoRegression Model**  Accuracy Score = ```0.8689723771434358```\n",
    " * **RidgeRegression Model**  Accuracy Score = ```0.9057696699595553```\n",
    " * **PolynomialRegression Model**  Accuracy Score = ```0.7279308897542123```\n",
    " * **SupportVectorRegressor Model**  Accuracy Score = ```0.8944712947638336```\n",
    " * **DecisionTreeRegressor Model**  Accuracy Score = ```0.5034722222222222```\n",
    " * **RandomForestRegressor Model**  Accuracy Score = ```0.596087847222222```\n",
    " \n",
    "All the 7 models have given the accuracy score very differently, out of which the LinearRegression has given the highest accuracy that is 91.94% and DecisionTreeRegressor has given the lowest score that is 50.34%. \n",
    "\n",
    "Now we have to choose the best model out of it but before that we will cross validate our models and than we will analyze the score after cross validation and based on cross validation we will decide our best model."
   ]
  },
  {
   "cell_type": "markdown",
   "id": "af93f285",
   "metadata": {},
   "source": [
    "# cross Validation of the models"
   ]
  },
  {
   "cell_type": "code",
   "execution_count": 105,
   "id": "3dfd62e2",
   "metadata": {},
   "outputs": [],
   "source": [
    "from sklearn.model_selection import cross_val_score"
   ]
  },
  {
   "cell_type": "code",
   "execution_count": 111,
   "id": "1d13cfb3",
   "metadata": {},
   "outputs": [
    {
     "name": "stdout",
     "output_type": "stream",
     "text": [
      "Cross Validation Score for Linear Regression is  -1.4228754457347939\n"
     ]
    }
   ],
   "source": [
    "# cross validation for Linear Regression\n",
    "cvs = cross_val_score(lin_reg,x_scaled,y,cv = 5)\n",
    "print(\"Cross Validation Score for Linear Regression is \", cvs.mean())"
   ]
  },
  {
   "cell_type": "code",
   "execution_count": 112,
   "id": "95a5218b",
   "metadata": {},
   "outputs": [
    {
     "name": "stdout",
     "output_type": "stream",
     "text": [
      "Cross Validation Score for Lasso Regression is  0.18996467613510812\n"
     ]
    }
   ],
   "source": [
    "# cross validation for Lasso Regression\n",
    "cvs = cross_val_score(lasso_regression,x_scaled,y,cv = 5)\n",
    "print(\"Cross Validation Score for Lasso Regression is \", cvs.mean())"
   ]
  },
  {
   "cell_type": "code",
   "execution_count": 113,
   "id": "e1ac3ef1",
   "metadata": {},
   "outputs": [
    {
     "name": "stdout",
     "output_type": "stream",
     "text": [
      "Cross Validation Score for Ridge Regression is  0.05106484253342405\n"
     ]
    }
   ],
   "source": [
    "# cross validation for Ridge Regression\n",
    "cvs = cross_val_score(ridge_regression,x_scaled,y,cv = 5)\n",
    "print(\"Cross Validation Score for Ridge Regression is \", cvs.mean())"
   ]
  },
  {
   "cell_type": "code",
   "execution_count": 114,
   "id": "0a30c204",
   "metadata": {},
   "outputs": [
    {
     "name": "stdout",
     "output_type": "stream",
     "text": [
      "Cross Validation Score for Polynomial Regression is  -0.6242715839648356\n"
     ]
    }
   ],
   "source": [
    "# cross validation for Polynomial Regression\n",
    "cvs = cross_val_score(lin_reg,poly_reg.fit_transform(x_scaled),y,cv = 5)\n",
    "print(\"Cross Validation Score for Polynomial Regression is \", cvs.mean())"
   ]
  },
  {
   "cell_type": "code",
   "execution_count": 116,
   "id": "293f96e2",
   "metadata": {},
   "outputs": [
    {
     "name": "stdout",
     "output_type": "stream",
     "text": [
      "Cross Validation Score for Support Vector Regressior is  0.14846573381850242\n"
     ]
    }
   ],
   "source": [
    "# cross validation for Support vector Regressor\n",
    "cvs = cross_val_score(svr,x_scaled,y,cv = 5)\n",
    "print(\"Cross Validation Score for Support Vector Regressor is \", cvs.mean())"
   ]
  },
  {
   "cell_type": "code",
   "execution_count": 117,
   "id": "cd469ea5",
   "metadata": {},
   "outputs": [
    {
     "name": "stdout",
     "output_type": "stream",
     "text": [
      "Cross Validation Score for Decision Tree Regressor is  -3.178973265050903\n"
     ]
    }
   ],
   "source": [
    "# cross validation for decision tree Regressor\n",
    "cvs = cross_val_score(dec_tree,x_scaled,y,cv = 5)\n",
    "print(\"Cross Validation Score for Decision Tree Regressor is \", cvs.mean())"
   ]
  },
  {
   "cell_type": "code",
   "execution_count": 118,
   "id": "de49a88e",
   "metadata": {},
   "outputs": [
    {
     "name": "stdout",
     "output_type": "stream",
     "text": [
      "Cross Validation Score for Support Vector Regressor is  -0.7711362177069548\n"
     ]
    }
   ],
   "source": [
    "# cross validation for random forest Regressor\n",
    "cvs = cross_val_score(RF,x_scaled,y,cv = 5)\n",
    "print(\"Cross Validation Score for Support Vector Regressor is \", cvs.mean())"
   ]
  },
  {
   "attachments": {
    "image.png": {
     "image/png": "[encoded data removed]"
    }
   },
   "cell_type": "markdown",
   "id": "d70baacb",
   "metadata": {},
   "source": [
    "We have successfully done with cross validation of all 7 models with **CV = 5** and got the result as follows:-\n",
    "\n",
    " * **LinearRegression Model**  Croos Validation Score = ```-1.4228754457347939```\n",
    " * **LassoRegression Model**  Croos Validation Score = ```0.18996467613510812```\n",
    " * **RidgeRegression Model**  Croos Validation Score = ```0.05106484253342405```\n",
    " * **PolynomialRegression Model**  Croos Validation Score = ```-0.6242715839648356```\n",
    " * **SupportVectorRegressor Model**  Croos Validation Score = ```0.14846573381850242```\n",
    " * **DecisionTreeRegressor Model**  Croos Validation Score = ```-3.178973265050903```\n",
    " * **RandomForestRegressor Model**  Croos Validation Score = ```-0.7711362177069548```\n",
    " \n",
    "After checking the cross validation score it can be seen that some of models are giving negative cross validation score and those model which have positive score are very less but we have to check for the minimum difference between ```r2_score``` and ```cross_val_score```, and whichever model has the minimum difference between ```r2_score``` and ```cross_val_score``` would be the best model. So to check that I have counted the difference of both on a excel sheet. The result is as follows:\n",
    "\n",
    "\n",
    "![image.png](attachment:image.png)\n",
    "\n",
    "from this table we can see that Lasso Regression model has the minimum difference between ```r2_score``` and ```cross_val_score``` that is 67.9. So according to this theory our best fit model is Lasso Regression. Now we will tune the parameters of LassoRegression to see if we can further increase the model score or not."
   ]
  },
  {
   "cell_type": "markdown",
   "id": "2c42b315",
   "metadata": {},
   "source": [
    "# Hyper parameter Tuning"
   ]
  },
  {
   "cell_type": "code",
   "execution_count": 119,
   "id": "7432b9bc",
   "metadata": {},
   "outputs": [],
   "source": [
    "from sklearn.model_selection import GridSearchCV"
   ]
  },
  {
   "cell_type": "code",
   "execution_count": 128,
   "id": "532e7b3e",
   "metadata": {},
   "outputs": [],
   "source": [
    "parameters = {'alpha': np.arange(0.001,1.0,0.01),\n",
    "              'selection' : ['cyclic', 'random'],\n",
    "              'fit_intercept' : ['True', 'False'],\n",
    "              'normalize' : ['True', 'False'],\n",
    "              'max_iter' : [500,750,1000,1250,1500,1750,2000]\n",
    "             }"
   ]
  },
  {
   "cell_type": "code",
   "execution_count": 129,
   "id": "d11a528e",
   "metadata": {},
   "outputs": [],
   "source": [
    "grid_search = GridSearchCV(lasso_regression, param_grid = parameters)"
   ]
  },
  {
   "cell_type": "code",
   "execution_count": 130,
   "id": "a8938ec6",
   "metadata": {},
   "outputs": [
    {
     "data": {
      "text/plain": [
       "GridSearchCV(estimator=Lasso(alpha=0.44522386034290673),\n",
       "             param_grid={'alpha': array([0.001, 0.011, 0.021, 0.031, 0.041, 0.051, 0.061, 0.071, 0.081,\n",
       "       0.091, 0.101, 0.111, 0.121, 0.131, 0.141, 0.151, 0.161, 0.171,\n",
       "       0.181, 0.191, 0.201, 0.211, 0.221, 0.231, 0.241, 0.251, 0.261,\n",
       "       0.271, 0.281, 0.291, 0.301, 0.311, 0.321, 0.331, 0.341, 0.351,\n",
       "       0.361, 0.371, 0.381, 0.391, 0.401, 0.411, 0.421, 0.431, 0.4...\n",
       "       0.631, 0.641, 0.651, 0.661, 0.671, 0.681, 0.691, 0.701, 0.711,\n",
       "       0.721, 0.731, 0.741, 0.751, 0.761, 0.771, 0.781, 0.791, 0.801,\n",
       "       0.811, 0.821, 0.831, 0.841, 0.851, 0.861, 0.871, 0.881, 0.891,\n",
       "       0.901, 0.911, 0.921, 0.931, 0.941, 0.951, 0.961, 0.971, 0.981,\n",
       "       0.991]),\n",
       "                         'fit_intercept': ['True', 'False'],\n",
       "                         'max_iter': [500, 750, 1000, 1250, 1500, 1750, 2000],\n",
       "                         'normalize': ['True', 'False'],\n",
       "                         'selection': ['cyclic', 'random']})"
      ]
     },
     "execution_count": 130,
     "metadata": {},
     "output_type": "execute_result"
    }
   ],
   "source": [
    "grid_search.fit(x_train,y_train)"
   ]
  },
  {
   "cell_type": "code",
   "execution_count": 131,
   "id": "e844aa9e",
   "metadata": {},
   "outputs": [
    {
     "data": {
      "text/plain": [
       "{'alpha': 0.5309999999999999,\n",
       " 'fit_intercept': 'False',\n",
       " 'max_iter': 1500,\n",
       " 'normalize': 'False',\n",
       " 'selection': 'random'}"
      ]
     },
     "execution_count": 131,
     "metadata": {},
     "output_type": "execute_result"
    }
   ],
   "source": [
    "grid_search.best_params_"
   ]
  },
  {
   "cell_type": "code",
   "execution_count": 140,
   "id": "81f5d8be",
   "metadata": {},
   "outputs": [],
   "source": [
    "lasso = grid_search.best_estimator_"
   ]
  },
  {
   "cell_type": "code",
   "execution_count": 141,
   "id": "17b1a0db",
   "metadata": {},
   "outputs": [
    {
     "data": {
      "text/plain": [
       "Lasso(alpha=0.5309999999999999, fit_intercept='False', max_iter=1500,\n",
       "      normalize='False', selection='random')"
      ]
     },
     "execution_count": 141,
     "metadata": {},
     "output_type": "execute_result"
    }
   ],
   "source": [
    "lasso.fit(x_train, y_train)"
   ]
  },
  {
   "cell_type": "code",
   "execution_count": 142,
   "id": "762e2a70",
   "metadata": {},
   "outputs": [],
   "source": [
    "y_pred_l1 = lasso_regression.predict(x_test)"
   ]
  },
  {
   "cell_type": "code",
   "execution_count": 143,
   "id": "6c6dab75",
   "metadata": {},
   "outputs": [
    {
     "data": {
      "text/plain": [
       "0.6799108629272397"
      ]
     },
     "execution_count": 143,
     "metadata": {},
     "output_type": "execute_result"
    }
   ],
   "source": [
    "r2_score(y_test, y_pred_l1)"
   ]
  },
  {
   "cell_type": "markdown",
   "id": "fbe0469a",
   "metadata": {},
   "source": [
    "We have done with the Hyper Parameter Tuning of Lasso Regression but it did not do well in terms of increasing the r2_score of the model the model accuracy has been decreased after hyperparameter tuning so we will finalize the previous model what we built initially."
   ]
  },
  {
   "cell_type": "markdown",
   "id": "1facda45",
   "metadata": {},
   "source": [
    "# Model Saving"
   ]
  },
  {
   "cell_type": "code",
   "execution_count": 152,
   "id": "803ec879",
   "metadata": {},
   "outputs": [],
   "source": [
    "import pickle"
   ]
  },
  {
   "cell_type": "code",
   "execution_count": 153,
   "id": "4a611b76",
   "metadata": {},
   "outputs": [],
   "source": [
    "file_name = 'BAseball_win_prediction.pickle'\n",
    "pickle.dump(lasso_regression,open(file_name,'wb'))"
   ]
  },
  {
   "cell_type": "markdown",
   "id": "9ca886e4",
   "metadata": {},
   "source": [
    "Model has been saved successfully. Let's check by predicting with the loaded model"
   ]
  },
  {
   "cell_type": "markdown",
   "id": "8c305c2a",
   "metadata": {},
   "source": [
    "# Loading and predicting with the loaded model"
   ]
  },
  {
   "cell_type": "code",
   "execution_count": 154,
   "id": "9abdfae3",
   "metadata": {},
   "outputs": [],
   "source": [
    "# loading the saved model\n",
    "loaded_model = pickle.load(open(file_name,'rb'))"
   ]
  },
  {
   "cell_type": "code",
   "execution_count": 155,
   "id": "681ba181",
   "metadata": {},
   "outputs": [],
   "source": [
    "# predicting with the loaded model\n",
    "predictions = loaded_model.predict(x_test)"
   ]
  },
  {
   "cell_type": "code",
   "execution_count": 165,
   "id": "bd9bb210",
   "metadata": {},
   "outputs": [
    {
     "data": {
      "text/html": [
       "<div>\n",
       "<style scoped>\n",
       "    .dataframe tbody tr th:only-of-type {\n",
       "        vertical-align: middle;\n",
       "    }\n",
       "\n",
       "    .dataframe tbody tr th {\n",
       "        vertical-align: top;\n",
       "    }\n",
       "\n",
       "    .dataframe thead th {\n",
       "        text-align: right;\n",
       "    }\n",
       "</style>\n",
       "<table border=\"1\" class=\"dataframe\">\n",
       "  <thead>\n",
       "    <tr style=\"text-align: right;\">\n",
       "      <th></th>\n",
       "      <th>Predictions</th>\n",
       "      <th>Actual</th>\n",
       "    </tr>\n",
       "  </thead>\n",
       "  <tbody>\n",
       "    <tr>\n",
       "      <th>0</th>\n",
       "      <td>75.243306</td>\n",
       "      <td>75.243306</td>\n",
       "    </tr>\n",
       "    <tr>\n",
       "      <th>1</th>\n",
       "      <td>87.208014</td>\n",
       "      <td>87.208014</td>\n",
       "    </tr>\n",
       "    <tr>\n",
       "      <th>2</th>\n",
       "      <td>80.033309</td>\n",
       "      <td>80.033309</td>\n",
       "    </tr>\n",
       "    <tr>\n",
       "      <th>3</th>\n",
       "      <td>79.702682</td>\n",
       "      <td>79.702682</td>\n",
       "    </tr>\n",
       "    <tr>\n",
       "      <th>4</th>\n",
       "      <td>98.643383</td>\n",
       "      <td>98.643383</td>\n",
       "    </tr>\n",
       "    <tr>\n",
       "      <th>5</th>\n",
       "      <td>93.070746</td>\n",
       "      <td>93.070746</td>\n",
       "    </tr>\n",
       "    <tr>\n",
       "      <th>6</th>\n",
       "      <td>66.700593</td>\n",
       "      <td>66.700593</td>\n",
       "    </tr>\n",
       "    <tr>\n",
       "      <th>7</th>\n",
       "      <td>74.478574</td>\n",
       "      <td>74.478574</td>\n",
       "    </tr>\n",
       "  </tbody>\n",
       "</table>\n",
       "</div>"
      ],
      "text/plain": [
       "   Predictions     Actual\n",
       "0    75.243306  75.243306\n",
       "1    87.208014  87.208014\n",
       "2    80.033309  80.033309\n",
       "3    79.702682  79.702682\n",
       "4    98.643383  98.643383\n",
       "5    93.070746  93.070746\n",
       "6    66.700593  66.700593\n",
       "7    74.478574  74.478574"
      ]
     },
     "execution_count": 165,
     "metadata": {},
     "output_type": "execute_result"
    }
   ],
   "source": [
    "# making dataframe\n",
    "conclusion = pd.DataFrame({})\n",
    "conclusion['Predictions'] = predictions\n",
    "conclusion['Actual'] = y_pred_lasso\n",
    "conclusion"
   ]
  },
  {
   "cell_type": "markdown",
   "id": "e32f25b9",
   "metadata": {},
   "source": [
    "# Finished"
   ]
  },
  {
   "attachments": {
    "thank-you-hand-drawn-lettering-260nw-780491263.jpg": {
     "image/jpeg": "[encoded data removed]"
    }
   },
   "cell_type": "markdown",
   "id": "611e2e41",
   "metadata": {},
   "source": [
    "![thank-you-hand-drawn-lettering-260nw-780491263.jpg](attachment:thank-you-hand-drawn-lettering-260nw-780491263.jpg)"
   ]
  },
  {
   "cell_type": "code",
   "execution_count": null,
   "id": "f8b1d5d0",
   "metadata": {},
   "outputs": [],
   "source": []
  }
 ],
 "metadata": {
  "kernelspec": {
   "display_name": "Python 3",
   "language": "python",
   "name": "python3"
  },
  "language_info": {
   "codemirror_mode": {
    "name": "ipython",
    "version": 3
   },
   "file_extension": ".py",
   "mimetype": "text/x-python",
   "name": "python",
   "nbconvert_exporter": "python",
   "pygments_lexer": "ipython3",
   "version": "3.8.8"
  }
 },
 "nbformat": 4,
 "nbformat_minor": 5
}
