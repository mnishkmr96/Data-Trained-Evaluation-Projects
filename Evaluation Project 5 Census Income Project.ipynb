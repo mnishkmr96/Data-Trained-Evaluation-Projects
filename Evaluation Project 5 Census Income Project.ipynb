{
 "cells": [
  {
   "cell_type": "markdown",
   "id": "db310bd4",
   "metadata": {},
   "source": [
    "# Census Income Project\n",
    "## Problem Statement:\n",
    "\n",
    "\n",
    "This data was extracted from the 1994 Census bureau database by Ronny Kohavi and Barry Becker (Data Mining and Visualization, Silicon Graphics). A set of reasonably clean records was extracted using the following conditions: ((AAGE>16) && (AGI>100) && (AFNLWGT>1) && (HRSWK>0)). The prediction task is to determine whether a person makes over $50K a year."
   ]
  },
  {
   "cell_type": "code",
   "execution_count": 1,
   "id": "02fbdad7",
   "metadata": {},
   "outputs": [],
   "source": [
    "import pandas as pd\n",
    "import numpy as np\n",
    "import matplotlib.pyplot as plt\n",
    "import seaborn as sns\n",
    "from sklearn.preprocessing import LabelEncoder, OrdinalEncoder, StandardScaler, MinMaxScaler, power_transform\n",
    "from sklearn.model_selection import train_test_split, cross_val_score, GridSearchCV\n",
    "from sklearn.linear_model import LogisticRegression\n",
    "from sklearn.neighbors import KNeighborsClassifier\n",
    "from sklearn.tree import DecisionTreeClassifier\n",
    "from sklearn.ensemble import RandomForestClassifier\n",
    "from sklearn.svm import SVC\n",
    "from sklearn.metrics import accuracy_score, classification_report, confusion_matrix, roc_curve, roc_auc_score, plot_roc_curve\n",
    "import pickle\n",
    "import warnings\n",
    "warnings.filterwarnings('ignore')"
   ]
  },
  {
   "cell_type": "code",
   "execution_count": 2,
   "id": "028c90cd",
   "metadata": {},
   "outputs": [
    {
     "data": {
      "text/html": [
       "<div>\n",
       "<style scoped>\n",
       "    .dataframe tbody tr th:only-of-type {\n",
       "        vertical-align: middle;\n",
       "    }\n",
       "\n",
       "    .dataframe tbody tr th {\n",
       "        vertical-align: top;\n",
       "    }\n",
       "\n",
       "    .dataframe thead th {\n",
       "        text-align: right;\n",
       "    }\n",
       "</style>\n",
       "<table border=\"1\" class=\"dataframe\">\n",
       "  <thead>\n",
       "    <tr style=\"text-align: right;\">\n",
       "      <th></th>\n",
       "      <th>Age</th>\n",
       "      <th>Workclass</th>\n",
       "      <th>Fnlwgt</th>\n",
       "      <th>Education</th>\n",
       "      <th>Education_num</th>\n",
       "      <th>Marital_status</th>\n",
       "      <th>Occupation</th>\n",
       "      <th>Relationship</th>\n",
       "      <th>Race</th>\n",
       "      <th>Sex</th>\n",
       "      <th>Capital_gain</th>\n",
       "      <th>Capital_loss</th>\n",
       "      <th>Hours_per_week</th>\n",
       "      <th>Native_country</th>\n",
       "      <th>Income</th>\n",
       "    </tr>\n",
       "  </thead>\n",
       "  <tbody>\n",
       "    <tr>\n",
       "      <th>0</th>\n",
       "      <td>50</td>\n",
       "      <td>Self-emp-not-inc</td>\n",
       "      <td>83311</td>\n",
       "      <td>Bachelors</td>\n",
       "      <td>13</td>\n",
       "      <td>Married-civ-spouse</td>\n",
       "      <td>Exec-managerial</td>\n",
       "      <td>Husband</td>\n",
       "      <td>White</td>\n",
       "      <td>Male</td>\n",
       "      <td>0</td>\n",
       "      <td>0</td>\n",
       "      <td>13</td>\n",
       "      <td>United-States</td>\n",
       "      <td>&lt;=50K</td>\n",
       "    </tr>\n",
       "    <tr>\n",
       "      <th>1</th>\n",
       "      <td>38</td>\n",
       "      <td>Private</td>\n",
       "      <td>215646</td>\n",
       "      <td>HS-grad</td>\n",
       "      <td>9</td>\n",
       "      <td>Divorced</td>\n",
       "      <td>Handlers-cleaners</td>\n",
       "      <td>Not-in-family</td>\n",
       "      <td>White</td>\n",
       "      <td>Male</td>\n",
       "      <td>0</td>\n",
       "      <td>0</td>\n",
       "      <td>40</td>\n",
       "      <td>United-States</td>\n",
       "      <td>&lt;=50K</td>\n",
       "    </tr>\n",
       "    <tr>\n",
       "      <th>2</th>\n",
       "      <td>53</td>\n",
       "      <td>Private</td>\n",
       "      <td>234721</td>\n",
       "      <td>11th</td>\n",
       "      <td>7</td>\n",
       "      <td>Married-civ-spouse</td>\n",
       "      <td>Handlers-cleaners</td>\n",
       "      <td>Husband</td>\n",
       "      <td>Black</td>\n",
       "      <td>Male</td>\n",
       "      <td>0</td>\n",
       "      <td>0</td>\n",
       "      <td>40</td>\n",
       "      <td>United-States</td>\n",
       "      <td>&lt;=50K</td>\n",
       "    </tr>\n",
       "    <tr>\n",
       "      <th>3</th>\n",
       "      <td>28</td>\n",
       "      <td>Private</td>\n",
       "      <td>338409</td>\n",
       "      <td>Bachelors</td>\n",
       "      <td>13</td>\n",
       "      <td>Married-civ-spouse</td>\n",
       "      <td>Prof-specialty</td>\n",
       "      <td>Wife</td>\n",
       "      <td>Black</td>\n",
       "      <td>Female</td>\n",
       "      <td>0</td>\n",
       "      <td>0</td>\n",
       "      <td>40</td>\n",
       "      <td>Cuba</td>\n",
       "      <td>&lt;=50K</td>\n",
       "    </tr>\n",
       "    <tr>\n",
       "      <th>4</th>\n",
       "      <td>37</td>\n",
       "      <td>Private</td>\n",
       "      <td>284582</td>\n",
       "      <td>Masters</td>\n",
       "      <td>14</td>\n",
       "      <td>Married-civ-spouse</td>\n",
       "      <td>Exec-managerial</td>\n",
       "      <td>Wife</td>\n",
       "      <td>White</td>\n",
       "      <td>Female</td>\n",
       "      <td>0</td>\n",
       "      <td>0</td>\n",
       "      <td>40</td>\n",
       "      <td>United-States</td>\n",
       "      <td>&lt;=50K</td>\n",
       "    </tr>\n",
       "    <tr>\n",
       "      <th>...</th>\n",
       "      <td>...</td>\n",
       "      <td>...</td>\n",
       "      <td>...</td>\n",
       "      <td>...</td>\n",
       "      <td>...</td>\n",
       "      <td>...</td>\n",
       "      <td>...</td>\n",
       "      <td>...</td>\n",
       "      <td>...</td>\n",
       "      <td>...</td>\n",
       "      <td>...</td>\n",
       "      <td>...</td>\n",
       "      <td>...</td>\n",
       "      <td>...</td>\n",
       "      <td>...</td>\n",
       "    </tr>\n",
       "    <tr>\n",
       "      <th>32555</th>\n",
       "      <td>27</td>\n",
       "      <td>Private</td>\n",
       "      <td>257302</td>\n",
       "      <td>Assoc-acdm</td>\n",
       "      <td>12</td>\n",
       "      <td>Married-civ-spouse</td>\n",
       "      <td>Tech-support</td>\n",
       "      <td>Wife</td>\n",
       "      <td>White</td>\n",
       "      <td>Female</td>\n",
       "      <td>0</td>\n",
       "      <td>0</td>\n",
       "      <td>38</td>\n",
       "      <td>United-States</td>\n",
       "      <td>&lt;=50K</td>\n",
       "    </tr>\n",
       "    <tr>\n",
       "      <th>32556</th>\n",
       "      <td>40</td>\n",
       "      <td>Private</td>\n",
       "      <td>154374</td>\n",
       "      <td>HS-grad</td>\n",
       "      <td>9</td>\n",
       "      <td>Married-civ-spouse</td>\n",
       "      <td>Machine-op-inspct</td>\n",
       "      <td>Husband</td>\n",
       "      <td>White</td>\n",
       "      <td>Male</td>\n",
       "      <td>0</td>\n",
       "      <td>0</td>\n",
       "      <td>40</td>\n",
       "      <td>United-States</td>\n",
       "      <td>&gt;50K</td>\n",
       "    </tr>\n",
       "    <tr>\n",
       "      <th>32557</th>\n",
       "      <td>58</td>\n",
       "      <td>Private</td>\n",
       "      <td>151910</td>\n",
       "      <td>HS-grad</td>\n",
       "      <td>9</td>\n",
       "      <td>Widowed</td>\n",
       "      <td>Adm-clerical</td>\n",
       "      <td>Unmarried</td>\n",
       "      <td>White</td>\n",
       "      <td>Female</td>\n",
       "      <td>0</td>\n",
       "      <td>0</td>\n",
       "      <td>40</td>\n",
       "      <td>United-States</td>\n",
       "      <td>&lt;=50K</td>\n",
       "    </tr>\n",
       "    <tr>\n",
       "      <th>32558</th>\n",
       "      <td>22</td>\n",
       "      <td>Private</td>\n",
       "      <td>201490</td>\n",
       "      <td>HS-grad</td>\n",
       "      <td>9</td>\n",
       "      <td>Never-married</td>\n",
       "      <td>Adm-clerical</td>\n",
       "      <td>Own-child</td>\n",
       "      <td>White</td>\n",
       "      <td>Male</td>\n",
       "      <td>0</td>\n",
       "      <td>0</td>\n",
       "      <td>20</td>\n",
       "      <td>United-States</td>\n",
       "      <td>&lt;=50K</td>\n",
       "    </tr>\n",
       "    <tr>\n",
       "      <th>32559</th>\n",
       "      <td>52</td>\n",
       "      <td>Self-emp-inc</td>\n",
       "      <td>287927</td>\n",
       "      <td>HS-grad</td>\n",
       "      <td>9</td>\n",
       "      <td>Married-civ-spouse</td>\n",
       "      <td>Exec-managerial</td>\n",
       "      <td>Wife</td>\n",
       "      <td>White</td>\n",
       "      <td>Female</td>\n",
       "      <td>15024</td>\n",
       "      <td>0</td>\n",
       "      <td>40</td>\n",
       "      <td>United-States</td>\n",
       "      <td>&gt;50K</td>\n",
       "    </tr>\n",
       "  </tbody>\n",
       "</table>\n",
       "<p>32560 rows × 15 columns</p>\n",
       "</div>"
      ],
      "text/plain": [
       "       Age          Workclass  Fnlwgt    Education  Education_num  \\\n",
       "0       50   Self-emp-not-inc   83311    Bachelors             13   \n",
       "1       38            Private  215646      HS-grad              9   \n",
       "2       53            Private  234721         11th              7   \n",
       "3       28            Private  338409    Bachelors             13   \n",
       "4       37            Private  284582      Masters             14   \n",
       "...    ...                ...     ...          ...            ...   \n",
       "32555   27            Private  257302   Assoc-acdm             12   \n",
       "32556   40            Private  154374      HS-grad              9   \n",
       "32557   58            Private  151910      HS-grad              9   \n",
       "32558   22            Private  201490      HS-grad              9   \n",
       "32559   52       Self-emp-inc  287927      HS-grad              9   \n",
       "\n",
       "            Marital_status          Occupation    Relationship    Race  \\\n",
       "0       Married-civ-spouse     Exec-managerial         Husband   White   \n",
       "1                 Divorced   Handlers-cleaners   Not-in-family   White   \n",
       "2       Married-civ-spouse   Handlers-cleaners         Husband   Black   \n",
       "3       Married-civ-spouse      Prof-specialty            Wife   Black   \n",
       "4       Married-civ-spouse     Exec-managerial            Wife   White   \n",
       "...                    ...                 ...             ...     ...   \n",
       "32555   Married-civ-spouse        Tech-support            Wife   White   \n",
       "32556   Married-civ-spouse   Machine-op-inspct         Husband   White   \n",
       "32557              Widowed        Adm-clerical       Unmarried   White   \n",
       "32558        Never-married        Adm-clerical       Own-child   White   \n",
       "32559   Married-civ-spouse     Exec-managerial            Wife   White   \n",
       "\n",
       "           Sex  Capital_gain  Capital_loss  Hours_per_week  Native_country  \\\n",
       "0         Male             0             0              13   United-States   \n",
       "1         Male             0             0              40   United-States   \n",
       "2         Male             0             0              40   United-States   \n",
       "3       Female             0             0              40            Cuba   \n",
       "4       Female             0             0              40   United-States   \n",
       "...        ...           ...           ...             ...             ...   \n",
       "32555   Female             0             0              38   United-States   \n",
       "32556     Male             0             0              40   United-States   \n",
       "32557   Female             0             0              40   United-States   \n",
       "32558     Male             0             0              20   United-States   \n",
       "32559   Female         15024             0              40   United-States   \n",
       "\n",
       "       Income  \n",
       "0       <=50K  \n",
       "1       <=50K  \n",
       "2       <=50K  \n",
       "3       <=50K  \n",
       "4       <=50K  \n",
       "...       ...  \n",
       "32555   <=50K  \n",
       "32556    >50K  \n",
       "32557   <=50K  \n",
       "32558   <=50K  \n",
       "32559    >50K  \n",
       "\n",
       "[32560 rows x 15 columns]"
      ]
     },
     "execution_count": 2,
     "metadata": {},
     "output_type": "execute_result"
    }
   ],
   "source": [
    "data = pd.read_csv('census_income.csv')\n",
    "data"
   ]
  },
  {
   "cell_type": "code",
   "execution_count": 3,
   "id": "7e331070",
   "metadata": {},
   "outputs": [
    {
     "data": {
      "text/plain": [
       "(32560, 15)"
      ]
     },
     "execution_count": 3,
     "metadata": {},
     "output_type": "execute_result"
    }
   ],
   "source": [
    "data.shape"
   ]
  },
  {
   "cell_type": "code",
   "execution_count": 4,
   "id": "d86b07bd",
   "metadata": {},
   "outputs": [
    {
     "name": "stdout",
     "output_type": "stream",
     "text": [
      "<class 'pandas.core.frame.DataFrame'>\n",
      "RangeIndex: 32560 entries, 0 to 32559\n",
      "Data columns (total 15 columns):\n",
      " #   Column          Non-Null Count  Dtype \n",
      "---  ------          --------------  ----- \n",
      " 0   Age             32560 non-null  int64 \n",
      " 1   Workclass       32560 non-null  object\n",
      " 2   Fnlwgt          32560 non-null  int64 \n",
      " 3   Education       32560 non-null  object\n",
      " 4   Education_num   32560 non-null  int64 \n",
      " 5   Marital_status  32560 non-null  object\n",
      " 6   Occupation      32560 non-null  object\n",
      " 7   Relationship    32560 non-null  object\n",
      " 8   Race            32560 non-null  object\n",
      " 9   Sex             32560 non-null  object\n",
      " 10  Capital_gain    32560 non-null  int64 \n",
      " 11  Capital_loss    32560 non-null  int64 \n",
      " 12  Hours_per_week  32560 non-null  int64 \n",
      " 13  Native_country  32560 non-null  object\n",
      " 14  Income          32560 non-null  object\n",
      "dtypes: int64(6), object(9)\n",
      "memory usage: 3.7+ MB\n"
     ]
    }
   ],
   "source": [
    "data.info()"
   ]
  },
  {
   "cell_type": "code",
   "execution_count": 5,
   "id": "cb492ecf",
   "metadata": {},
   "outputs": [
    {
     "data": {
      "text/plain": [
       "Age               0\n",
       "Workclass         0\n",
       "Fnlwgt            0\n",
       "Education         0\n",
       "Education_num     0\n",
       "Marital_status    0\n",
       "Occupation        0\n",
       "Relationship      0\n",
       "Race              0\n",
       "Sex               0\n",
       "Capital_gain      0\n",
       "Capital_loss      0\n",
       "Hours_per_week    0\n",
       "Native_country    0\n",
       "Income            0\n",
       "dtype: int64"
      ]
     },
     "execution_count": 5,
     "metadata": {},
     "output_type": "execute_result"
    }
   ],
   "source": [
    "data.isna().sum()"
   ]
  },
  {
   "cell_type": "code",
   "execution_count": 6,
   "id": "e4e31a9f",
   "metadata": {},
   "outputs": [
    {
     "data": {
      "text/plain": [
       "Index(['Age', 'Workclass', 'Fnlwgt', 'Education', 'Education_num',\n",
       "       'Marital_status', 'Occupation', 'Relationship', 'Race', 'Sex',\n",
       "       'Capital_gain', 'Capital_loss', 'Hours_per_week', 'Native_country',\n",
       "       'Income'],\n",
       "      dtype='object')"
      ]
     },
     "execution_count": 6,
     "metadata": {},
     "output_type": "execute_result"
    }
   ],
   "source": [
    "data.columns"
   ]
  },
  {
   "cell_type": "markdown",
   "id": "8f234f20",
   "metadata": {},
   "source": [
    "## Basic Data Description\n",
    "\n",
    "* Data has 15 columns & 32560 Rows.\n",
    "* No Missing values in the data set.\n",
    "* 9 columns out of 15 columns are object data type columns including the target column.\n",
    "1. Workclass\n",
    "2. Education\n",
    "3. Marital_status\n",
    "4. Occupation\n",
    "5. Relationship\n",
    "6. Race\n",
    "7. Sex\n",
    "8. Native_country\n",
    "9. Income\n",
    "* Rest of columns are integer data type.\n",
    "* Since the Problem Statement State that the prediction task is to determine whether a person makes over $50k/month or not, our target column is Income & we need to predct the income.\n",
    "\n",
    "The data is overall good no missing values were found, Data need not required much data cleaning. We need to handle object data types column and EDA part if we will find anything important in EDA part than we will act accordingly."
   ]
  },
  {
   "cell_type": "markdown",
   "id": "6ef13326",
   "metadata": {},
   "source": [
    "# Exploratory Data Analysis."
   ]
  },
  {
   "cell_type": "markdown",
   "id": "4bd1958c",
   "metadata": {},
   "source": [
    "### 1. Age."
   ]
  },
  {
   "cell_type": "code",
   "execution_count": 7,
   "id": "7f4c5471",
   "metadata": {},
   "outputs": [
    {
     "data": {
      "text/plain": [
       "count    32560.000000\n",
       "mean        38.581634\n",
       "std         13.640642\n",
       "min         17.000000\n",
       "25%         28.000000\n",
       "50%         37.000000\n",
       "75%         48.000000\n",
       "max         90.000000\n",
       "Name: Age, dtype: float64"
      ]
     },
     "execution_count": 7,
     "metadata": {},
     "output_type": "execute_result"
    }
   ],
   "source": [
    "data['Age'].describe()"
   ]
  },
  {
   "cell_type": "markdown",
   "id": "430ebba7",
   "metadata": {},
   "source": [
    "The information from the description is noted as follows:\n",
    "* Age column represents the age in years of the person.\n",
    "* Data from minimum value to 75% is distributed quite perfactly.\n",
    "* Standard deviation of the data is quite high than the normal devaition as we can maximum age is 90.\n",
    "* We will plot the distribution plot & boxlot for the column to see the data distribution and outliers in the column. And we wil act accordingly."
   ]
  },
  {
   "cell_type": "code",
   "execution_count": 8,
   "id": "b12d9c11",
   "metadata": {},
   "outputs": [
    {
     "data": {
      "text/plain": [
       "<AxesSubplot:xlabel='Age', ylabel='Density'>"
      ]
     },
     "execution_count": 8,
     "metadata": {},
     "output_type": "execute_result"
    },
    {
     "data": {
      "image/png": "[encoded data removed]",
      "text/plain": [
       "<Figure size 792x504 with 1 Axes>"
      ]
     },
     "metadata": {
      "needs_background": "light"
     },
     "output_type": "display_data"
    }
   ],
   "source": [
    "plt.figure(figsize = (11,7))\n",
    "sns.set_style('whitegrid')\n",
    "sns.distplot(data['Age'], color = 'darkblue', bins = 40, kde = True)"
   ]
  },
  {
   "cell_type": "markdown",
   "id": "99e96c4c",
   "metadata": {},
   "source": [
    "Data is little right skewed. Mean range is very high in counts that is why even the gap between 75% of the data and highest of the data is large, standard devaiation of the data is 1/3rd of the mean."
   ]
  },
  {
   "cell_type": "code",
   "execution_count": 9,
   "id": "0470a57e",
   "metadata": {},
   "outputs": [
    {
     "data": {
      "text/plain": [
       "<AxesSubplot:xlabel='Age'>"
      ]
     },
     "execution_count": 9,
     "metadata": {},
     "output_type": "execute_result"
    },
    {
     "data": {
      "image/png": "[encoded data removed]",
      "text/plain": [
       "<Figure size 792x504 with 1 Axes>"
      ]
     },
     "metadata": {},
     "output_type": "display_data"
    }
   ],
   "source": [
    "plt.figure(figsize = (11,7))\n",
    "sns.set_style('whitegrid')\n",
    "sns.boxplot(data['Age'])"
   ]
  },
  {
   "cell_type": "markdown",
   "id": "54b1aaa4",
   "metadata": {},
   "source": [
    "Boxplot is clearly showing the outliers somewhere around above 78 years age. We will fix this after the EDA."
   ]
  },
  {
   "cell_type": "markdown",
   "id": "ba6d1525",
   "metadata": {},
   "source": [
    "### 2. Workclass."
   ]
  },
  {
   "cell_type": "code",
   "execution_count": 10,
   "id": "cdf88863",
   "metadata": {},
   "outputs": [
    {
     "data": {
      "text/plain": [
       "count        32560\n",
       "unique           9\n",
       "top        Private\n",
       "freq         22696\n",
       "Name: Workclass, dtype: object"
      ]
     },
     "execution_count": 10,
     "metadata": {},
     "output_type": "execute_result"
    }
   ],
   "source": [
    "data['Workclass'].describe()"
   ]
  },
  {
   "cell_type": "code",
   "execution_count": 11,
   "id": "0b8a0358",
   "metadata": {},
   "outputs": [
    {
     "data": {
      "text/plain": [
       " Private             22696\n",
       " Self-emp-not-inc     2541\n",
       " Local-gov            2093\n",
       " ?                    1836\n",
       " State-gov            1297\n",
       " Self-emp-inc         1116\n",
       " Federal-gov           960\n",
       " Without-pay            14\n",
       " Never-worked            7\n",
       "Name: Workclass, dtype: int64"
      ]
     },
     "execution_count": 11,
     "metadata": {},
     "output_type": "execute_result"
    }
   ],
   "source": [
    "data['Workclass'].value_counts()"
   ]
  },
  {
   "cell_type": "markdown",
   "id": "5fabc3b9",
   "metadata": {},
   "source": [
    "The information of the ```Workclass``` column is noted as follows:\n",
    "* **Workclass** column represents the employement type of the person.\n",
    "* It's a categorical column having 9 categories of employement.\n",
    "* Column has object data type.\n",
    "* Since the column is categorical we will plot a count plot to see the dta distrbution along with 9 categories in the column."
   ]
  },
  {
   "cell_type": "code",
   "execution_count": 12,
   "id": "9f9ddd77",
   "metadata": {},
   "outputs": [
    {
     "data": {
      "text/plain": [
       "<AxesSubplot:xlabel='Workclass', ylabel='count'>"
      ]
     },
     "execution_count": 12,
     "metadata": {},
     "output_type": "execute_result"
    },
    {
     "data": {
      "image/png": "[encoded data removed]",
      "text/plain": [
       "<Figure size 792x504 with 1 Axes>"
      ]
     },
     "metadata": {},
     "output_type": "display_data"
    }
   ],
   "source": [
    "plt.figure(figsize = (11,7))\n",
    "sns.set_style('whitegrid')\n",
    "sns.countplot(data['Workclass'], palette = 'hsv')"
   ]
  },
  {
   "cell_type": "markdown",
   "id": "d2bb63e3",
   "metadata": {},
   "source": [
    "* Working Professionals under private sector are more than any category.\n",
    "* 70% perofessionals comes under Private category, rest of 30% are divided in rest 8 categories.\n",
    "* There is also 2 categories named with Without-pay & Never-worked who have only 14 & 7 people under it.\n",
    "* There is a category named with **?** we will consider it as other category."
   ]
  },
  {
   "cell_type": "markdown",
   "id": "a76948d1",
   "metadata": {},
   "source": [
    "### 3. Fnlwgt."
   ]
  },
  {
   "cell_type": "code",
   "execution_count": 13,
   "id": "f0af7960",
   "metadata": {},
   "outputs": [
    {
     "data": {
      "text/plain": [
       "count    3.256000e+04\n",
       "mean     1.897818e+05\n",
       "std      1.055498e+05\n",
       "min      1.228500e+04\n",
       "25%      1.178315e+05\n",
       "50%      1.783630e+05\n",
       "75%      2.370545e+05\n",
       "max      1.484705e+06\n",
       "Name: Fnlwgt, dtype: float64"
      ]
     },
     "execution_count": 13,
     "metadata": {},
     "output_type": "execute_result"
    }
   ],
   "source": [
    "data['Fnlwgt'].describe()"
   ]
  },
  {
   "cell_type": "code",
   "execution_count": 14,
   "id": "c4b12c98",
   "metadata": {},
   "outputs": [
    {
     "data": {
      "text/plain": [
       "<AxesSubplot:xlabel='Fnlwgt', ylabel='Density'>"
      ]
     },
     "execution_count": 14,
     "metadata": {},
     "output_type": "execute_result"
    },
    {
     "data": {
      "image/png": "[encoded data removed]",
      "text/plain": [
       "<Figure size 792x504 with 1 Axes>"
      ]
     },
     "metadata": {},
     "output_type": "display_data"
    }
   ],
   "source": [
    "plt.figure(figsize = (11,7))\n",
    "sns.distplot(data['Fnlwgt'],bins = 60, color = 'red')"
   ]
  },
  {
   "cell_type": "code",
   "execution_count": 15,
   "id": "c8b42814",
   "metadata": {},
   "outputs": [
    {
     "data": {
      "text/plain": [
       "<AxesSubplot:xlabel='Fnlwgt'>"
      ]
     },
     "execution_count": 15,
     "metadata": {},
     "output_type": "execute_result"
    },
    {
     "data": {
      "image/png": "[encoded data removed]",
      "text/plain": [
       "<Figure size 792x504 with 1 Axes>"
      ]
     },
     "metadata": {},
     "output_type": "display_data"
    }
   ],
   "source": [
    "plt.figure(figsize = (11,7))\n",
    "sns.boxplot(data['Fnlwgt'], color = 'red')"
   ]
  },
  {
   "cell_type": "markdown",
   "id": "49287d4e",
   "metadata": {},
   "source": [
    "* The distribution plot of the column is showing a long right skewed data is present in the column.\n",
    "* Box plot is showing  too much outliers data present in the right side of the box.\n",
    "* We will fix this after EDA."
   ]
  },
  {
   "cell_type": "markdown",
   "id": "9c216319",
   "metadata": {},
   "source": [
    "### 4. Education."
   ]
  },
  {
   "cell_type": "code",
   "execution_count": 16,
   "id": "491e9705",
   "metadata": {},
   "outputs": [
    {
     "data": {
      "text/plain": [
       "count        32560\n",
       "unique          16\n",
       "top        HS-grad\n",
       "freq         10501\n",
       "Name: Education, dtype: object"
      ]
     },
     "execution_count": 16,
     "metadata": {},
     "output_type": "execute_result"
    }
   ],
   "source": [
    "data['Education'].describe()"
   ]
  },
  {
   "cell_type": "code",
   "execution_count": 17,
   "id": "0c2ccd17",
   "metadata": {},
   "outputs": [
    {
     "data": {
      "text/plain": [
       " HS-grad         10501\n",
       " Some-college     7291\n",
       " Bachelors        5354\n",
       " Masters          1723\n",
       " Assoc-voc        1382\n",
       " 11th             1175\n",
       " Assoc-acdm       1067\n",
       " 10th              933\n",
       " 7th-8th           646\n",
       " Prof-school       576\n",
       " 9th               514\n",
       " 12th              433\n",
       " Doctorate         413\n",
       " 5th-6th           333\n",
       " 1st-4th           168\n",
       " Preschool          51\n",
       "Name: Education, dtype: int64"
      ]
     },
     "execution_count": 17,
     "metadata": {},
     "output_type": "execute_result"
    }
   ],
   "source": [
    "data['Education'].value_counts()"
   ]
  },
  {
   "cell_type": "markdown",
   "id": "c4ca3791",
   "metadata": {},
   "source": [
    "Information of ```Education``` column is noted as follows:\n",
    "* Education column represents the type of education a person had.\n",
    "* This column is a categorical column and the data type of the column is object data type.\n",
    "* This column has 16 categories of different-different education qualification.\n",
    "* HS-Grad has highest counts\n",
    "* While preschool has least counts.\n",
    "* Since the data in the column is categorical, we will plot the countplot to see the data distribution in the column of all 16 categories."
   ]
  },
  {
   "cell_type": "code",
   "execution_count": 18,
   "id": "a3a7a9e6",
   "metadata": {},
   "outputs": [
    {
     "data": {
      "text/plain": [
       "(array([    0.,  2000.,  4000.,  6000.,  8000., 10000., 12000.]),\n",
       " [Text(0, 0, ''),\n",
       "  Text(0, 0, ''),\n",
       "  Text(0, 0, ''),\n",
       "  Text(0, 0, ''),\n",
       "  Text(0, 0, ''),\n",
       "  Text(0, 0, ''),\n",
       "  Text(0, 0, '')])"
      ]
     },
     "execution_count": 18,
     "metadata": {},
     "output_type": "execute_result"
    },
    {
     "data": {
      "image/png": "[encoded data removed]",
      "text/plain": [
       "<Figure size 792x504 with 1 Axes>"
      ]
     },
     "metadata": {},
     "output_type": "display_data"
    }
   ],
   "source": [
    "plt.figure(figsize = (11,7))\n",
    "sns.countplot(data['Education'], palette = 'hsv_r')\n",
    "plt.xticks(rotation = 90, fontweight = 'bold', fontsize = 15)\n",
    "plt.yticks(fontweight = 'bold', fontsize = 15)"
   ]
  },
  {
   "cell_type": "markdown",
   "id": "598dcb98",
   "metadata": {},
   "source": [
    "* We can see that there are 3 categories in the column which have larger data, Bachelors, HS-grad & Some-college.\n",
    "* Other than these 3 categories, all categories have data very lesser and quite normally distributed.\n",
    "* Only 1st - 4th & Preschool has very lessar data."
   ]
  },
  {
   "cell_type": "markdown",
   "id": "9453e757",
   "metadata": {},
   "source": [
    "### 5. Education_num."
   ]
  },
  {
   "cell_type": "code",
   "execution_count": 19,
   "id": "08a7c990",
   "metadata": {},
   "outputs": [
    {
     "data": {
      "text/plain": [
       "count    32560.000000\n",
       "mean        10.080590\n",
       "std          2.572709\n",
       "min          1.000000\n",
       "25%          9.000000\n",
       "50%         10.000000\n",
       "75%         12.000000\n",
       "max         16.000000\n",
       "Name: Education_num, dtype: float64"
      ]
     },
     "execution_count": 19,
     "metadata": {},
     "output_type": "execute_result"
    }
   ],
   "source": [
    "data['Education_num'].describe()"
   ]
  },
  {
   "cell_type": "code",
   "execution_count": 20,
   "id": "70b0a730",
   "metadata": {},
   "outputs": [
    {
     "data": {
      "text/plain": [
       "9     10501\n",
       "10     7291\n",
       "13     5354\n",
       "14     1723\n",
       "11     1382\n",
       "7      1175\n",
       "12     1067\n",
       "6       933\n",
       "4       646\n",
       "15      576\n",
       "5       514\n",
       "8       433\n",
       "16      413\n",
       "3       333\n",
       "2       168\n",
       "1        51\n",
       "Name: Education_num, dtype: int64"
      ]
     },
     "execution_count": 20,
     "metadata": {},
     "output_type": "execute_result"
    }
   ],
   "source": [
    "data['Education_num'].value_counts()"
   ]
  },
  {
   "cell_type": "code",
   "execution_count": 21,
   "id": "fd0b7bde",
   "metadata": {},
   "outputs": [
    {
     "data": {
      "text/plain": [
       "(array([    0.,  2000.,  4000.,  6000.,  8000., 10000., 12000.]),\n",
       " [Text(0, 0, ''),\n",
       "  Text(0, 0, ''),\n",
       "  Text(0, 0, ''),\n",
       "  Text(0, 0, ''),\n",
       "  Text(0, 0, ''),\n",
       "  Text(0, 0, ''),\n",
       "  Text(0, 0, '')])"
      ]
     },
     "execution_count": 21,
     "metadata": {},
     "output_type": "execute_result"
    },
    {
     "data": {
      "image/png": "[encoded data removed]",
      "text/plain": [
       "<Figure size 792x504 with 1 Axes>"
      ]
     },
     "metadata": {},
     "output_type": "display_data"
    }
   ],
   "source": [
    "plt.figure(figsize = (11,7))\n",
    "sns.countplot(data['Education_num'], palette = 'mako')\n",
    "plt.xticks(fontweight = 'bold', fontsize = 15)\n",
    "plt.yticks(fontweight = 'bold', fontsize = 15)"
   ]
  },
  {
   "cell_type": "markdown",
   "id": "588a010b",
   "metadata": {},
   "source": [
    "Information of ```Education_num``` noted as follows:-\n",
    "* Seems like Education_num is number denoted to education of the person.\n",
    "* The counts of number in Education_num is matches with the count of categories in Education column.\n",
    "* We will plot the relation countplot of Education and Education_num to prove this & we'll analyze if they are same or not."
   ]
  },
  {
   "cell_type": "code",
   "execution_count": 22,
   "id": "321d9af5",
   "metadata": {},
   "outputs": [
    {
     "data": {
      "text/plain": [
       "(array([    0.,  2000.,  4000.,  6000.,  8000., 10000., 12000.]),\n",
       " [Text(0, 0, ''),\n",
       "  Text(0, 0, ''),\n",
       "  Text(0, 0, ''),\n",
       "  Text(0, 0, ''),\n",
       "  Text(0, 0, ''),\n",
       "  Text(0, 0, ''),\n",
       "  Text(0, 0, '')])"
      ]
     },
     "execution_count": 22,
     "metadata": {},
     "output_type": "execute_result"
    },
    {
     "data": {
      "image/png": "[encoded data removed]",
      "text/plain": [
       "<Figure size 1080x720 with 1 Axes>"
      ]
     },
     "metadata": {},
     "output_type": "display_data"
    }
   ],
   "source": [
    "plt.figure(figsize = (15,10))\n",
    "sns.countplot(data['Education_num'], hue = data['Education'], palette = 'hsv_r')\n",
    "plt.xticks(rotation = 90, fontweight = 'bold', fontsize = 15)\n",
    "plt.yticks(fontweight = 'bold', fontsize = 15)"
   ]
  },
  {
   "cell_type": "markdown",
   "id": "82a4def6",
   "metadata": {},
   "source": [
    "Result has come as expected. Below points has been noted:\n",
    "* We can see that in education column HS-grad has the highest number of the counts, & in Education_num 9 number has the highest count & when we plot the relational countplot of the both column we see that on 9 there is a bar of voilet color & voilet color bar represents the HS-grad.\n",
    "* Same we can see with number 13, it's third highest counts in Education column, in Education 3rd highest counts is of Bachelors & nuber 13 has red color bar which denoted the Bachelors."
   ]
  },
  {
   "cell_type": "markdown",
   "id": "6f955954",
   "metadata": {},
   "source": [
    "### 6. Marital_status"
   ]
  },
  {
   "cell_type": "code",
   "execution_count": 23,
   "id": "b0ee2b14",
   "metadata": {},
   "outputs": [
    {
     "data": {
      "text/plain": [
       "count                   32560\n",
       "unique                      7\n",
       "top        Married-civ-spouse\n",
       "freq                    14976\n",
       "Name: Marital_status, dtype: object"
      ]
     },
     "execution_count": 23,
     "metadata": {},
     "output_type": "execute_result"
    }
   ],
   "source": [
    "data['Marital_status'].describe()"
   ]
  },
  {
   "cell_type": "code",
   "execution_count": 24,
   "id": "444d1cad",
   "metadata": {},
   "outputs": [
    {
     "data": {
      "text/plain": [
       " Married-civ-spouse       14976\n",
       " Never-married            10682\n",
       " Divorced                  4443\n",
       " Separated                 1025\n",
       " Widowed                    993\n",
       " Married-spouse-absent      418\n",
       " Married-AF-spouse           23\n",
       "Name: Marital_status, dtype: int64"
      ]
     },
     "execution_count": 24,
     "metadata": {},
     "output_type": "execute_result"
    }
   ],
   "source": [
    "data['Marital_status'].value_counts()"
   ]
  },
  {
   "cell_type": "markdown",
   "id": "fde8977e",
   "metadata": {},
   "source": [
    "Information of ```Marital_status``` column is noted as follows:\n",
    "* Marital_status column represents as name itself suggest the marital status(Marriage) of the person.\n",
    "* This column is categorical column having 7 categories of marital status.\n",
    "* Data type of the column is Object data type.\n",
    "* Married-civ-spouse = civilian spouse. (Spouse is normal civilian)\n",
    "* Married-spouse-absent = absent spouse means married but spouse is living some other place because of some work or professional reason. Not saperated.\n",
    "* Married-AF-spouse = spouse is in Armed Force"
   ]
  },
  {
   "cell_type": "code",
   "execution_count": 25,
   "id": "63bfa4c7",
   "metadata": {},
   "outputs": [
    {
     "data": {
      "text/plain": [
       "(array([    0.,  2000.,  4000.,  6000.,  8000., 10000., 12000., 14000.,\n",
       "        16000.]),\n",
       " [Text(0, 0, ''),\n",
       "  Text(0, 0, ''),\n",
       "  Text(0, 0, ''),\n",
       "  Text(0, 0, ''),\n",
       "  Text(0, 0, ''),\n",
       "  Text(0, 0, ''),\n",
       "  Text(0, 0, ''),\n",
       "  Text(0, 0, ''),\n",
       "  Text(0, 0, '')])"
      ]
     },
     "execution_count": 25,
     "metadata": {},
     "output_type": "execute_result"
    },
    {
     "data": {
      "image/png": "[encoded data removed]",
      "text/plain": [
       "<Figure size 792x504 with 1 Axes>"
      ]
     },
     "metadata": {},
     "output_type": "display_data"
    }
   ],
   "source": [
    "plt.figure(figsize = (11,7))\n",
    "sns.countplot(data['Marital_status'], palette = 'Greens')\n",
    "plt.xticks(rotation = 90, fontweight = 'bold', fontsize = 15)\n",
    "plt.yticks(fontweight = 'bold', fontsize = 15)"
   ]
  },
  {
   "cell_type": "markdown",
   "id": "9633c416",
   "metadata": {},
   "source": [
    "Following points has been noted:\n",
    "* Married with civilian spouse has the highest counts.\n",
    "* Never Married or Unmarried people are the second highest.\n",
    "* Married with or spouse in Armed Force has the very least counts.\n",
    "* There are also some people second least whose spouse are living some other place because of professional reason or may be another reason termed as Married-absent-spouse."
   ]
  },
  {
   "cell_type": "markdown",
   "id": "b1269665",
   "metadata": {},
   "source": [
    "### 7. Occupation."
   ]
  },
  {
   "cell_type": "code",
   "execution_count": 26,
   "id": "47376590",
   "metadata": {},
   "outputs": [
    {
     "data": {
      "text/plain": [
       "count               32560\n",
       "unique                 15\n",
       "top        Prof-specialty\n",
       "freq                 4140\n",
       "Name: Occupation, dtype: object"
      ]
     },
     "execution_count": 26,
     "metadata": {},
     "output_type": "execute_result"
    }
   ],
   "source": [
    "data['Occupation'].describe()"
   ]
  },
  {
   "cell_type": "code",
   "execution_count": 27,
   "id": "3522d9b6",
   "metadata": {},
   "outputs": [
    {
     "data": {
      "text/plain": [
       " Prof-specialty       4140\n",
       " Craft-repair         4099\n",
       " Exec-managerial      4066\n",
       " Adm-clerical         3769\n",
       " Sales                3650\n",
       " Other-service        3295\n",
       " Machine-op-inspct    2002\n",
       " ?                    1843\n",
       " Transport-moving     1597\n",
       " Handlers-cleaners    1370\n",
       " Farming-fishing       994\n",
       " Tech-support          928\n",
       " Protective-serv       649\n",
       " Priv-house-serv       149\n",
       " Armed-Forces            9\n",
       "Name: Occupation, dtype: int64"
      ]
     },
     "execution_count": 27,
     "metadata": {},
     "output_type": "execute_result"
    }
   ],
   "source": [
    "data['Occupation'].value_counts()"
   ]
  },
  {
   "cell_type": "markdown",
   "id": "1cfcac96",
   "metadata": {},
   "source": [
    "Information about ```Occupation``` column is noted as follows:\n",
    "* Occupation column represents the professional occupation of the person.\n",
    "* This column is a categorical column having 15 categories of the professional occupations.\n",
    "* The data type of the column is object data type.\n",
    "* Since the data is categorical in the column we will plot the count plot to see the data distribution in each categories."
   ]
  },
  {
   "cell_type": "code",
   "execution_count": 28,
   "id": "34c0813a",
   "metadata": {},
   "outputs": [
    {
     "data": {
      "text/plain": [
       "(array([   0.,  500., 1000., 1500., 2000., 2500., 3000., 3500., 4000.,\n",
       "        4500.]),\n",
       " [Text(0, 0, ''),\n",
       "  Text(0, 0, ''),\n",
       "  Text(0, 0, ''),\n",
       "  Text(0, 0, ''),\n",
       "  Text(0, 0, ''),\n",
       "  Text(0, 0, ''),\n",
       "  Text(0, 0, ''),\n",
       "  Text(0, 0, ''),\n",
       "  Text(0, 0, ''),\n",
       "  Text(0, 0, '')])"
      ]
     },
     "execution_count": 28,
     "metadata": {},
     "output_type": "execute_result"
    },
    {
     "data": {
      "image/png": "[encoded data removed]",
      "text/plain": [
       "<Figure size 792x504 with 1 Axes>"
      ]
     },
     "metadata": {},
     "output_type": "display_data"
    }
   ],
   "source": [
    "plt.figure(figsize = (11,7))\n",
    "sns.countplot(data['Occupation'], palette = 'gist_heat')\n",
    "plt.xticks(rotation = 90, fontweight = 'bold', fontsize = 12)\n",
    "plt.yticks(fontweight = 'bold', fontsize = 12)"
   ]
  },
  {
   "cell_type": "markdown",
   "id": "b9310194",
   "metadata": {},
   "source": [
    "Following points has been noted:\n",
    "* Prof-speciality has the highest counts.\n",
    "* count Range of Prof-speciality, Exec-managerial & Craft-repair is same.\n",
    "* Armed-force has the least count."
   ]
  },
  {
   "cell_type": "markdown",
   "id": "40cbfbd6",
   "metadata": {},
   "source": [
    "### 8. Relationship."
   ]
  },
  {
   "cell_type": "code",
   "execution_count": 29,
   "id": "4ad12c72",
   "metadata": {},
   "outputs": [
    {
     "data": {
      "text/plain": [
       "count        32560\n",
       "unique           6\n",
       "top        Husband\n",
       "freq         13193\n",
       "Name: Relationship, dtype: object"
      ]
     },
     "execution_count": 29,
     "metadata": {},
     "output_type": "execute_result"
    }
   ],
   "source": [
    "data['Relationship'].describe()"
   ]
  },
  {
   "cell_type": "code",
   "execution_count": 30,
   "id": "263d91ed",
   "metadata": {},
   "outputs": [
    {
     "data": {
      "text/plain": [
       " Husband           13193\n",
       " Not-in-family      8304\n",
       " Own-child          5068\n",
       " Unmarried          3446\n",
       " Wife               1568\n",
       " Other-relative      981\n",
       "Name: Relationship, dtype: int64"
      ]
     },
     "execution_count": 30,
     "metadata": {},
     "output_type": "execute_result"
    }
   ],
   "source": [
    "data['Relationship'].value_counts()"
   ]
  },
  {
   "cell_type": "markdown",
   "id": "81962e60",
   "metadata": {},
   "source": [
    "The information about ```Relationship``` column is noted as follows:\n",
    "* Relationship column represents the what role of relationship of the person is, in his/her self derived family.\n",
    "* This column is a categorical column having 6 categories of relationships.\n",
    "* The data type of the colun is object data type.\n",
    "* Since the column is categorical we will plot the countplot to see the data distributions in the cactegories of the column."
   ]
  },
  {
   "cell_type": "code",
   "execution_count": 31,
   "id": "9912b6d1",
   "metadata": {},
   "outputs": [
    {
     "data": {
      "text/plain": [
       "(array([    0.,  2000.,  4000.,  6000.,  8000., 10000., 12000., 14000.]),\n",
       " [Text(0, 0, ''),\n",
       "  Text(0, 0, ''),\n",
       "  Text(0, 0, ''),\n",
       "  Text(0, 0, ''),\n",
       "  Text(0, 0, ''),\n",
       "  Text(0, 0, ''),\n",
       "  Text(0, 0, ''),\n",
       "  Text(0, 0, '')])"
      ]
     },
     "execution_count": 31,
     "metadata": {},
     "output_type": "execute_result"
    },
    {
     "data": {
      "image/png": "[encoded data removed]",
      "text/plain": [
       "<Figure size 792x504 with 1 Axes>"
      ]
     },
     "metadata": {},
     "output_type": "display_data"
    }
   ],
   "source": [
    "plt.figure(figsize = (11,7))\n",
    "sns.countplot(data['Relationship'], palette = 'gist_ncar')\n",
    "plt.xticks(rotation = 90, fontweight = 'bold', fontsize = 13)\n",
    "plt.yticks(fontweight = 'bold', fontsize = 13)"
   ]
  },
  {
   "cell_type": "markdown",
   "id": "78a5f294",
   "metadata": {},
   "source": [
    "Following points has been noted:\n",
    "* We can see that most of the people are husbands in the family.\n",
    "* One who owns the child has the priority with the child as Own-Child, offcourse he/shee is also husband/wife but now child has given the relation priority over spouse."
   ]
  },
  {
   "cell_type": "markdown",
   "id": "6ba25ff6",
   "metadata": {},
   "source": [
    "### 9. Race."
   ]
  },
  {
   "cell_type": "code",
   "execution_count": 32,
   "id": "c77185aa",
   "metadata": {},
   "outputs": [
    {
     "data": {
      "text/plain": [
       "count      32560\n",
       "unique         5\n",
       "top        White\n",
       "freq       27815\n",
       "Name: Race, dtype: object"
      ]
     },
     "execution_count": 32,
     "metadata": {},
     "output_type": "execute_result"
    }
   ],
   "source": [
    "data['Race'].describe()"
   ]
  },
  {
   "cell_type": "code",
   "execution_count": 33,
   "id": "20469962",
   "metadata": {},
   "outputs": [
    {
     "data": {
      "text/plain": [
       " White                 27815\n",
       " Black                  3124\n",
       " Asian-Pac-Islander     1039\n",
       " Amer-Indian-Eskimo      311\n",
       " Other                   271\n",
       "Name: Race, dtype: int64"
      ]
     },
     "execution_count": 33,
     "metadata": {},
     "output_type": "execute_result"
    }
   ],
   "source": [
    "data['Race'].value_counts()"
   ]
  },
  {
   "cell_type": "markdown",
   "id": "7c275030",
   "metadata": {},
   "source": [
    "Information about ```Race``` column is noted as follows:\n",
    "* Race column represents from which race the person comes from.\n",
    "* This column is a categorical column having 5 categories of the Race of the people.\n",
    "* The data type of the column is object data type.\n",
    "* since the colun is categorical column we will plot the countplot to see the data distribution in categories of the colun."
   ]
  },
  {
   "cell_type": "code",
   "execution_count": 34,
   "id": "6cad900a",
   "metadata": {},
   "outputs": [
    {
     "data": {
      "text/plain": [
       "(array([    0.,  5000., 10000., 15000., 20000., 25000., 30000.]),\n",
       " [Text(0, 0, ''),\n",
       "  Text(0, 0, ''),\n",
       "  Text(0, 0, ''),\n",
       "  Text(0, 0, ''),\n",
       "  Text(0, 0, ''),\n",
       "  Text(0, 0, ''),\n",
       "  Text(0, 0, '')])"
      ]
     },
     "execution_count": 34,
     "metadata": {},
     "output_type": "execute_result"
    },
    {
     "data": {
      "image/png": "[encoded data removed]",
      "text/plain": [
       "<Figure size 792x504 with 1 Axes>"
      ]
     },
     "metadata": {},
     "output_type": "display_data"
    }
   ],
   "source": [
    "plt.figure(figsize = (11,7))\n",
    "sns.countplot(data['Race'], palette = 'rainbow')\n",
    "plt.xticks(rotation = 90, fontweight = 'bold', fontsize = 13)\n",
    "plt.yticks(fontweight = 'bold', fontsize = 13)"
   ]
  },
  {
   "cell_type": "markdown",
   "id": "fa22d0c7",
   "metadata": {},
   "source": [
    "Following points haas been noted:\n",
    "* White race people has the highest counts.\n",
    "* Some people's Race has been categorised as Other and it has the least counts.\n",
    "* Almost 88% people are of White Race & rest of 12% people are of 4 different race, Black, Asian Pacific Islander, American Indian Esikimo & Other."
   ]
  },
  {
   "cell_type": "markdown",
   "id": "446aa8c3",
   "metadata": {},
   "source": [
    "### 10. Sex."
   ]
  },
  {
   "cell_type": "code",
   "execution_count": 35,
   "id": "bfbb4356",
   "metadata": {},
   "outputs": [
    {
     "data": {
      "text/plain": [
       "count     32560\n",
       "unique        2\n",
       "top        Male\n",
       "freq      21789\n",
       "Name: Sex, dtype: object"
      ]
     },
     "execution_count": 35,
     "metadata": {},
     "output_type": "execute_result"
    }
   ],
   "source": [
    "data['Sex'].describe()"
   ]
  },
  {
   "cell_type": "code",
   "execution_count": 36,
   "id": "4988f1d0",
   "metadata": {},
   "outputs": [
    {
     "data": {
      "text/plain": [
       " Male      21789\n",
       " Female    10771\n",
       "Name: Sex, dtype: int64"
      ]
     },
     "execution_count": 36,
     "metadata": {},
     "output_type": "execute_result"
    }
   ],
   "source": [
    "data['Sex'].value_counts()"
   ]
  },
  {
   "cell_type": "markdown",
   "id": "69e7cf32",
   "metadata": {},
   "source": [
    "Information about ```Sex``` column is noted as follows:\n",
    "* Sex Column Represents the gender of the person.\n",
    "* This column is a categorical column having 2 categories of Gender.\n",
    "* The data type of the column is Object data type.\n",
    "* Since the data is categorical in this column we will plot the countplot to see the data distribution in the categories."
   ]
  },
  {
   "cell_type": "code",
   "execution_count": 37,
   "id": "63df4ff2",
   "metadata": {},
   "outputs": [
    {
     "data": {
      "text/plain": [
       "(array([    0.,  5000., 10000., 15000., 20000., 25000.]),\n",
       " [Text(0, 0, ''),\n",
       "  Text(0, 0, ''),\n",
       "  Text(0, 0, ''),\n",
       "  Text(0, 0, ''),\n",
       "  Text(0, 0, ''),\n",
       "  Text(0, 0, '')])"
      ]
     },
     "execution_count": 37,
     "metadata": {},
     "output_type": "execute_result"
    },
    {
     "data": {
      "image/png": "[encoded data removed]",
      "text/plain": [
       "<Figure size 792x504 with 1 Axes>"
      ]
     },
     "metadata": {},
     "output_type": "display_data"
    }
   ],
   "source": [
    "plt.figure(figsize = (11,7))\n",
    "sns.countplot(data['Sex'], palette = 'hot')\n",
    "plt.xticks(rotation = 90, fontweight = 'bold', fontsize = 13)\n",
    "plt.yticks(fontweight = 'bold', fontsize = 13)"
   ]
  },
  {
   "cell_type": "markdown",
   "id": "d2c6fc0c",
   "metadata": {},
   "source": [
    "Following points has been noted:\n",
    "* There is 21789 male.\n",
    "* There is 10771 female."
   ]
  },
  {
   "cell_type": "markdown",
   "id": "605d8274",
   "metadata": {},
   "source": [
    "### 11. Capital_gain."
   ]
  },
  {
   "cell_type": "code",
   "execution_count": 38,
   "id": "1245c2d9",
   "metadata": {},
   "outputs": [
    {
     "data": {
      "text/plain": [
       "count    32560.000000\n",
       "mean      1077.615172\n",
       "std       7385.402999\n",
       "min          0.000000\n",
       "25%          0.000000\n",
       "50%          0.000000\n",
       "75%          0.000000\n",
       "max      99999.000000\n",
       "Name: Capital_gain, dtype: float64"
      ]
     },
     "execution_count": 38,
     "metadata": {},
     "output_type": "execute_result"
    }
   ],
   "source": [
    "data['Capital_gain'].describe()"
   ]
  },
  {
   "cell_type": "code",
   "execution_count": 39,
   "id": "f4ce1ac6",
   "metadata": {},
   "outputs": [
    {
     "data": {
      "text/plain": [
       "0        29849\n",
       "15024      347\n",
       "7688       284\n",
       "7298       246\n",
       "99999      159\n",
       "         ...  \n",
       "1639         1\n",
       "5060         1\n",
       "6097         1\n",
       "1455         1\n",
       "7978         1\n",
       "Name: Capital_gain, Length: 119, dtype: int64"
      ]
     },
     "execution_count": 39,
     "metadata": {},
     "output_type": "execute_result"
    }
   ],
   "source": [
    "data['Capital_gain'].value_counts()"
   ]
  },
  {
   "cell_type": "markdown",
   "id": "7399c790",
   "metadata": {},
   "source": [
    "Information about ```Capita_gain``` column noted as follows:\n",
    "* Capital gain column represents the financial gain or profit of the person.\n",
    "* This column has continous data.\n",
    "* Data Type of the column is Integer data type.\n",
    "* Since the column is continous we will plot the distplot to see the data distribution & Boxplot to see the outliers in the column."
   ]
  },
  {
   "cell_type": "code",
   "execution_count": 40,
   "id": "7efbbcec",
   "metadata": {},
   "outputs": [
    {
     "data": {
      "text/plain": [
       "Text(0, 0.5, 'Density')"
      ]
     },
     "execution_count": 40,
     "metadata": {},
     "output_type": "execute_result"
    },
    {
     "data": {
      "image/png": "[encoded data removed]",
      "text/plain": [
       "<Figure size 792x504 with 1 Axes>"
      ]
     },
     "metadata": {},
     "output_type": "display_data"
    }
   ],
   "source": [
    "plt.figure(figsize = (11,7))\n",
    "sns.distplot(data['Capital_gain'], bins = 40, color = 'green')\n",
    "plt.xlabel('Capital_gain', fontweight = 'bold', fontsize = 13)\n",
    "plt.ylabel(\"Density\", fontweight = 'bold', fontsize = 13)"
   ]
  },
  {
   "cell_type": "markdown",
   "id": "583ab738",
   "metadata": {},
   "source": [
    "Since the 0 has highest counts in the column, data distribution is showing, distributed data on the position of 0. Apart from this the capital gain reaches till 100000, which is making it highly right skewed. We will plot the boxplot to see the amount of outliers in the column."
   ]
  },
  {
   "cell_type": "code",
   "execution_count": 41,
   "id": "586c6174",
   "metadata": {},
   "outputs": [
    {
     "data": {
      "text/plain": [
       "<AxesSubplot:xlabel='Capital_gain'>"
      ]
     },
     "execution_count": 41,
     "metadata": {},
     "output_type": "execute_result"
    },
    {
     "data": {
      "image/png": "[encoded data removed]",
      "text/plain": [
       "<Figure size 792x504 with 1 Axes>"
      ]
     },
     "metadata": {},
     "output_type": "display_data"
    }
   ],
   "source": [
    "plt.figure(figsize = (11,7))\n",
    "sns.boxplot(data['Capital_gain'])"
   ]
  },
  {
   "cell_type": "markdown",
   "id": "5fbf40f4",
   "metadata": {},
   "source": [
    "Since 90% of the data belongs to 0, boxplot is showing all the points other than 0 as a outlier, we will remove the outliers greater than 20000 to normalize it at some point, we can't remove all the outliers because than the column's data would be saturated and will have only 0 and than the column will loose it's value it will not play any role in prediction of income in that case."
   ]
  },
  {
   "cell_type": "markdown",
   "id": "2679cb20",
   "metadata": {},
   "source": [
    "### 12. Capital_loss."
   ]
  },
  {
   "cell_type": "code",
   "execution_count": 42,
   "id": "c180ae6a",
   "metadata": {},
   "outputs": [
    {
     "data": {
      "text/plain": [
       "count    32560.000000\n",
       "mean        87.306511\n",
       "std        402.966116\n",
       "min          0.000000\n",
       "25%          0.000000\n",
       "50%          0.000000\n",
       "75%          0.000000\n",
       "max       4356.000000\n",
       "Name: Capital_loss, dtype: float64"
      ]
     },
     "execution_count": 42,
     "metadata": {},
     "output_type": "execute_result"
    }
   ],
   "source": [
    "data['Capital_loss'].describe()"
   ]
  },
  {
   "cell_type": "code",
   "execution_count": 43,
   "id": "c1928306",
   "metadata": {},
   "outputs": [
    {
     "data": {
      "text/plain": [
       "0       31041\n",
       "1902      202\n",
       "1977      168\n",
       "1887      159\n",
       "1485       51\n",
       "        ...  \n",
       "2467        1\n",
       "1539        1\n",
       "155         1\n",
       "2282        1\n",
       "1411        1\n",
       "Name: Capital_loss, Length: 92, dtype: int64"
      ]
     },
     "execution_count": 43,
     "metadata": {},
     "output_type": "execute_result"
    }
   ],
   "source": [
    "data['Capital_loss'].value_counts()"
   ]
  },
  {
   "cell_type": "markdown",
   "id": "8b141892",
   "metadata": {},
   "source": [
    "Information about ```Capital_loss``` column noted as follows:\n",
    "* Capital_loss column represents the financial loss of the person.\n",
    "* This column is also continous column.\n",
    "* Data type of the column is integer data type.\n",
    "* The data distribution in this column is almost similar to Capital_gain.\n",
    "* We will plot the distribution plot to see the data distribution in the column."
   ]
  },
  {
   "cell_type": "code",
   "execution_count": 44,
   "id": "c2b11433",
   "metadata": {},
   "outputs": [
    {
     "data": {
      "text/plain": [
       "<AxesSubplot:xlabel='Capital_loss', ylabel='Density'>"
      ]
     },
     "execution_count": 44,
     "metadata": {},
     "output_type": "execute_result"
    },
    {
     "data": {
      "image/png": "[encoded data removed]",
      "text/plain": [
       "<Figure size 792x504 with 1 Axes>"
      ]
     },
     "metadata": {},
     "output_type": "display_data"
    }
   ],
   "source": [
    "plt.figure(figsize = (11,7))\n",
    "sns.distplot(data['Capital_loss'], color = 'darkblue')"
   ]
  },
  {
   "cell_type": "code",
   "execution_count": 45,
   "id": "70ae37d4",
   "metadata": {},
   "outputs": [
    {
     "data": {
      "text/plain": [
       "<AxesSubplot:xlabel='Capital_loss'>"
      ]
     },
     "execution_count": 45,
     "metadata": {},
     "output_type": "execute_result"
    },
    {
     "data": {
      "image/png": "[encoded data removed]",
      "text/plain": [
       "<Figure size 792x504 with 1 Axes>"
      ]
     },
     "metadata": {},
     "output_type": "display_data"
    }
   ],
   "source": [
    "plt.figure(figsize = (11,7))\n",
    "sns.boxplot(data['Capital_loss'], color = 'darkblue')"
   ]
  },
  {
   "cell_type": "markdown",
   "id": "b6cccf32",
   "metadata": {},
   "source": [
    "Same like Capital_gain column more than 90% data belongs to number 0 only and hance all the points other than 0 is outlier. We will fix this issue in preprocessing part."
   ]
  },
  {
   "cell_type": "markdown",
   "id": "8469ef58",
   "metadata": {},
   "source": [
    "### 13. Hours_per_week."
   ]
  },
  {
   "cell_type": "code",
   "execution_count": 46,
   "id": "51655ede",
   "metadata": {},
   "outputs": [
    {
     "data": {
      "text/plain": [
       "count    32560.000000\n",
       "mean        40.437469\n",
       "std         12.347618\n",
       "min          1.000000\n",
       "25%         40.000000\n",
       "50%         40.000000\n",
       "75%         45.000000\n",
       "max         99.000000\n",
       "Name: Hours_per_week, dtype: float64"
      ]
     },
     "execution_count": 46,
     "metadata": {},
     "output_type": "execute_result"
    }
   ],
   "source": [
    "data['Hours_per_week'].describe()"
   ]
  },
  {
   "cell_type": "code",
   "execution_count": 47,
   "id": "1fa0e1b0",
   "metadata": {},
   "outputs": [
    {
     "data": {
      "text/plain": [
       "40    15216\n",
       "50     2819\n",
       "45     1824\n",
       "60     1475\n",
       "35     1297\n",
       "      ...  \n",
       "92        1\n",
       "74        1\n",
       "94        1\n",
       "82        1\n",
       "87        1\n",
       "Name: Hours_per_week, Length: 94, dtype: int64"
      ]
     },
     "execution_count": 47,
     "metadata": {},
     "output_type": "execute_result"
    }
   ],
   "source": [
    "data['Hours_per_week'].value_counts()"
   ]
  },
  {
   "cell_type": "markdown",
   "id": "f895a3a5",
   "metadata": {},
   "source": [
    "Information about ```Hours_per_week``` column noted as follows:\n",
    "* Hours_per_week column represents the working hours in a week of the person.\n",
    "* Minimum working hour in a week, in the column is 1 hour.\n",
    "* Maximum working hour in a week in the column is 99 hours.\n",
    "* We can see that mean hour of working in the column is 40 hours.\n",
    "\n",
    "Let's plot the distribution plot to see the data distribution in the column."
   ]
  },
  {
   "cell_type": "code",
   "execution_count": 48,
   "id": "25f6485c",
   "metadata": {},
   "outputs": [
    {
     "data": {
      "text/plain": [
       "<AxesSubplot:xlabel='Hours_per_week', ylabel='Density'>"
      ]
     },
     "execution_count": 48,
     "metadata": {},
     "output_type": "execute_result"
    },
    {
     "data": {
      "image/png": "[encoded data removed]",
      "text/plain": [
       "<Figure size 792x504 with 1 Axes>"
      ]
     },
     "metadata": {},
     "output_type": "display_data"
    }
   ],
   "source": [
    "plt.figure(figsize = (11,7))\n",
    "sns.distplot(data['Hours_per_week'], color = 'darkred')"
   ]
  },
  {
   "cell_type": "markdown",
   "id": "3b95baad",
   "metadata": {},
   "source": [
    "From the distplot we can see that why the mean value is 40.43, because maximum data points belongs to 40 hours per week. Since the minimum and maximum range is from 1 to 99 and approx 48% data belongs to only 40, the data is both right and left skewed.\n",
    "The oxplot will show the outliers in oth side, let's see.\n"
   ]
  },
  {
   "cell_type": "code",
   "execution_count": 49,
   "id": "efba67ef",
   "metadata": {},
   "outputs": [
    {
     "data": {
      "text/plain": [
       "<AxesSubplot:xlabel='Hours_per_week'>"
      ]
     },
     "execution_count": 49,
     "metadata": {},
     "output_type": "execute_result"
    },
    {
     "data": {
      "image/png": "[encoded data removed]",
      "text/plain": [
       "<Figure size 792x504 with 1 Axes>"
      ]
     },
     "metadata": {},
     "output_type": "display_data"
    }
   ],
   "source": [
    "plt.figure(figsize = (11,7))\n",
    "sns.boxplot(data['Hours_per_week'], color = 'darkred')"
   ]
  },
  {
   "cell_type": "markdown",
   "id": "7c6b4ff0",
   "metadata": {},
   "source": [
    "As expected the data has outliers on both side. we will fix this issue in the preprocessing part."
   ]
  },
  {
   "cell_type": "markdown",
   "id": "7a7db9e0",
   "metadata": {},
   "source": [
    "### 14. Native_country."
   ]
  },
  {
   "cell_type": "code",
   "execution_count": 50,
   "id": "a6216df3",
   "metadata": {},
   "outputs": [
    {
     "data": {
      "text/plain": [
       "count              32560\n",
       "unique                42\n",
       "top        United-States\n",
       "freq               29169\n",
       "Name: Native_country, dtype: object"
      ]
     },
     "execution_count": 50,
     "metadata": {},
     "output_type": "execute_result"
    }
   ],
   "source": [
    "data['Native_country'].describe()"
   ]
  },
  {
   "cell_type": "code",
   "execution_count": 51,
   "id": "32dbb8bf",
   "metadata": {},
   "outputs": [
    {
     "data": {
      "text/plain": [
       " United-States                 29169\n",
       " Mexico                          643\n",
       " ?                               583\n",
       " Philippines                     198\n",
       " Germany                         137\n",
       " Canada                          121\n",
       " Puerto-Rico                     114\n",
       " El-Salvador                     106\n",
       " India                           100\n",
       " Cuba                             95\n",
       " England                          90\n",
       " Jamaica                          81\n",
       " South                            80\n",
       " China                            75\n",
       " Italy                            73\n",
       " Dominican-Republic               70\n",
       " Vietnam                          67\n",
       " Guatemala                        64\n",
       " Japan                            62\n",
       " Poland                           60\n",
       " Columbia                         59\n",
       " Taiwan                           51\n",
       " Haiti                            44\n",
       " Iran                             43\n",
       " Portugal                         37\n",
       " Nicaragua                        34\n",
       " Peru                             31\n",
       " Greece                           29\n",
       " France                           29\n",
       " Ecuador                          28\n",
       " Ireland                          24\n",
       " Hong                             20\n",
       " Cambodia                         19\n",
       " Trinadad&Tobago                  19\n",
       " Thailand                         18\n",
       " Laos                             18\n",
       " Yugoslavia                       16\n",
       " Outlying-US(Guam-USVI-etc)       14\n",
       " Hungary                          13\n",
       " Honduras                         13\n",
       " Scotland                         12\n",
       " Holand-Netherlands                1\n",
       "Name: Native_country, dtype: int64"
      ]
     },
     "execution_count": 51,
     "metadata": {},
     "output_type": "execute_result"
    }
   ],
   "source": [
    "data['Native_country'].value_counts()"
   ]
  },
  {
   "cell_type": "markdown",
   "id": "04ecec81",
   "metadata": {},
   "source": [
    "Infomation about ```Native_country``` column is noted as follows:\n",
    "* Native_country column represents origin country of the people.\n",
    "* Since the survey is of United State America, more than 90% people are from USA.\n",
    "* Apart from USA people are from 41 different countries as well.\n",
    "* This column is categorical column having 42 categories of country people belongs from.\n",
    "* Data type of the column is Object.\n",
    "* Since it is a categorical column we will plot the countplot to see the data distribution."
   ]
  },
  {
   "cell_type": "code",
   "execution_count": 52,
   "id": "162bf782",
   "metadata": {},
   "outputs": [
    {
     "data": {
      "text/plain": [
       "(array([    0.,  5000., 10000., 15000., 20000., 25000., 30000., 35000.]),\n",
       " [Text(0, 0, ''),\n",
       "  Text(0, 0, ''),\n",
       "  Text(0, 0, ''),\n",
       "  Text(0, 0, ''),\n",
       "  Text(0, 0, ''),\n",
       "  Text(0, 0, ''),\n",
       "  Text(0, 0, ''),\n",
       "  Text(0, 0, '')])"
      ]
     },
     "execution_count": 52,
     "metadata": {},
     "output_type": "execute_result"
    },
    {
     "data": {
      "image/png": "[encoded data removed]",
      "text/plain": [
       "<Figure size 1080x720 with 1 Axes>"
      ]
     },
     "metadata": {},
     "output_type": "display_data"
    }
   ],
   "source": [
    "plt.figure(figsize = (15,10))\n",
    "sns.countplot(data['Native_country'], palette = 'icefire')\n",
    "plt.xticks(rotation = 90, fontweight = 'bold', fontsize = 13)\n",
    "plt.yticks(fontweight = 'bold', fontsize = 13)"
   ]
  },
  {
   "cell_type": "markdown",
   "id": "521f589f",
   "metadata": {},
   "source": [
    "Following points has been noted:\n",
    "* More than 90% people are of America.\n",
    "* Apart from America those bars of country are visible in the countplot has population from 100 to 650.\n",
    "* And rest of the country has population less than 100 in this survey."
   ]
  },
  {
   "cell_type": "code",
   "execution_count": 53,
   "id": "2f79a773",
   "metadata": {},
   "outputs": [
    {
     "data": {
      "text/html": [
       "<div>\n",
       "<style scoped>\n",
       "    .dataframe tbody tr th:only-of-type {\n",
       "        vertical-align: middle;\n",
       "    }\n",
       "\n",
       "    .dataframe tbody tr th {\n",
       "        vertical-align: top;\n",
       "    }\n",
       "\n",
       "    .dataframe thead th {\n",
       "        text-align: right;\n",
       "    }\n",
       "</style>\n",
       "<table border=\"1\" class=\"dataframe\">\n",
       "  <thead>\n",
       "    <tr style=\"text-align: right;\">\n",
       "      <th></th>\n",
       "      <th>Age</th>\n",
       "      <th>Workclass</th>\n",
       "      <th>Fnlwgt</th>\n",
       "      <th>Education</th>\n",
       "      <th>Education_num</th>\n",
       "      <th>Marital_status</th>\n",
       "      <th>Occupation</th>\n",
       "      <th>Relationship</th>\n",
       "      <th>Race</th>\n",
       "      <th>Sex</th>\n",
       "      <th>Capital_gain</th>\n",
       "      <th>Capital_loss</th>\n",
       "      <th>Hours_per_week</th>\n",
       "      <th>Native_country</th>\n",
       "      <th>Income</th>\n",
       "    </tr>\n",
       "  </thead>\n",
       "  <tbody>\n",
       "    <tr>\n",
       "      <th>0</th>\n",
       "      <td>50</td>\n",
       "      <td>Self-emp-not-inc</td>\n",
       "      <td>83311</td>\n",
       "      <td>Bachelors</td>\n",
       "      <td>13</td>\n",
       "      <td>Married-civ-spouse</td>\n",
       "      <td>Exec-managerial</td>\n",
       "      <td>Husband</td>\n",
       "      <td>White</td>\n",
       "      <td>Male</td>\n",
       "      <td>0</td>\n",
       "      <td>0</td>\n",
       "      <td>13</td>\n",
       "      <td>United-States</td>\n",
       "      <td>&lt;=50K</td>\n",
       "    </tr>\n",
       "    <tr>\n",
       "      <th>1</th>\n",
       "      <td>38</td>\n",
       "      <td>Private</td>\n",
       "      <td>215646</td>\n",
       "      <td>HS-grad</td>\n",
       "      <td>9</td>\n",
       "      <td>Divorced</td>\n",
       "      <td>Handlers-cleaners</td>\n",
       "      <td>Not-in-family</td>\n",
       "      <td>White</td>\n",
       "      <td>Male</td>\n",
       "      <td>0</td>\n",
       "      <td>0</td>\n",
       "      <td>40</td>\n",
       "      <td>United-States</td>\n",
       "      <td>&lt;=50K</td>\n",
       "    </tr>\n",
       "  </tbody>\n",
       "</table>\n",
       "</div>"
      ],
      "text/plain": [
       "   Age          Workclass  Fnlwgt   Education  Education_num  \\\n",
       "0   50   Self-emp-not-inc   83311   Bachelors             13   \n",
       "1   38            Private  215646     HS-grad              9   \n",
       "\n",
       "        Marital_status          Occupation    Relationship    Race    Sex  \\\n",
       "0   Married-civ-spouse     Exec-managerial         Husband   White   Male   \n",
       "1             Divorced   Handlers-cleaners   Not-in-family   White   Male   \n",
       "\n",
       "   Capital_gain  Capital_loss  Hours_per_week  Native_country  Income  \n",
       "0             0             0              13   United-States   <=50K  \n",
       "1             0             0              40   United-States   <=50K  "
      ]
     },
     "execution_count": 53,
     "metadata": {},
     "output_type": "execute_result"
    }
   ],
   "source": [
    "data.head(2)"
   ]
  },
  {
   "cell_type": "markdown",
   "id": "2db3567f",
   "metadata": {},
   "source": [
    "### 15. Income."
   ]
  },
  {
   "cell_type": "code",
   "execution_count": 54,
   "id": "d2c79408",
   "metadata": {},
   "outputs": [
    {
     "data": {
      "text/plain": [
       "count      32560\n",
       "unique         2\n",
       "top        <=50K\n",
       "freq       24719\n",
       "Name: Income, dtype: object"
      ]
     },
     "execution_count": 54,
     "metadata": {},
     "output_type": "execute_result"
    }
   ],
   "source": [
    "data['Income'].describe()"
   ]
  },
  {
   "cell_type": "code",
   "execution_count": 55,
   "id": "09124b86",
   "metadata": {},
   "outputs": [
    {
     "data": {
      "text/plain": [
       " <=50K    24719\n",
       " >50K      7841\n",
       "Name: Income, dtype: int64"
      ]
     },
     "execution_count": 55,
     "metadata": {},
     "output_type": "execute_result"
    }
   ],
   "source": [
    "data['Income'].value_counts()"
   ]
  },
  {
   "cell_type": "markdown",
   "id": "e6b451dd",
   "metadata": {},
   "source": [
    "Information about ```Income``` column is noted as follows:\n",
    "* Income column is our target column which we have to predict in this Census Income Project.\n",
    "* It is a categorical column having 2 categories of income, 1) Less than or equal to 50k doller. 2) Greater than 50k doller.\n",
    "* Less than or equal to 50k doller has 24719 counts & Greater than 50k doller has 7841 counts. It shows that our class data is highly imbalaned. We need to balance this column.\n",
    "* Since it is categorical column we will plot the countplot to visualize the data."
   ]
  },
  {
   "cell_type": "code",
   "execution_count": 56,
   "id": "08967b1c",
   "metadata": {},
   "outputs": [
    {
     "data": {
      "text/plain": [
       "(array([    0.,  5000., 10000., 15000., 20000., 25000., 30000.]),\n",
       " [Text(0, 0, ''),\n",
       "  Text(0, 0, ''),\n",
       "  Text(0, 0, ''),\n",
       "  Text(0, 0, ''),\n",
       "  Text(0, 0, ''),\n",
       "  Text(0, 0, ''),\n",
       "  Text(0, 0, '')])"
      ]
     },
     "execution_count": 56,
     "metadata": {},
     "output_type": "execute_result"
    },
    {
     "data": {
      "image/png": "[encoded data removed]",
      "text/plain": [
       "<Figure size 792x504 with 1 Axes>"
      ]
     },
     "metadata": {},
     "output_type": "display_data"
    }
   ],
   "source": [
    "plt.figure(figsize = (11,7))\n",
    "sns.countplot(data['Income'], palette = 'inferno')\n",
    "plt.xticks(fontweight = 'bold', fontsize = 13)\n",
    "plt.yticks(fontweight = 'bold', fontsize = 13)"
   ]
  },
  {
   "cell_type": "markdown",
   "id": "a5ff4917",
   "metadata": {},
   "source": [
    "# Data Preprocessing.\n",
    "\n",
    "## Removing skewness."
   ]
  },
  {
   "cell_type": "code",
   "execution_count": 57,
   "id": "6555270d",
   "metadata": {},
   "outputs": [
    {
     "data": {
      "text/plain": [
       "Age                0.558738\n",
       "Fnlwgt             1.446972\n",
       "Education_num     -0.311630\n",
       "Capital_gain      11.953690\n",
       "Capital_loss       4.594549\n",
       "Hours_per_week     0.227636\n",
       "dtype: float64"
      ]
     },
     "execution_count": 57,
     "metadata": {},
     "output_type": "execute_result"
    }
   ],
   "source": [
    "# checking skewness\n",
    "data.skew()"
   ]
  },
  {
   "cell_type": "markdown",
   "id": "1934a42c",
   "metadata": {},
   "source": [
    "We can see that exept Hours_per_week column & Education_num column all the column has skewness. Hours_per_week column has skewness score 0.22, which means it's data distribution is symmetric & we have seen that it is symmetric but both left & right tails are long we will apply power_transform on Hours_perweek as well. If we talk about Age column is has skeweness score 0.55 which is greater than 0.5, we are going to consider this column in power transform as well. We already have seen that though Education_num has numeric data in it and it is like continouos data but we also have analyzed it as correspondence to categorical column Education so we are not going to consider this column in power_transform."
   ]
  },
  {
   "cell_type": "code",
   "execution_count": 58,
   "id": "5c743bf2",
   "metadata": {},
   "outputs": [
    {
     "data": {
      "text/html": [
       "<div>\n",
       "<style scoped>\n",
       "    .dataframe tbody tr th:only-of-type {\n",
       "        vertical-align: middle;\n",
       "    }\n",
       "\n",
       "    .dataframe tbody tr th {\n",
       "        vertical-align: top;\n",
       "    }\n",
       "\n",
       "    .dataframe thead th {\n",
       "        text-align: right;\n",
       "    }\n",
       "</style>\n",
       "<table border=\"1\" class=\"dataframe\">\n",
       "  <thead>\n",
       "    <tr style=\"text-align: right;\">\n",
       "      <th></th>\n",
       "      <th>Age</th>\n",
       "      <th>Fnlwgt</th>\n",
       "      <th>Capital_gain</th>\n",
       "      <th>Capital_loss</th>\n",
       "      <th>Hours_per_week</th>\n",
       "    </tr>\n",
       "  </thead>\n",
       "  <tbody>\n",
       "    <tr>\n",
       "      <th>0</th>\n",
       "      <td>50</td>\n",
       "      <td>83311</td>\n",
       "      <td>0</td>\n",
       "      <td>0</td>\n",
       "      <td>13</td>\n",
       "    </tr>\n",
       "    <tr>\n",
       "      <th>1</th>\n",
       "      <td>38</td>\n",
       "      <td>215646</td>\n",
       "      <td>0</td>\n",
       "      <td>0</td>\n",
       "      <td>40</td>\n",
       "    </tr>\n",
       "    <tr>\n",
       "      <th>2</th>\n",
       "      <td>53</td>\n",
       "      <td>234721</td>\n",
       "      <td>0</td>\n",
       "      <td>0</td>\n",
       "      <td>40</td>\n",
       "    </tr>\n",
       "    <tr>\n",
       "      <th>3</th>\n",
       "      <td>28</td>\n",
       "      <td>338409</td>\n",
       "      <td>0</td>\n",
       "      <td>0</td>\n",
       "      <td>40</td>\n",
       "    </tr>\n",
       "    <tr>\n",
       "      <th>4</th>\n",
       "      <td>37</td>\n",
       "      <td>284582</td>\n",
       "      <td>0</td>\n",
       "      <td>0</td>\n",
       "      <td>40</td>\n",
       "    </tr>\n",
       "    <tr>\n",
       "      <th>...</th>\n",
       "      <td>...</td>\n",
       "      <td>...</td>\n",
       "      <td>...</td>\n",
       "      <td>...</td>\n",
       "      <td>...</td>\n",
       "    </tr>\n",
       "    <tr>\n",
       "      <th>32555</th>\n",
       "      <td>27</td>\n",
       "      <td>257302</td>\n",
       "      <td>0</td>\n",
       "      <td>0</td>\n",
       "      <td>38</td>\n",
       "    </tr>\n",
       "    <tr>\n",
       "      <th>32556</th>\n",
       "      <td>40</td>\n",
       "      <td>154374</td>\n",
       "      <td>0</td>\n",
       "      <td>0</td>\n",
       "      <td>40</td>\n",
       "    </tr>\n",
       "    <tr>\n",
       "      <th>32557</th>\n",
       "      <td>58</td>\n",
       "      <td>151910</td>\n",
       "      <td>0</td>\n",
       "      <td>0</td>\n",
       "      <td>40</td>\n",
       "    </tr>\n",
       "    <tr>\n",
       "      <th>32558</th>\n",
       "      <td>22</td>\n",
       "      <td>201490</td>\n",
       "      <td>0</td>\n",
       "      <td>0</td>\n",
       "      <td>20</td>\n",
       "    </tr>\n",
       "    <tr>\n",
       "      <th>32559</th>\n",
       "      <td>52</td>\n",
       "      <td>287927</td>\n",
       "      <td>15024</td>\n",
       "      <td>0</td>\n",
       "      <td>40</td>\n",
       "    </tr>\n",
       "  </tbody>\n",
       "</table>\n",
       "<p>32560 rows × 5 columns</p>\n",
       "</div>"
      ],
      "text/plain": [
       "       Age  Fnlwgt  Capital_gain  Capital_loss  Hours_per_week\n",
       "0       50   83311             0             0              13\n",
       "1       38  215646             0             0              40\n",
       "2       53  234721             0             0              40\n",
       "3       28  338409             0             0              40\n",
       "4       37  284582             0             0              40\n",
       "...    ...     ...           ...           ...             ...\n",
       "32555   27  257302             0             0              38\n",
       "32556   40  154374             0             0              40\n",
       "32557   58  151910             0             0              40\n",
       "32558   22  201490             0             0              20\n",
       "32559   52  287927         15024             0              40\n",
       "\n",
       "[32560 rows x 5 columns]"
      ]
     },
     "execution_count": 58,
     "metadata": {},
     "output_type": "execute_result"
    }
   ],
   "source": [
    "# saperating all continuous or skewed column in skewed_col to apply power_transform.\n",
    "skewed_col = data.drop(columns = ['Workclass', 'Education', 'Education_num', 'Marital_status', 'Occupation',\n",
    "                                  'Relationship', 'Race', 'Sex', 'Native_country', 'Income'])\n",
    "skewed_col"
   ]
  },
  {
   "cell_type": "code",
   "execution_count": 59,
   "id": "4018e5e9",
   "metadata": {},
   "outputs": [],
   "source": [
    "# applying power_transform yeo-johnson method to remove the skewness from the data, yeo-johnson because 0 is present in data.\n",
    "new_skewed_col = power_transform(skewed_col, method = 'yeo-johnson')\n",
    "\n",
    "# creating data frame of new powertransformed data after removing skewness\n",
    "new_skewed_col = pd.DataFrame(new_skewed_col, columns = skewed_col.columns)"
   ]
  },
  {
   "cell_type": "code",
   "execution_count": 60,
   "id": "aa8a9e6e",
   "metadata": {},
   "outputs": [
    {
     "data": {
      "text/html": [
       "<div>\n",
       "<style scoped>\n",
       "    .dataframe tbody tr th:only-of-type {\n",
       "        vertical-align: middle;\n",
       "    }\n",
       "\n",
       "    .dataframe tbody tr th {\n",
       "        vertical-align: top;\n",
       "    }\n",
       "\n",
       "    .dataframe thead th {\n",
       "        text-align: right;\n",
       "    }\n",
       "</style>\n",
       "<table border=\"1\" class=\"dataframe\">\n",
       "  <thead>\n",
       "    <tr style=\"text-align: right;\">\n",
       "      <th></th>\n",
       "      <th>Age</th>\n",
       "      <th>Fnlwgt</th>\n",
       "      <th>Capital_gain</th>\n",
       "      <th>Capital_loss</th>\n",
       "      <th>Hours_per_week</th>\n",
       "    </tr>\n",
       "  </thead>\n",
       "  <tbody>\n",
       "    <tr>\n",
       "      <th>0</th>\n",
       "      <td>0.891947</td>\n",
       "      <td>-1.089889</td>\n",
       "      <td>-0.301370</td>\n",
       "      <td>-0.221213</td>\n",
       "      <td>-2.221515</td>\n",
       "    </tr>\n",
       "    <tr>\n",
       "      <th>1</th>\n",
       "      <td>0.102717</td>\n",
       "      <td>0.398743</td>\n",
       "      <td>-0.301370</td>\n",
       "      <td>-0.221213</td>\n",
       "      <td>-0.035570</td>\n",
       "    </tr>\n",
       "    <tr>\n",
       "      <th>2</th>\n",
       "      <td>1.064381</td>\n",
       "      <td>0.562540</td>\n",
       "      <td>-0.301370</td>\n",
       "      <td>-0.221213</td>\n",
       "      <td>-0.035570</td>\n",
       "    </tr>\n",
       "    <tr>\n",
       "      <th>3</th>\n",
       "      <td>-0.731663</td>\n",
       "      <td>1.340398</td>\n",
       "      <td>-0.301370</td>\n",
       "      <td>-0.221213</td>\n",
       "      <td>-0.035570</td>\n",
       "    </tr>\n",
       "    <tr>\n",
       "      <th>4</th>\n",
       "      <td>0.028023</td>\n",
       "      <td>0.957182</td>\n",
       "      <td>-0.301370</td>\n",
       "      <td>-0.221213</td>\n",
       "      <td>-0.035570</td>\n",
       "    </tr>\n",
       "    <tr>\n",
       "      <th>...</th>\n",
       "      <td>...</td>\n",
       "      <td>...</td>\n",
       "      <td>...</td>\n",
       "      <td>...</td>\n",
       "      <td>...</td>\n",
       "    </tr>\n",
       "    <tr>\n",
       "      <th>32555</th>\n",
       "      <td>-0.827983</td>\n",
       "      <td>0.746749</td>\n",
       "      <td>-0.301370</td>\n",
       "      <td>-0.221213</td>\n",
       "      <td>-0.197550</td>\n",
       "    </tr>\n",
       "    <tr>\n",
       "      <th>32556</th>\n",
       "      <td>0.247374</td>\n",
       "      <td>-0.193298</td>\n",
       "      <td>-0.301370</td>\n",
       "      <td>-0.221213</td>\n",
       "      <td>-0.035570</td>\n",
       "    </tr>\n",
       "    <tr>\n",
       "      <th>32557</th>\n",
       "      <td>1.334556</td>\n",
       "      <td>-0.219755</td>\n",
       "      <td>-0.301370</td>\n",
       "      <td>-0.221213</td>\n",
       "      <td>-0.035570</td>\n",
       "    </tr>\n",
       "    <tr>\n",
       "      <th>32558</th>\n",
       "      <td>-1.358341</td>\n",
       "      <td>0.271668</td>\n",
       "      <td>-0.301370</td>\n",
       "      <td>-0.221213</td>\n",
       "      <td>-1.654992</td>\n",
       "    </tr>\n",
       "    <tr>\n",
       "      <th>32559</th>\n",
       "      <td>1.007823</td>\n",
       "      <td>0.982165</td>\n",
       "      <td>3.318234</td>\n",
       "      <td>-0.221213</td>\n",
       "      <td>-0.035570</td>\n",
       "    </tr>\n",
       "  </tbody>\n",
       "</table>\n",
       "<p>32560 rows × 5 columns</p>\n",
       "</div>"
      ],
      "text/plain": [
       "            Age    Fnlwgt  Capital_gain  Capital_loss  Hours_per_week\n",
       "0      0.891947 -1.089889     -0.301370     -0.221213       -2.221515\n",
       "1      0.102717  0.398743     -0.301370     -0.221213       -0.035570\n",
       "2      1.064381  0.562540     -0.301370     -0.221213       -0.035570\n",
       "3     -0.731663  1.340398     -0.301370     -0.221213       -0.035570\n",
       "4      0.028023  0.957182     -0.301370     -0.221213       -0.035570\n",
       "...         ...       ...           ...           ...             ...\n",
       "32555 -0.827983  0.746749     -0.301370     -0.221213       -0.197550\n",
       "32556  0.247374 -0.193298     -0.301370     -0.221213       -0.035570\n",
       "32557  1.334556 -0.219755     -0.301370     -0.221213       -0.035570\n",
       "32558 -1.358341  0.271668     -0.301370     -0.221213       -1.654992\n",
       "32559  1.007823  0.982165      3.318234     -0.221213       -0.035570\n",
       "\n",
       "[32560 rows x 5 columns]"
      ]
     },
     "execution_count": 60,
     "metadata": {},
     "output_type": "execute_result"
    }
   ],
   "source": [
    "# checking new transformed column \n",
    "new_skewed_col"
   ]
  },
  {
   "cell_type": "code",
   "execution_count": 61,
   "id": "754fdf21",
   "metadata": {},
   "outputs": [
    {
     "data": {
      "text/plain": [
       "Age              -0.013897\n",
       "Fnlwgt            0.016914\n",
       "Capital_gain      3.016951\n",
       "Capital_loss      4.299511\n",
       "Hours_per_week    0.229556\n",
       "dtype: float64"
      ]
     },
     "execution_count": 61,
     "metadata": {},
     "output_type": "execute_result"
    }
   ],
   "source": [
    "# cheking skeweness of transformed data\n",
    "new_skewed_col.skew()"
   ]
  },
  {
   "cell_type": "markdown",
   "id": "1fb34ab0",
   "metadata": {},
   "source": [
    "Skewness has been reduced significantly but column capital_gain & capital_loss had a lot of skewness & it has still skeness in it, now we will consider these transformed column ahead in model building."
   ]
  },
  {
   "cell_type": "code",
   "execution_count": 62,
   "id": "a1e28fc3",
   "metadata": {},
   "outputs": [
    {
     "data": {
      "image/png": "[encoded data removed]",
      "text/plain": [
       "<Figure size 1080x2880 with 5 Axes>"
      ]
     },
     "metadata": {},
     "output_type": "display_data"
    }
   ],
   "source": [
    "# Visualizing the skewed column after removing skeweness\n",
    "plt.figure(figsize = (15,40))\n",
    "plotnumber = 1\n",
    "\n",
    "for column in new_skewed_col:\n",
    "    if plotnumber <= 5:\n",
    "        ax = plt.subplot(5,1, plotnumber)\n",
    "        sns.distplot(new_skewed_col[column])\n",
    "    plotnumber+=1\n",
    "plt.show()"
   ]
  },
  {
   "cell_type": "code",
   "execution_count": 63,
   "id": "3582c7ce",
   "metadata": {},
   "outputs": [
    {
     "data": {
      "text/html": [
       "<div>\n",
       "<style scoped>\n",
       "    .dataframe tbody tr th:only-of-type {\n",
       "        vertical-align: middle;\n",
       "    }\n",
       "\n",
       "    .dataframe tbody tr th {\n",
       "        vertical-align: top;\n",
       "    }\n",
       "\n",
       "    .dataframe thead th {\n",
       "        text-align: right;\n",
       "    }\n",
       "</style>\n",
       "<table border=\"1\" class=\"dataframe\">\n",
       "  <thead>\n",
       "    <tr style=\"text-align: right;\">\n",
       "      <th></th>\n",
       "      <th>Workclass</th>\n",
       "      <th>Education</th>\n",
       "      <th>Education_num</th>\n",
       "      <th>Marital_status</th>\n",
       "      <th>Occupation</th>\n",
       "      <th>Relationship</th>\n",
       "      <th>Race</th>\n",
       "      <th>Sex</th>\n",
       "      <th>Native_country</th>\n",
       "      <th>Income</th>\n",
       "    </tr>\n",
       "  </thead>\n",
       "  <tbody>\n",
       "    <tr>\n",
       "      <th>0</th>\n",
       "      <td>Self-emp-not-inc</td>\n",
       "      <td>Bachelors</td>\n",
       "      <td>13</td>\n",
       "      <td>Married-civ-spouse</td>\n",
       "      <td>Exec-managerial</td>\n",
       "      <td>Husband</td>\n",
       "      <td>White</td>\n",
       "      <td>Male</td>\n",
       "      <td>United-States</td>\n",
       "      <td>&lt;=50K</td>\n",
       "    </tr>\n",
       "    <tr>\n",
       "      <th>1</th>\n",
       "      <td>Private</td>\n",
       "      <td>HS-grad</td>\n",
       "      <td>9</td>\n",
       "      <td>Divorced</td>\n",
       "      <td>Handlers-cleaners</td>\n",
       "      <td>Not-in-family</td>\n",
       "      <td>White</td>\n",
       "      <td>Male</td>\n",
       "      <td>United-States</td>\n",
       "      <td>&lt;=50K</td>\n",
       "    </tr>\n",
       "    <tr>\n",
       "      <th>2</th>\n",
       "      <td>Private</td>\n",
       "      <td>11th</td>\n",
       "      <td>7</td>\n",
       "      <td>Married-civ-spouse</td>\n",
       "      <td>Handlers-cleaners</td>\n",
       "      <td>Husband</td>\n",
       "      <td>Black</td>\n",
       "      <td>Male</td>\n",
       "      <td>United-States</td>\n",
       "      <td>&lt;=50K</td>\n",
       "    </tr>\n",
       "    <tr>\n",
       "      <th>3</th>\n",
       "      <td>Private</td>\n",
       "      <td>Bachelors</td>\n",
       "      <td>13</td>\n",
       "      <td>Married-civ-spouse</td>\n",
       "      <td>Prof-specialty</td>\n",
       "      <td>Wife</td>\n",
       "      <td>Black</td>\n",
       "      <td>Female</td>\n",
       "      <td>Cuba</td>\n",
       "      <td>&lt;=50K</td>\n",
       "    </tr>\n",
       "    <tr>\n",
       "      <th>4</th>\n",
       "      <td>Private</td>\n",
       "      <td>Masters</td>\n",
       "      <td>14</td>\n",
       "      <td>Married-civ-spouse</td>\n",
       "      <td>Exec-managerial</td>\n",
       "      <td>Wife</td>\n",
       "      <td>White</td>\n",
       "      <td>Female</td>\n",
       "      <td>United-States</td>\n",
       "      <td>&lt;=50K</td>\n",
       "    </tr>\n",
       "    <tr>\n",
       "      <th>...</th>\n",
       "      <td>...</td>\n",
       "      <td>...</td>\n",
       "      <td>...</td>\n",
       "      <td>...</td>\n",
       "      <td>...</td>\n",
       "      <td>...</td>\n",
       "      <td>...</td>\n",
       "      <td>...</td>\n",
       "      <td>...</td>\n",
       "      <td>...</td>\n",
       "    </tr>\n",
       "    <tr>\n",
       "      <th>32555</th>\n",
       "      <td>Private</td>\n",
       "      <td>Assoc-acdm</td>\n",
       "      <td>12</td>\n",
       "      <td>Married-civ-spouse</td>\n",
       "      <td>Tech-support</td>\n",
       "      <td>Wife</td>\n",
       "      <td>White</td>\n",
       "      <td>Female</td>\n",
       "      <td>United-States</td>\n",
       "      <td>&lt;=50K</td>\n",
       "    </tr>\n",
       "    <tr>\n",
       "      <th>32556</th>\n",
       "      <td>Private</td>\n",
       "      <td>HS-grad</td>\n",
       "      <td>9</td>\n",
       "      <td>Married-civ-spouse</td>\n",
       "      <td>Machine-op-inspct</td>\n",
       "      <td>Husband</td>\n",
       "      <td>White</td>\n",
       "      <td>Male</td>\n",
       "      <td>United-States</td>\n",
       "      <td>&gt;50K</td>\n",
       "    </tr>\n",
       "    <tr>\n",
       "      <th>32557</th>\n",
       "      <td>Private</td>\n",
       "      <td>HS-grad</td>\n",
       "      <td>9</td>\n",
       "      <td>Widowed</td>\n",
       "      <td>Adm-clerical</td>\n",
       "      <td>Unmarried</td>\n",
       "      <td>White</td>\n",
       "      <td>Female</td>\n",
       "      <td>United-States</td>\n",
       "      <td>&lt;=50K</td>\n",
       "    </tr>\n",
       "    <tr>\n",
       "      <th>32558</th>\n",
       "      <td>Private</td>\n",
       "      <td>HS-grad</td>\n",
       "      <td>9</td>\n",
       "      <td>Never-married</td>\n",
       "      <td>Adm-clerical</td>\n",
       "      <td>Own-child</td>\n",
       "      <td>White</td>\n",
       "      <td>Male</td>\n",
       "      <td>United-States</td>\n",
       "      <td>&lt;=50K</td>\n",
       "    </tr>\n",
       "    <tr>\n",
       "      <th>32559</th>\n",
       "      <td>Self-emp-inc</td>\n",
       "      <td>HS-grad</td>\n",
       "      <td>9</td>\n",
       "      <td>Married-civ-spouse</td>\n",
       "      <td>Exec-managerial</td>\n",
       "      <td>Wife</td>\n",
       "      <td>White</td>\n",
       "      <td>Female</td>\n",
       "      <td>United-States</td>\n",
       "      <td>&gt;50K</td>\n",
       "    </tr>\n",
       "  </tbody>\n",
       "</table>\n",
       "<p>32560 rows × 10 columns</p>\n",
       "</div>"
      ],
      "text/plain": [
       "               Workclass    Education  Education_num       Marital_status  \\\n",
       "0       Self-emp-not-inc    Bachelors             13   Married-civ-spouse   \n",
       "1                Private      HS-grad              9             Divorced   \n",
       "2                Private         11th              7   Married-civ-spouse   \n",
       "3                Private    Bachelors             13   Married-civ-spouse   \n",
       "4                Private      Masters             14   Married-civ-spouse   \n",
       "...                  ...          ...            ...                  ...   \n",
       "32555            Private   Assoc-acdm             12   Married-civ-spouse   \n",
       "32556            Private      HS-grad              9   Married-civ-spouse   \n",
       "32557            Private      HS-grad              9              Widowed   \n",
       "32558            Private      HS-grad              9        Never-married   \n",
       "32559       Self-emp-inc      HS-grad              9   Married-civ-spouse   \n",
       "\n",
       "               Occupation    Relationship    Race      Sex  Native_country  \\\n",
       "0         Exec-managerial         Husband   White     Male   United-States   \n",
       "1       Handlers-cleaners   Not-in-family   White     Male   United-States   \n",
       "2       Handlers-cleaners         Husband   Black     Male   United-States   \n",
       "3          Prof-specialty            Wife   Black   Female            Cuba   \n",
       "4         Exec-managerial            Wife   White   Female   United-States   \n",
       "...                   ...             ...     ...      ...             ...   \n",
       "32555        Tech-support            Wife   White   Female   United-States   \n",
       "32556   Machine-op-inspct         Husband   White     Male   United-States   \n",
       "32557        Adm-clerical       Unmarried   White   Female   United-States   \n",
       "32558        Adm-clerical       Own-child   White     Male   United-States   \n",
       "32559     Exec-managerial            Wife   White   Female   United-States   \n",
       "\n",
       "       Income  \n",
       "0       <=50K  \n",
       "1       <=50K  \n",
       "2       <=50K  \n",
       "3       <=50K  \n",
       "4       <=50K  \n",
       "...       ...  \n",
       "32555   <=50K  \n",
       "32556    >50K  \n",
       "32557   <=50K  \n",
       "32558   <=50K  \n",
       "32559    >50K  \n",
       "\n",
       "[32560 rows x 10 columns]"
      ]
     },
     "execution_count": 63,
     "metadata": {},
     "output_type": "execute_result"
    }
   ],
   "source": [
    "# removing the previous continouos columns from the data to concat the new transformed continuous column in the data\n",
    "data = data.drop(columns = ['Age', 'Fnlwgt', 'Capital_gain', 'Capital_loss', 'Hours_per_week'])\n",
    "data"
   ]
  },
  {
   "cell_type": "code",
   "execution_count": 64,
   "id": "4f867444",
   "metadata": {},
   "outputs": [
    {
     "data": {
      "text/html": [
       "<div>\n",
       "<style scoped>\n",
       "    .dataframe tbody tr th:only-of-type {\n",
       "        vertical-align: middle;\n",
       "    }\n",
       "\n",
       "    .dataframe tbody tr th {\n",
       "        vertical-align: top;\n",
       "    }\n",
       "\n",
       "    .dataframe thead th {\n",
       "        text-align: right;\n",
       "    }\n",
       "</style>\n",
       "<table border=\"1\" class=\"dataframe\">\n",
       "  <thead>\n",
       "    <tr style=\"text-align: right;\">\n",
       "      <th></th>\n",
       "      <th>Workclass</th>\n",
       "      <th>Education</th>\n",
       "      <th>Education_num</th>\n",
       "      <th>Marital_status</th>\n",
       "      <th>Occupation</th>\n",
       "      <th>Relationship</th>\n",
       "      <th>Race</th>\n",
       "      <th>Sex</th>\n",
       "      <th>Native_country</th>\n",
       "      <th>Income</th>\n",
       "      <th>Age</th>\n",
       "      <th>Fnlwgt</th>\n",
       "      <th>Capital_gain</th>\n",
       "      <th>Capital_loss</th>\n",
       "      <th>Hours_per_week</th>\n",
       "    </tr>\n",
       "  </thead>\n",
       "  <tbody>\n",
       "    <tr>\n",
       "      <th>0</th>\n",
       "      <td>Self-emp-not-inc</td>\n",
       "      <td>Bachelors</td>\n",
       "      <td>13</td>\n",
       "      <td>Married-civ-spouse</td>\n",
       "      <td>Exec-managerial</td>\n",
       "      <td>Husband</td>\n",
       "      <td>White</td>\n",
       "      <td>Male</td>\n",
       "      <td>United-States</td>\n",
       "      <td>&lt;=50K</td>\n",
       "      <td>0.891947</td>\n",
       "      <td>-1.089889</td>\n",
       "      <td>-0.301370</td>\n",
       "      <td>-0.221213</td>\n",
       "      <td>-2.221515</td>\n",
       "    </tr>\n",
       "    <tr>\n",
       "      <th>1</th>\n",
       "      <td>Private</td>\n",
       "      <td>HS-grad</td>\n",
       "      <td>9</td>\n",
       "      <td>Divorced</td>\n",
       "      <td>Handlers-cleaners</td>\n",
       "      <td>Not-in-family</td>\n",
       "      <td>White</td>\n",
       "      <td>Male</td>\n",
       "      <td>United-States</td>\n",
       "      <td>&lt;=50K</td>\n",
       "      <td>0.102717</td>\n",
       "      <td>0.398743</td>\n",
       "      <td>-0.301370</td>\n",
       "      <td>-0.221213</td>\n",
       "      <td>-0.035570</td>\n",
       "    </tr>\n",
       "    <tr>\n",
       "      <th>2</th>\n",
       "      <td>Private</td>\n",
       "      <td>11th</td>\n",
       "      <td>7</td>\n",
       "      <td>Married-civ-spouse</td>\n",
       "      <td>Handlers-cleaners</td>\n",
       "      <td>Husband</td>\n",
       "      <td>Black</td>\n",
       "      <td>Male</td>\n",
       "      <td>United-States</td>\n",
       "      <td>&lt;=50K</td>\n",
       "      <td>1.064381</td>\n",
       "      <td>0.562540</td>\n",
       "      <td>-0.301370</td>\n",
       "      <td>-0.221213</td>\n",
       "      <td>-0.035570</td>\n",
       "    </tr>\n",
       "    <tr>\n",
       "      <th>3</th>\n",
       "      <td>Private</td>\n",
       "      <td>Bachelors</td>\n",
       "      <td>13</td>\n",
       "      <td>Married-civ-spouse</td>\n",
       "      <td>Prof-specialty</td>\n",
       "      <td>Wife</td>\n",
       "      <td>Black</td>\n",
       "      <td>Female</td>\n",
       "      <td>Cuba</td>\n",
       "      <td>&lt;=50K</td>\n",
       "      <td>-0.731663</td>\n",
       "      <td>1.340398</td>\n",
       "      <td>-0.301370</td>\n",
       "      <td>-0.221213</td>\n",
       "      <td>-0.035570</td>\n",
       "    </tr>\n",
       "    <tr>\n",
       "      <th>4</th>\n",
       "      <td>Private</td>\n",
       "      <td>Masters</td>\n",
       "      <td>14</td>\n",
       "      <td>Married-civ-spouse</td>\n",
       "      <td>Exec-managerial</td>\n",
       "      <td>Wife</td>\n",
       "      <td>White</td>\n",
       "      <td>Female</td>\n",
       "      <td>United-States</td>\n",
       "      <td>&lt;=50K</td>\n",
       "      <td>0.028023</td>\n",
       "      <td>0.957182</td>\n",
       "      <td>-0.301370</td>\n",
       "      <td>-0.221213</td>\n",
       "      <td>-0.035570</td>\n",
       "    </tr>\n",
       "    <tr>\n",
       "      <th>...</th>\n",
       "      <td>...</td>\n",
       "      <td>...</td>\n",
       "      <td>...</td>\n",
       "      <td>...</td>\n",
       "      <td>...</td>\n",
       "      <td>...</td>\n",
       "      <td>...</td>\n",
       "      <td>...</td>\n",
       "      <td>...</td>\n",
       "      <td>...</td>\n",
       "      <td>...</td>\n",
       "      <td>...</td>\n",
       "      <td>...</td>\n",
       "      <td>...</td>\n",
       "      <td>...</td>\n",
       "    </tr>\n",
       "    <tr>\n",
       "      <th>32555</th>\n",
       "      <td>Private</td>\n",
       "      <td>Assoc-acdm</td>\n",
       "      <td>12</td>\n",
       "      <td>Married-civ-spouse</td>\n",
       "      <td>Tech-support</td>\n",
       "      <td>Wife</td>\n",
       "      <td>White</td>\n",
       "      <td>Female</td>\n",
       "      <td>United-States</td>\n",
       "      <td>&lt;=50K</td>\n",
       "      <td>-0.827983</td>\n",
       "      <td>0.746749</td>\n",
       "      <td>-0.301370</td>\n",
       "      <td>-0.221213</td>\n",
       "      <td>-0.197550</td>\n",
       "    </tr>\n",
       "    <tr>\n",
       "      <th>32556</th>\n",
       "      <td>Private</td>\n",
       "      <td>HS-grad</td>\n",
       "      <td>9</td>\n",
       "      <td>Married-civ-spouse</td>\n",
       "      <td>Machine-op-inspct</td>\n",
       "      <td>Husband</td>\n",
       "      <td>White</td>\n",
       "      <td>Male</td>\n",
       "      <td>United-States</td>\n",
       "      <td>&gt;50K</td>\n",
       "      <td>0.247374</td>\n",
       "      <td>-0.193298</td>\n",
       "      <td>-0.301370</td>\n",
       "      <td>-0.221213</td>\n",
       "      <td>-0.035570</td>\n",
       "    </tr>\n",
       "    <tr>\n",
       "      <th>32557</th>\n",
       "      <td>Private</td>\n",
       "      <td>HS-grad</td>\n",
       "      <td>9</td>\n",
       "      <td>Widowed</td>\n",
       "      <td>Adm-clerical</td>\n",
       "      <td>Unmarried</td>\n",
       "      <td>White</td>\n",
       "      <td>Female</td>\n",
       "      <td>United-States</td>\n",
       "      <td>&lt;=50K</td>\n",
       "      <td>1.334556</td>\n",
       "      <td>-0.219755</td>\n",
       "      <td>-0.301370</td>\n",
       "      <td>-0.221213</td>\n",
       "      <td>-0.035570</td>\n",
       "    </tr>\n",
       "    <tr>\n",
       "      <th>32558</th>\n",
       "      <td>Private</td>\n",
       "      <td>HS-grad</td>\n",
       "      <td>9</td>\n",
       "      <td>Never-married</td>\n",
       "      <td>Adm-clerical</td>\n",
       "      <td>Own-child</td>\n",
       "      <td>White</td>\n",
       "      <td>Male</td>\n",
       "      <td>United-States</td>\n",
       "      <td>&lt;=50K</td>\n",
       "      <td>-1.358341</td>\n",
       "      <td>0.271668</td>\n",
       "      <td>-0.301370</td>\n",
       "      <td>-0.221213</td>\n",
       "      <td>-1.654992</td>\n",
       "    </tr>\n",
       "    <tr>\n",
       "      <th>32559</th>\n",
       "      <td>Self-emp-inc</td>\n",
       "      <td>HS-grad</td>\n",
       "      <td>9</td>\n",
       "      <td>Married-civ-spouse</td>\n",
       "      <td>Exec-managerial</td>\n",
       "      <td>Wife</td>\n",
       "      <td>White</td>\n",
       "      <td>Female</td>\n",
       "      <td>United-States</td>\n",
       "      <td>&gt;50K</td>\n",
       "      <td>1.007823</td>\n",
       "      <td>0.982165</td>\n",
       "      <td>3.318234</td>\n",
       "      <td>-0.221213</td>\n",
       "      <td>-0.035570</td>\n",
       "    </tr>\n",
       "  </tbody>\n",
       "</table>\n",
       "<p>32560 rows × 15 columns</p>\n",
       "</div>"
      ],
      "text/plain": [
       "               Workclass    Education  Education_num       Marital_status  \\\n",
       "0       Self-emp-not-inc    Bachelors             13   Married-civ-spouse   \n",
       "1                Private      HS-grad              9             Divorced   \n",
       "2                Private         11th              7   Married-civ-spouse   \n",
       "3                Private    Bachelors             13   Married-civ-spouse   \n",
       "4                Private      Masters             14   Married-civ-spouse   \n",
       "...                  ...          ...            ...                  ...   \n",
       "32555            Private   Assoc-acdm             12   Married-civ-spouse   \n",
       "32556            Private      HS-grad              9   Married-civ-spouse   \n",
       "32557            Private      HS-grad              9              Widowed   \n",
       "32558            Private      HS-grad              9        Never-married   \n",
       "32559       Self-emp-inc      HS-grad              9   Married-civ-spouse   \n",
       "\n",
       "               Occupation    Relationship    Race      Sex  Native_country  \\\n",
       "0         Exec-managerial         Husband   White     Male   United-States   \n",
       "1       Handlers-cleaners   Not-in-family   White     Male   United-States   \n",
       "2       Handlers-cleaners         Husband   Black     Male   United-States   \n",
       "3          Prof-specialty            Wife   Black   Female            Cuba   \n",
       "4         Exec-managerial            Wife   White   Female   United-States   \n",
       "...                   ...             ...     ...      ...             ...   \n",
       "32555        Tech-support            Wife   White   Female   United-States   \n",
       "32556   Machine-op-inspct         Husband   White     Male   United-States   \n",
       "32557        Adm-clerical       Unmarried   White   Female   United-States   \n",
       "32558        Adm-clerical       Own-child   White     Male   United-States   \n",
       "32559     Exec-managerial            Wife   White   Female   United-States   \n",
       "\n",
       "       Income       Age    Fnlwgt  Capital_gain  Capital_loss  Hours_per_week  \n",
       "0       <=50K  0.891947 -1.089889     -0.301370     -0.221213       -2.221515  \n",
       "1       <=50K  0.102717  0.398743     -0.301370     -0.221213       -0.035570  \n",
       "2       <=50K  1.064381  0.562540     -0.301370     -0.221213       -0.035570  \n",
       "3       <=50K -0.731663  1.340398     -0.301370     -0.221213       -0.035570  \n",
       "4       <=50K  0.028023  0.957182     -0.301370     -0.221213       -0.035570  \n",
       "...       ...       ...       ...           ...           ...             ...  \n",
       "32555   <=50K -0.827983  0.746749     -0.301370     -0.221213       -0.197550  \n",
       "32556    >50K  0.247374 -0.193298     -0.301370     -0.221213       -0.035570  \n",
       "32557   <=50K  1.334556 -0.219755     -0.301370     -0.221213       -0.035570  \n",
       "32558   <=50K -1.358341  0.271668     -0.301370     -0.221213       -1.654992  \n",
       "32559    >50K  1.007823  0.982165      3.318234     -0.221213       -0.035570  \n",
       "\n",
       "[32560 rows x 15 columns]"
      ]
     },
     "execution_count": 64,
     "metadata": {},
     "output_type": "execute_result"
    }
   ],
   "source": [
    "# concating the new transformed column with other categorical columns in data\n",
    "data = pd.concat([data, new_skewed_col], axis = 1, join = 'inner')\n",
    "data"
   ]
  },
  {
   "cell_type": "code",
   "execution_count": 65,
   "id": "a4145698",
   "metadata": {},
   "outputs": [
    {
     "name": "stdout",
     "output_type": "stream",
     "text": [
      "<class 'pandas.core.frame.DataFrame'>\n",
      "RangeIndex: 32560 entries, 0 to 32559\n",
      "Data columns (total 15 columns):\n",
      " #   Column          Non-Null Count  Dtype  \n",
      "---  ------          --------------  -----  \n",
      " 0   Workclass       32560 non-null  object \n",
      " 1   Education       32560 non-null  object \n",
      " 2   Education_num   32560 non-null  int64  \n",
      " 3   Marital_status  32560 non-null  object \n",
      " 4   Occupation      32560 non-null  object \n",
      " 5   Relationship    32560 non-null  object \n",
      " 6   Race            32560 non-null  object \n",
      " 7   Sex             32560 non-null  object \n",
      " 8   Native_country  32560 non-null  object \n",
      " 9   Income          32560 non-null  object \n",
      " 10  Age             32560 non-null  float64\n",
      " 11  Fnlwgt          32560 non-null  float64\n",
      " 12  Capital_gain    32560 non-null  float64\n",
      " 13  Capital_loss    32560 non-null  float64\n",
      " 14  Hours_per_week  32560 non-null  float64\n",
      "dtypes: float64(5), int64(1), object(9)\n",
      "memory usage: 3.7+ MB\n"
     ]
    }
   ],
   "source": [
    "data.info()"
   ]
  },
  {
   "cell_type": "code",
   "execution_count": 66,
   "id": "be04bfbe",
   "metadata": {},
   "outputs": [
    {
     "data": {
      "text/plain": [
       "Workclass         0\n",
       "Education         0\n",
       "Education_num     0\n",
       "Marital_status    0\n",
       "Occupation        0\n",
       "Relationship      0\n",
       "Race              0\n",
       "Sex               0\n",
       "Native_country    0\n",
       "Income            0\n",
       "Age               0\n",
       "Fnlwgt            0\n",
       "Capital_gain      0\n",
       "Capital_loss      0\n",
       "Hours_per_week    0\n",
       "dtype: int64"
      ]
     },
     "execution_count": 66,
     "metadata": {},
     "output_type": "execute_result"
    }
   ],
   "source": [
    "data.isna().sum()"
   ]
  },
  {
   "cell_type": "markdown",
   "id": "04853ee2",
   "metadata": {},
   "source": [
    "## Encoding of object data types column into float."
   ]
  },
  {
   "cell_type": "code",
   "execution_count": 67,
   "id": "6705ccac",
   "metadata": {},
   "outputs": [],
   "source": [
    "# encoding the object data type feature columns into float data type with ordinal encoder &\n",
    "# target column into integer with label encoding \n",
    "ord_enc = OrdinalEncoder()\n",
    "lab_enc = LabelEncoder()\n",
    "data['Workclass'] = ord_enc.fit_transform(data['Workclass'].values.reshape(-1,1))\n",
    "data['Education'] = ord_enc.fit_transform(data['Education'].values.reshape(-1,1))\n",
    "data['Marital_status'] = ord_enc.fit_transform(data['Marital_status'].values.reshape(-1,1))\n",
    "data['Occupation'] = ord_enc.fit_transform(data['Occupation'].values.reshape(-1,1))\n",
    "data['Relationship'] = ord_enc.fit_transform(data['Relationship'].values.reshape(-1,1))\n",
    "data['Race'] = ord_enc.fit_transform(data['Race'].values.reshape(-1,1))\n",
    "data['Sex'] = ord_enc.fit_transform(data['Sex'].values.reshape(-1,1))\n",
    "data['Native_country'] = ord_enc.fit_transform(data['Native_country'].values.reshape(-1,1))\n",
    "data['Income'] = lab_enc.fit_transform(data['Income'])"
   ]
  },
  {
   "cell_type": "code",
   "execution_count": 68,
   "id": "61ebaa5e",
   "metadata": {},
   "outputs": [
    {
     "data": {
      "text/plain": [
       "Workclass         float64\n",
       "Education         float64\n",
       "Education_num       int64\n",
       "Marital_status    float64\n",
       "Occupation        float64\n",
       "Relationship      float64\n",
       "Race              float64\n",
       "Sex               float64\n",
       "Native_country    float64\n",
       "Income              int32\n",
       "Age               float64\n",
       "Fnlwgt            float64\n",
       "Capital_gain      float64\n",
       "Capital_loss      float64\n",
       "Hours_per_week    float64\n",
       "dtype: object"
      ]
     },
     "execution_count": 68,
     "metadata": {},
     "output_type": "execute_result"
    }
   ],
   "source": [
    "data.dtypes"
   ]
  },
  {
   "cell_type": "markdown",
   "id": "afca05bb",
   "metadata": {},
   "source": [
    "All the object data type columns has been transformed into float & integer data type. Now our data set is fit to model building."
   ]
  },
  {
   "cell_type": "markdown",
   "id": "999a13b1",
   "metadata": {},
   "source": [
    "## Data Scaling."
   ]
  },
  {
   "cell_type": "code",
   "execution_count": 69,
   "id": "c58367a3",
   "metadata": {},
   "outputs": [],
   "source": [
    "# splitting the data into features and label column\n",
    "x = data.drop(columns = ['Income'])\n",
    "y = data['Income']"
   ]
  },
  {
   "cell_type": "code",
   "execution_count": 70,
   "id": "3242da38",
   "metadata": {},
   "outputs": [],
   "source": [
    "scaler = MinMaxScaler()\n",
    "x_scaled = scaler.fit_transform(x)"
   ]
  },
  {
   "cell_type": "markdown",
   "id": "e94193df",
   "metadata": {},
   "source": [
    "## Finding the Best Random State."
   ]
  },
  {
   "cell_type": "code",
   "execution_count": 71,
   "id": "b4c390e8",
   "metadata": {},
   "outputs": [
    {
     "name": "stdout",
     "output_type": "stream",
     "text": [
      "Maximum Accuracy is  0.8277027027027027 At Random State  243\n"
     ]
    }
   ],
   "source": [
    "max_accu = 0\n",
    "best_rs = 0\n",
    "\n",
    "for i in range(1,2000):\n",
    "    x_train, x_test, y_train, y_test = train_test_split(x_scaled, y, test_size = 0.30, random_state = i)\n",
    "    log_reg = LogisticRegression()\n",
    "    log_reg.fit(x_train, y_train)\n",
    "    y_pred = log_reg.predict(x_test)\n",
    "    accuracy = accuracy_score(y_test, y_pred)\n",
    "    if accuracy > max_accu:\n",
    "        max_accu = accuracy\n",
    "        best_rs = i\n",
    "print('Maximum Accuracy is ', max_accu, 'At Random State ', best_rs)"
   ]
  },
  {
   "cell_type": "markdown",
   "id": "eded3292",
   "metadata": {},
   "source": [
    "## Creating Train Test Split."
   ]
  },
  {
   "cell_type": "code",
   "execution_count": 72,
   "id": "6e7b74f3",
   "metadata": {},
   "outputs": [],
   "source": [
    "# creating train test split for model building and model testing\n",
    "x_train, x_test, y_train, y_test = train_test_split(x_scaled, y, test_size = 0.30, random_state = 243)"
   ]
  },
  {
   "cell_type": "markdown",
   "id": "642eda6f",
   "metadata": {},
   "source": [
    "Our Exploratery Data Analysis and Preprocessing part is done till here, we have created the train test split, found the best random State and scaled the feature data. Now we will start our model building process we will build 5 models for this data.\n",
    "* Logistic Regression Model\n",
    "* Knn Model\n",
    "* Decision Tree Model\n",
    "* Random Forest Model\n",
    "* Support Vector Machine Model\n",
    "\n",
    "After building the all 5 models we will cross validate it's accuracy and also will plot roc and auc curve to get best model for our data we will compare the minimum difference between model accuracy and cross validation score to the roc auc curve and will decide our best fit model accordingly."
   ]
  },
  {
   "cell_type": "markdown",
   "id": "b28d45b1",
   "metadata": {},
   "source": [
    "# Machine Learning Model Building.\n",
    "\n",
    "### Model 1. Logistic Regression."
   ]
  },
  {
   "cell_type": "code",
   "execution_count": 73,
   "id": "fccecf66",
   "metadata": {},
   "outputs": [
    {
     "name": "stdout",
     "output_type": "stream",
     "text": [
      "Confusion Matrix for Logistic Regression Model is :\n",
      "\n",
      " [[7021  467]\n",
      " [1216 1064]] \n",
      "\n",
      "Accuracy Score for Logistic Regression Model is :\n",
      "\n",
      " 0.8277027027027027 \n",
      "\n",
      "Classification Report for the Logistic Regression :\n",
      "\n",
      "               precision    recall  f1-score   support\n",
      "\n",
      "           0       0.85      0.94      0.89      7488\n",
      "           1       0.69      0.47      0.56      2280\n",
      "\n",
      "    accuracy                           0.83      9768\n",
      "   macro avg       0.77      0.70      0.73      9768\n",
      "weighted avg       0.82      0.83      0.81      9768\n",
      "\n"
     ]
    }
   ],
   "source": [
    "log_reg = LogisticRegression()\n",
    "log_reg.fit(x_train, y_train)\n",
    "y_pred_log = log_reg.predict(x_test)\n",
    "\n",
    "print('Confusion Matrix for Logistic Regression Model is :\\n\\n', confusion_matrix(y_test, y_pred_log),'\\n')\n",
    "\n",
    "print('Accuracy Score for Logistic Regression Model is :\\n\\n', accuracy_score(y_test, y_pred_log),'\\n')\n",
    "\n",
    "print('Classification Report for the Logistic Regression :\\n\\n', classification_report(y_test, y_pred_log))"
   ]
  },
  {
   "cell_type": "markdown",
   "id": "445484ed",
   "metadata": {},
   "source": [
    "### Model 2. Knn Model."
   ]
  },
  {
   "cell_type": "code",
   "execution_count": 74,
   "id": "536e5fc1",
   "metadata": {},
   "outputs": [
    {
     "name": "stdout",
     "output_type": "stream",
     "text": [
      "Confusion Matrix for Knn Model is :\n",
      " [[6702  786]\n",
      " [ 884 1396]] \n",
      "\n",
      "Accuracy Score for Knn Model is :\n",
      " 0.829033579033579 \n",
      "\n",
      "Classification Report for the Knn Model is :\n",
      "               precision    recall  f1-score   support\n",
      "\n",
      "           0       0.88      0.90      0.89      7488\n",
      "           1       0.64      0.61      0.63      2280\n",
      "\n",
      "    accuracy                           0.83      9768\n",
      "   macro avg       0.76      0.75      0.76      9768\n",
      "weighted avg       0.83      0.83      0.83      9768\n",
      " \n",
      "\n"
     ]
    }
   ],
   "source": [
    "knn = KNeighborsClassifier()\n",
    "knn.fit(x_train, y_train)\n",
    "y_pred_knn = knn.predict(x_test)\n",
    "\n",
    "print('Confusion Matrix for Knn Model is :\\n', confusion_matrix(y_test, y_pred_knn),'\\n')\n",
    "print('Accuracy Score for Knn Model is :\\n', accuracy_score(y_test, y_pred_knn),'\\n')\n",
    "print('Classification Report for the Knn Model is :\\n', classification_report(y_test, y_pred_knn),'\\n')"
   ]
  },
  {
   "cell_type": "markdown",
   "id": "90a3671a",
   "metadata": {},
   "source": [
    "### Model 3. Decision Tree Classification."
   ]
  },
  {
   "cell_type": "code",
   "execution_count": 75,
   "id": "c9aa9dc6",
   "metadata": {},
   "outputs": [
    {
     "name": "stdout",
     "output_type": "stream",
     "text": [
      "Confusion Matrix for Decision Tree Model is :\n",
      " [[6488 1000]\n",
      " [ 918 1362]] \n",
      "\n",
      "Accuracy Score for Decision Tree Model is :\n",
      " 0.8036445536445537 \n",
      "\n",
      "Classification Report for Decision Tree Model is :\n",
      "               precision    recall  f1-score   support\n",
      "\n",
      "           0       0.88      0.87      0.87      7488\n",
      "           1       0.58      0.60      0.59      2280\n",
      "\n",
      "    accuracy                           0.80      9768\n",
      "   macro avg       0.73      0.73      0.73      9768\n",
      "weighted avg       0.81      0.80      0.80      9768\n",
      " \n",
      "\n"
     ]
    }
   ],
   "source": [
    "DT = DecisionTreeClassifier()\n",
    "DT.fit(x_train, y_train)\n",
    "y_pred_dt = DT.predict(x_test)\n",
    "\n",
    "print('Confusion Matrix for Decision Tree Model is :\\n', confusion_matrix(y_test, y_pred_dt),'\\n')\n",
    "print('Accuracy Score for Decision Tree Model is :\\n', accuracy_score(y_test, y_pred_dt),'\\n')\n",
    "print('Classification Report for Decision Tree Model is :\\n', classification_report(y_test, y_pred_dt), '\\n')"
   ]
  },
  {
   "cell_type": "markdown",
   "id": "6ae911ca",
   "metadata": {},
   "source": [
    "### Model 4. Random Forest Classification."
   ]
  },
  {
   "cell_type": "code",
   "execution_count": 90,
   "id": "40a1a807",
   "metadata": {},
   "outputs": [
    {
     "name": "stdout",
     "output_type": "stream",
     "text": [
      "Confusion Matrix for Random Forest Model is :\n",
      " [[6984  504]\n",
      " [ 868 1412]] \n",
      "\n",
      "Accuracy Score for Random Forest Model is :\n",
      " 0.8595413595413596 \n",
      "\n",
      "Classification Report for the Random Forest Model is :\n",
      "               precision    recall  f1-score   support\n",
      "\n",
      "           0       0.89      0.93      0.91      7488\n",
      "           1       0.74      0.62      0.67      2280\n",
      "\n",
      "    accuracy                           0.86      9768\n",
      "   macro avg       0.81      0.78      0.79      9768\n",
      "weighted avg       0.85      0.86      0.86      9768\n",
      "\n"
     ]
    }
   ],
   "source": [
    "RF = RandomForestClassifier()\n",
    "RF.fit(x_train, y_train)\n",
    "y_pred_rf = RF.predict(x_test)\n",
    "\n",
    "print('Confusion Matrix for Random Forest Model is :\\n', confusion_matrix(y_test, y_pred_rf),'\\n')\n",
    "print('Accuracy Score for Random Forest Model is :\\n', accuracy_score(y_test, y_pred_rf),'\\n')\n",
    "print('Classification Report for the Random Forest Model is :\\n', classification_report(y_test, y_pred_rf))"
   ]
  },
  {
   "cell_type": "markdown",
   "id": "cc45f7ad",
   "metadata": {},
   "source": [
    "### Model 5. Support Vector Machine Classification."
   ]
  },
  {
   "cell_type": "code",
   "execution_count": 77,
   "id": "d48c1212",
   "metadata": {},
   "outputs": [
    {
     "name": "stdout",
     "output_type": "stream",
     "text": [
      "Confusion Matrix for the Support Vector Model is :\n",
      " [[6962  526]\n",
      " [1032 1248]] \n",
      "\n",
      "Accuracy Score for the Support Vector Model is :\n",
      " 0.8404995904995906 \n",
      "\n",
      "Classification Report for the Support Vector Model is :\n",
      "               precision    recall  f1-score   support\n",
      "\n",
      "           0       0.87      0.93      0.90      7488\n",
      "           1       0.70      0.55      0.62      2280\n",
      "\n",
      "    accuracy                           0.84      9768\n",
      "   macro avg       0.79      0.74      0.76      9768\n",
      "weighted avg       0.83      0.84      0.83      9768\n",
      "\n"
     ]
    }
   ],
   "source": [
    "svc = SVC()\n",
    "svc.fit(x_train, y_train)\n",
    "y_pred_svc = svc.predict(x_test)\n",
    "\n",
    "print('Confusion Matrix for the Support Vector Model is :\\n', confusion_matrix(y_test, y_pred_svc),'\\n')\n",
    "print('Accuracy Score for the Support Vector Model is :\\n', accuracy_score(y_test, y_pred_svc),'\\n')\n",
    "print('Classification Report for the Support Vector Model is :\\n', classification_report(y_test, y_pred_svc))"
   ]
  },
  {
   "cell_type": "markdown",
   "id": "5199969f",
   "metadata": {},
   "source": [
    "Random Forest Classification Model has given the best score which is 85.87%"
   ]
  },
  {
   "cell_type": "markdown",
   "id": "12f71502",
   "metadata": {},
   "source": [
    "# Cross Validation of Models."
   ]
  },
  {
   "cell_type": "code",
   "execution_count": 78,
   "id": "e42fe80b",
   "metadata": {},
   "outputs": [
    {
     "name": "stdout",
     "output_type": "stream",
     "text": [
      "Cross Validation mean score for Logistic Regression model is : 0.8167997542997544\n"
     ]
    }
   ],
   "source": [
    "# cross validation for Logistic Regression Model\n",
    "cvs = cross_val_score(log_reg, x_scaled, y, cv = 10)\n",
    "print('Cross Validation mean score for Logistic Regression model is :', cvs.mean())"
   ]
  },
  {
   "cell_type": "code",
   "execution_count": 79,
   "id": "795737de",
   "metadata": {},
   "outputs": [
    {
     "name": "stdout",
     "output_type": "stream",
     "text": [
      "Cross Validation mean score for K-Nearest Neighbor model is : 0.8248157248157248\n"
     ]
    }
   ],
   "source": [
    "# cross validation for Knn Model\n",
    "cvs = cross_val_score(knn, x_scaled, y, cv = 10)\n",
    "print('Cross Validation mean score for K-Nearest Neighbor model is :', cvs.mean())"
   ]
  },
  {
   "cell_type": "code",
   "execution_count": 80,
   "id": "af2646d0",
   "metadata": {},
   "outputs": [
    {
     "name": "stdout",
     "output_type": "stream",
     "text": [
      "Cross Validation ean score for Decision Tree model is : 0.8039619164619165\n"
     ]
    }
   ],
   "source": [
    "# cross validation for Decision Tree model\n",
    "cvs = cross_val_score(DT, x_scaled, y, cv = 10)\n",
    "print('Cross Validation ean score for Decision Tree model is :', cvs.mean())"
   ]
  },
  {
   "cell_type": "code",
   "execution_count": 81,
   "id": "d55ba69d",
   "metadata": {},
   "outputs": [
    {
     "name": "stdout",
     "output_type": "stream",
     "text": [
      "Cross Validation mean Score for Random Forest Model is : 0.8522727272727273\n"
     ]
    }
   ],
   "source": [
    "# cross validation for Random Forest Model\n",
    "cvs = cross_val_score(RF, x_scaled, y, cv = 10)\n",
    "print('Cross Validation mean Score for Random Forest Model is :', cvs.mean())"
   ]
  },
  {
   "cell_type": "code",
   "execution_count": 82,
   "id": "abf50ab9",
   "metadata": {},
   "outputs": [
    {
     "name": "stdout",
     "output_type": "stream",
     "text": [
      "Cross Validation mean score for Support Vector Classification Model is : 0.837438574938575\n"
     ]
    }
   ],
   "source": [
    "# cross validation for support vector machine model \n",
    "cvs = cross_val_score(svc, x_scaled, y, cv = 10)\n",
    "print('Cross Validation mean score for Support Vector Classification Model is :', cvs.mean())"
   ]
  },
  {
   "attachments": {
    "image.png": {
     "image/png": "[encoded data removed]"
    }
   },
   "cell_type": "markdown",
   "id": "c629c7ff",
   "metadata": {},
   "source": [
    "![image.png](attachment:image.png)\n",
    "\n",
    "Support Vector Classification Model has minimum difference between Model accuracy and Cross Validation Mean score, which is 0.3. Now we will plot roc_auc curve to see which model has highest area under the curve."
   ]
  },
  {
   "cell_type": "markdown",
   "id": "a84586d5",
   "metadata": {},
   "source": [
    "# AUC & ROC Curve."
   ]
  },
  {
   "cell_type": "code",
   "execution_count": 83,
   "id": "8e94f14b",
   "metadata": {},
   "outputs": [
    {
     "data": {
      "image/png": "[encoded data removed]",
      "text/plain": [
       "<Figure size 432x288 with 1 Axes>"
      ]
     },
     "metadata": {},
     "output_type": "display_data"
    }
   ],
   "source": [
    "# Plotting roc_auc_curve\n",
    "\n",
    "disp = plot_roc_curve(log_reg, x_test, y_test)\n",
    "plot_roc_curve(knn, x_test, y_test, ax = disp.ax_)\n",
    "plot_roc_curve(DT, x_test, y_test, ax = disp.ax_)\n",
    "plot_roc_curve(RF, x_test, y_test, ax = disp.ax_)\n",
    "plot_roc_curve(svc, x_test, y_test, ax = disp.ax_)\n",
    "plt.show()"
   ]
  },
  {
   "cell_type": "markdown",
   "id": "86fca977",
   "metadata": {},
   "source": [
    "Random Forest Classifier has the highest AUC score so we are going to finalize Random Forest as our final model and we will hupertune the random forest model."
   ]
  },
  {
   "cell_type": "markdown",
   "id": "5f1c6a09",
   "metadata": {},
   "source": [
    "# Hyperparameter Tuning"
   ]
  },
  {
   "cell_type": "code",
   "execution_count": 84,
   "id": "1511af32",
   "metadata": {},
   "outputs": [],
   "source": [
    "# defining all the important estimators of Random Forest Algorithm for hyper tune the model.\n",
    "param_grid = {'n_estimators' : [10,20,30,40,50,60,70,80,90,100], \n",
    "              'criterion' : ['gini', 'entropy'],\n",
    "              'max_depth' : [2,4,6,8],\n",
    "              'max_features' : ['auto', 'sqrt', 'log2'],\n",
    "              'min_samples_split' : [2,4,6,8],\n",
    "              'min_samples_leaf' : [1,3,5,7]\n",
    "              }"
   ]
  },
  {
   "cell_type": "code",
   "execution_count": 85,
   "id": "d4153240",
   "metadata": {},
   "outputs": [
    {
     "data": {
      "text/plain": [
       "GridSearchCV(cv=5, estimator=RandomForestClassifier(), n_jobs=-1,\n",
       "             param_grid={'criterion': ['gini', 'entropy'],\n",
       "                         'max_depth': [2, 4, 6, 8],\n",
       "                         'max_features': ['auto', 'sqrt', 'log2'],\n",
       "                         'min_samples_leaf': [1, 3, 5, 7],\n",
       "                         'min_samples_split': [2, 4, 6, 8],\n",
       "                         'n_estimators': [10, 20, 30, 40, 50, 60, 70, 80, 90,\n",
       "                                          100]})"
      ]
     },
     "execution_count": 85,
     "metadata": {},
     "output_type": "execute_result"
    }
   ],
   "source": [
    "# Training the grid_search cv with defined estimators to find best parameters to tune the algoithm\n",
    "grid_search = GridSearchCV(estimator = RF, param_grid = param_grid, cv = 5, n_jobs = -1)\n",
    "grid_search.fit(x_train, y_train)"
   ]
  },
  {
   "cell_type": "code",
   "execution_count": 86,
   "id": "7682a03c",
   "metadata": {},
   "outputs": [
    {
     "data": {
      "text/plain": [
       "{'criterion': 'gini',\n",
       " 'max_depth': 8,\n",
       " 'max_features': 'log2',\n",
       " 'min_samples_leaf': 3,\n",
       " 'min_samples_split': 2,\n",
       " 'n_estimators': 20}"
      ]
     },
     "execution_count": 86,
     "metadata": {},
     "output_type": "execute_result"
    }
   ],
   "source": [
    "# getting best parameters \n",
    "grid_search.best_params_"
   ]
  },
  {
   "cell_type": "code",
   "execution_count": 88,
   "id": "7a815450",
   "metadata": {},
   "outputs": [
    {
     "name": "stdout",
     "output_type": "stream",
     "text": [
      "Confusion Matrix for Tuned Random Forest Model is :\n",
      " [[7168  320]\n",
      " [1075 1205]] \n",
      "\n",
      "Accuracy Score for Tuned Random Forest model is :\n",
      " 0.8571867321867321 \n",
      "\n",
      "Classification Report for Tuned Random Forest Model is :\n",
      "               precision    recall  f1-score   support\n",
      "\n",
      "           0       0.87      0.96      0.91      7488\n",
      "           1       0.79      0.53      0.63      2280\n",
      "\n",
      "    accuracy                           0.86      9768\n",
      "   macro avg       0.83      0.74      0.77      9768\n",
      "weighted avg       0.85      0.86      0.85      9768\n",
      "\n"
     ]
    }
   ],
   "source": [
    "# training and testing the random forest model with tuned estimators\n",
    "RFHT = grid_search.best_estimator_\n",
    "RFHT.fit(x_train, y_train)\n",
    "y_pred_rfht = RFHT.predict(x_test)\n",
    "\n",
    "print('Confusion Matrix for Tuned Random Forest Model is :\\n', confusion_matrix(y_test, y_pred_rfht),'\\n')\n",
    "print('Accuracy Score for Tuned Random Forest model is :\\n', accuracy_score(y_test, y_pred_rfht),'\\n')\n",
    "print('Classification Report for Tuned Random Forest Model is :\\n', classification_report(y_test, y_pred_rfht))"
   ]
  },
  {
   "cell_type": "markdown",
   "id": "2fbfdc04",
   "metadata": {},
   "source": [
    "Without tuned Random forest model accuracy is better than tuned random forest model so we are going to save The random forest model with default parameters."
   ]
  },
  {
   "cell_type": "markdown",
   "id": "82b1faae",
   "metadata": {},
   "source": [
    "# Model Saving"
   ]
  },
  {
   "cell_type": "code",
   "execution_count": 91,
   "id": "ab07740c",
   "metadata": {},
   "outputs": [],
   "source": [
    "# saving the model with pickle\n",
    "file_name = 'Census Income Project'\n",
    "pickle.dump(RF, open(file_name, 'wb'))"
   ]
  },
  {
   "cell_type": "markdown",
   "id": "6fef1ca4",
   "metadata": {},
   "source": [
    "# Loading & Predicting with Loaded Model & Conclusion."
   ]
  },
  {
   "cell_type": "code",
   "execution_count": 92,
   "id": "1561515a",
   "metadata": {},
   "outputs": [],
   "source": [
    "loaded_model = pickle.load(open(file_name, 'rb'))\n",
    "Prediction = loaded_model.predict(x_test)"
   ]
  },
  {
   "cell_type": "code",
   "execution_count": 93,
   "id": "353f50dc",
   "metadata": {},
   "outputs": [],
   "source": [
    "Actual = y_test"
   ]
  },
  {
   "cell_type": "markdown",
   "id": "32bec31b",
   "metadata": {},
   "source": [
    "## Conclusion."
   ]
  },
  {
   "cell_type": "code",
   "execution_count": 94,
   "id": "5abf0ca6",
   "metadata": {},
   "outputs": [
    {
     "data": {
      "text/html": [
       "<div>\n",
       "<style scoped>\n",
       "    .dataframe tbody tr th:only-of-type {\n",
       "        vertical-align: middle;\n",
       "    }\n",
       "\n",
       "    .dataframe tbody tr th {\n",
       "        vertical-align: top;\n",
       "    }\n",
       "\n",
       "    .dataframe thead th {\n",
       "        text-align: right;\n",
       "    }\n",
       "</style>\n",
       "<table border=\"1\" class=\"dataframe\">\n",
       "  <thead>\n",
       "    <tr style=\"text-align: right;\">\n",
       "      <th></th>\n",
       "      <th>0</th>\n",
       "      <th>1</th>\n",
       "      <th>2</th>\n",
       "      <th>3</th>\n",
       "      <th>4</th>\n",
       "      <th>5</th>\n",
       "      <th>6</th>\n",
       "      <th>7</th>\n",
       "      <th>8</th>\n",
       "      <th>9</th>\n",
       "      <th>...</th>\n",
       "      <th>9758</th>\n",
       "      <th>9759</th>\n",
       "      <th>9760</th>\n",
       "      <th>9761</th>\n",
       "      <th>9762</th>\n",
       "      <th>9763</th>\n",
       "      <th>9764</th>\n",
       "      <th>9765</th>\n",
       "      <th>9766</th>\n",
       "      <th>9767</th>\n",
       "    </tr>\n",
       "  </thead>\n",
       "  <tbody>\n",
       "    <tr>\n",
       "      <th>Prediction</th>\n",
       "      <td>1</td>\n",
       "      <td>1</td>\n",
       "      <td>0</td>\n",
       "      <td>0</td>\n",
       "      <td>0</td>\n",
       "      <td>0</td>\n",
       "      <td>0</td>\n",
       "      <td>0</td>\n",
       "      <td>0</td>\n",
       "      <td>1</td>\n",
       "      <td>...</td>\n",
       "      <td>1</td>\n",
       "      <td>0</td>\n",
       "      <td>1</td>\n",
       "      <td>0</td>\n",
       "      <td>0</td>\n",
       "      <td>0</td>\n",
       "      <td>0</td>\n",
       "      <td>0</td>\n",
       "      <td>0</td>\n",
       "      <td>0</td>\n",
       "    </tr>\n",
       "    <tr>\n",
       "      <th>Actual</th>\n",
       "      <td>1</td>\n",
       "      <td>1</td>\n",
       "      <td>0</td>\n",
       "      <td>0</td>\n",
       "      <td>0</td>\n",
       "      <td>0</td>\n",
       "      <td>0</td>\n",
       "      <td>0</td>\n",
       "      <td>0</td>\n",
       "      <td>0</td>\n",
       "      <td>...</td>\n",
       "      <td>1</td>\n",
       "      <td>0</td>\n",
       "      <td>1</td>\n",
       "      <td>0</td>\n",
       "      <td>0</td>\n",
       "      <td>0</td>\n",
       "      <td>1</td>\n",
       "      <td>0</td>\n",
       "      <td>0</td>\n",
       "      <td>0</td>\n",
       "    </tr>\n",
       "  </tbody>\n",
       "</table>\n",
       "<p>2 rows × 9768 columns</p>\n",
       "</div>"
      ],
      "text/plain": [
       "            0     1     2     3     4     5     6     7     8     9     ...  \\\n",
       "Prediction     1     1     0     0     0     0     0     0     0     1  ...   \n",
       "Actual         1     1     0     0     0     0     0     0     0     0  ...   \n",
       "\n",
       "            9758  9759  9760  9761  9762  9763  9764  9765  9766  9767  \n",
       "Prediction     1     0     1     0     0     0     0     0     0     0  \n",
       "Actual         1     0     1     0     0     0     1     0     0     0  \n",
       "\n",
       "[2 rows x 9768 columns]"
      ]
     },
     "execution_count": 94,
     "metadata": {},
     "output_type": "execute_result"
    }
   ],
   "source": [
    "# making data frame of predicted values and actual values\n",
    "DF = pd.DataFrame([Prediction, Actual], index = ['Prediction', 'Actual'])\n",
    "DF"
   ]
  },
  {
   "cell_type": "markdown",
   "id": "742a6396",
   "metadata": {},
   "source": [
    "The above Conclusion represents the accuracy of our model comparaing the predicted values and Actual values."
   ]
  },
  {
   "attachments": {
    "thank-you-hand-drawn-lettering-260nw-780491263.jpg": {
     "image/jpeg": "[encoded data removed]"
    }
   },
   "cell_type": "markdown",
   "id": "48ae4ac0",
   "metadata": {},
   "source": [
    "# Finished.\n",
    "We have saved the model and predicted the test dataset with the Loaded Model. Than we have made a Data Frame of the Actual values and Predicted values with the loaded for a conclusion. Here we have finished the Model Building.\n",
    "![thank-you-hand-drawn-lettering-260nw-780491263.jpg](attachment:thank-you-hand-drawn-lettering-260nw-780491263.jpg)"
   ]
  },
  {
   "cell_type": "code",
   "execution_count": null,
   "id": "78a7022f",
   "metadata": {},
   "outputs": [],
   "source": []
  }
 ],
 "metadata": {
  "kernelspec": {
   "display_name": "Python 3",
   "language": "python",
   "name": "python3"
  },
  "language_info": {
   "codemirror_mode": {
    "name": "ipython",
    "version": 3
   },
   "file_extension": ".py",
   "mimetype": "text/x-python",
   "name": "python",
   "nbconvert_exporter": "python",
   "pygments_lexer": "ipython3",
   "version": "3.8.8"
  }
 },
 "nbformat": 4,
 "nbformat_minor": 5
}
